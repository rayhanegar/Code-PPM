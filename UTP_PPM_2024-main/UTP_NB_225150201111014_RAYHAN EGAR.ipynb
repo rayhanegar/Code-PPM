{
  "cells": [
    {
      "cell_type": "markdown",
      "metadata": {
        "id": "vNtUqRcjVIWq"
      },
      "source": [
        "# UTP PPM 2024\n",
        "\n",
        "---\n",
        "\n"
      ]
    },
    {
      "cell_type": "markdown",
      "metadata": {
        "id": "GnE-21MiVTlY"
      },
      "source": [
        "# Naive Bayes Classifier\n",
        "\n",
        "Tuliskan Nama, NIM, dan kelas Anda:\n",
        "\n",
        "Nama : Rayhan Egar Sadtya Nugraha\n",
        "\n",
        "NIM : 225150201111014\n",
        "\n",
        "Kelas : PPM-D"
      ]
    },
    {
      "cell_type": "markdown",
      "metadata": {
        "id": "6K20P0lwVsWk"
      },
      "source": [
        "# Data Loading dan Data Inspection"
      ]
    },
    {
      "cell_type": "markdown",
      "metadata": {
        "id": "cwq_HFiubxa7"
      },
      "source": [
        "## Data Loading"
      ]
    },
    {
      "cell_type": "code",
      "execution_count": null,
      "metadata": {
        "id": "Uh6Mj443V92S"
      },
      "outputs": [],
      "source": [
        "from google.colab import files\n",
        "\n",
        "files.upload()"
      ]
    },
    {
      "cell_type": "code",
      "execution_count": null,
      "metadata": {
        "id": "c2X43Jf1YK56"
      },
      "outputs": [],
      "source": [
        "# Baca data menggunakan Pandas\n",
        "\n",
        "import pandas as pd\n",
        "\n",
        "df = ..."
      ]
    },
    {
      "cell_type": "markdown",
      "metadata": {
        "id": "hwJNzb3hb1OG"
      },
      "source": [
        "## Data Inspection"
      ]
    },
    {
      "cell_type": "code",
      "execution_count": null,
      "metadata": {
        "colab": {
          "base_uri": "https://localhost:8080/",
          "height": 363
        },
        "id": "Ezy6emyqYZp5",
        "outputId": "2088be97-9047-4f17-ff28-3862c5175c74"
      },
      "outputs": [],
      "source": [
        "df.iloc[:10, :-10]"
      ]
    },
    {
      "cell_type": "code",
      "execution_count": null,
      "metadata": {
        "colab": {
          "base_uri": "https://localhost:8080/",
          "height": 363
        },
        "id": "XZS4pdFpYvq4",
        "outputId": "00defd01-c16e-4e1f-c909-a0abfe04ce2a"
      },
      "outputs": [],
      "source": [
        "df.iloc[:10, 10:]"
      ]
    },
    {
      "cell_type": "code",
      "execution_count": null,
      "metadata": {
        "colab": {
          "base_uri": "https://localhost:8080/"
        },
        "id": "xZOWCL2xdUvv",
        "outputId": "89640d1b-25b8-4031-e0f8-8fe06d3ba443"
      },
      "outputs": [],
      "source": [
        "df.info()"
      ]
    },
    {
      "cell_type": "code",
      "execution_count": null,
      "metadata": {
        "id": "Wtgbs3u8aH3J"
      },
      "outputs": [],
      "source": [
        "# Uji normalitas data kontinu dengan melakukan plotting setiap kelas yang ada\n",
        "\n",
        "import matplotlib.pyplot as plt\n",
        "import seaborn as sns\n",
        "import numpy as np\n",
        "\n",
        "def plot_distribusi(dataframe, column_list, class_column):\n",
        "  for column in column_list:\n",
        "    ...\n",
        "\n",
        "\n",
        "plot_distribusi(...)"
      ]
    },
    {
      "cell_type": "code",
      "execution_count": null,
      "metadata": {
        "id": "oUSx4Norfmb0"
      },
      "outputs": [],
      "source": [
        "# Cek distribusi target kelas\n",
        "\n",
        "sns.countplot(...)"
      ]
    },
    {
      "cell_type": "markdown",
      "metadata": {
        "id": "gSdjwWxKf_Dy"
      },
      "source": [
        "# Imbalance Handling\n",
        "\n",
        "Jika dirasa perlu, lakukan imbalance handling menggunakan metode Oversampling, Undersampling, SMOTE, ataupun metode lainnya untuk meratakan distribusi target kelas\n",
        "\n"
      ]
    },
    {
      "cell_type": "code",
      "execution_count": null,
      "metadata": {
        "id": "khvYISkXgDCl"
      },
      "outputs": [],
      "source": [
        "from imblearn.over_sampling import SMOTENC, RandomOverSampler\n",
        "from imblearn.under_sampling import RandomUnderSampler\n",
        "\n",
        "..."
      ]
    },
    {
      "cell_type": "markdown",
      "metadata": {
        "id": "75Iu4GHuJtYf"
      },
      "source": [
        "# Pemrosesan Awal Data Kontinu"
      ]
    },
    {
      "cell_type": "markdown",
      "metadata": {
        "id": "G3cXUyQkJ0ZO"
      },
      "source": [
        "## Standard Scaling"
      ]
    },
    {
      "cell_type": "code",
      "execution_count": null,
      "metadata": {
        "id": "KHWuyR66Jm3X"
      },
      "outputs": [],
      "source": [
        "def standarisasi(df):\n",
        "  ...\n",
        "\n",
        "std_df = standarisasi(df)"
      ]
    },
    {
      "cell_type": "markdown",
      "metadata": {
        "id": "KtujDINJJ3pJ"
      },
      "source": [
        "## Normalization"
      ]
    },
    {
      "cell_type": "code",
      "execution_count": null,
      "metadata": {
        "id": "2_4xVjmAJ3OO"
      },
      "outputs": [],
      "source": [
        "def normalisasi(df):\n",
        "  ...\n",
        "\n",
        "norm_df = normalisasi(df)"
      ]
    },
    {
      "cell_type": "markdown",
      "metadata": {
        "id": "gHY_ThRvKrd9"
      },
      "source": [
        "# Modeling\n",
        "\n",
        "Pemodelan dilakukan dengan penggabungan konsep Gaussian Naive Bayes dengan Multinomial Naive Bayes. Tidak diperbolehkan untuk melakukan rekayasa fitur dengan binning."
      ]
    },
    {
      "cell_type": "markdown",
      "metadata": {
        "id": "nHixxVxiLAOD"
      },
      "source": [
        "## Splitting Dataset"
      ]
    },
    {
      "cell_type": "code",
      "execution_count": null,
      "metadata": {
        "id": "CGdZSlNZLCll"
      },
      "outputs": [],
      "source": [
        "from sklearn.model_selection import train_test_split\n",
        "\n",
        "data_latih, data_uji = train_test_split(..., test_size=.0.3, random_state=101)\n",
        "\n",
        "norm_data_latih, norm_data_uji = data_latih.copy(), data_uji.copy()\n",
        "norm_label_uji = norm_data_uji.pop('class')\n",
        "\n",
        "std_data_latih, std_data_uji = data_latih.copy(), data_uji.copy()\n",
        "std_label_uji = std_data_uji.pop('class')"
      ]
    },
    {
      "cell_type": "markdown",
      "metadata": {
        "id": "lnHPJOSZLbBv"
      },
      "source": [
        "## Perhitungan Prior"
      ]
    },
    {
      "cell_type": "code",
      "execution_count": null,
      "metadata": {
        "id": "RHfflGMmKx3F"
      },
      "outputs": [],
      "source": [
        "from collections import Counter\n",
        "\n",
        "def hitung_prior(list_kelas):\n",
        "  ..."
      ]
    },
    {
      "cell_type": "markdown",
      "metadata": {
        "id": "FTDI1P1_MIkm"
      },
      "source": [
        "## Menghitungan likelihood gaussian dan multinomial"
      ]
    },
    {
      "cell_type": "code",
      "execution_count": null,
      "metadata": {
        "id": "D7_OdiCoMBC0"
      },
      "outputs": [],
      "source": [
        "def hitung_mean_std_kelas(input_data):\n",
        "  ...\n",
        "\n",
        "def likelihood_gaussian(input_data):\n",
        "  ...\n",
        "\n",
        "def likelihood_multinomial(input_data):\n",
        "  ..."
      ]
    },
    {
      "cell_type": "markdown",
      "metadata": {
        "id": "AGADREzDMgNB"
      },
      "source": [
        "## Training Naive Bayes"
      ]
    },
    {
      "cell_type": "code",
      "execution_count": null,
      "metadata": {
        "id": "Ea2stMtgMeDN"
      },
      "outputs": [],
      "source": [
        "def training_naive_bayes(data_latih):\n",
        "  ...\n"
      ]
    },
    {
      "cell_type": "markdown",
      "metadata": {
        "id": "GzJ7jRavOFDR"
      },
      "source": [
        "## Testing Naive Bayes"
      ]
    },
    {
      "cell_type": "code",
      "execution_count": null,
      "metadata": {
        "id": "cGSXxyqAOEsv"
      },
      "outputs": [],
      "source": [
        "def testing_naive_bayes(model, data_uji):\n",
        "  ..."
      ]
    },
    {
      "cell_type": "markdown",
      "metadata": {
        "id": "ZHc8xAQdORnq"
      },
      "source": [
        "# Analisis Klasifikasi"
      ]
    },
    {
      "cell_type": "markdown",
      "metadata": {
        "id": "XSoBXfMJOhJm"
      },
      "source": [
        "## Dataset Standarisasi"
      ]
    },
    {
      "cell_type": "markdown",
      "metadata": {
        "id": "A2bqacVZPW4s"
      },
      "source": [
        "### Training Naive Bayes"
      ]
    },
    {
      "cell_type": "code",
      "execution_count": null,
      "metadata": {
        "id": "fZeYxcctPt9T"
      },
      "outputs": [],
      "source": [
        "model_std = training_naive_bayes(...)"
      ]
    },
    {
      "cell_type": "markdown",
      "metadata": {
        "id": "rAIgGFpvPZiA"
      },
      "source": [
        "### Evaluasi Prediksi"
      ]
    },
    {
      "cell_type": "code",
      "execution_count": null,
      "metadata": {
        "id": "gsyFKLi6Oz2I"
      },
      "outputs": [],
      "source": [
        "prediksi_total_std =[]\n",
        "for indeks in range(tugas_uji.shape[0]):\n",
        "  prediksi_total_std.append(testing_naive_bayes(model_std,std_data_uji.iloc[indeks]))\n",
        "print(\"Total prediksi benar: \",sum(prediksi_total_std==std_label_uji))"
      ]
    },
    {
      "cell_type": "markdown",
      "metadata": {
        "id": "DW9aadzCO6uo"
      },
      "source": [
        "## Dataset Normalisasi"
      ]
    },
    {
      "cell_type": "markdown",
      "metadata": {
        "id": "soRb4ctlPcMB"
      },
      "source": [
        "### Training Naive Bayes"
      ]
    },
    {
      "cell_type": "code",
      "execution_count": null,
      "metadata": {
        "id": "vI-4KHnZPmxr"
      },
      "outputs": [],
      "source": [
        "model_norm = training_naive_bayes(...)"
      ]
    },
    {
      "cell_type": "markdown",
      "metadata": {
        "id": "1mE9IcqsPisB"
      },
      "source": [
        "### Evaluasi Prediksi"
      ]
    },
    {
      "cell_type": "code",
      "execution_count": null,
      "metadata": {
        "id": "jlS0cHvLOVMG"
      },
      "outputs": [],
      "source": [
        "prediksi_total_norm =[]\n",
        "for indeks in range(norm_data_uji.shape[0]):\n",
        "  prediksi_total_norm.append(testing_naive_bayes(model_norm, norm_data_uji.iloc[indeks]))\n",
        "print(\"Total prediksi benar: \",sum(prediksi_total_norm==norm_label_uji))"
      ]
    },
    {
      "cell_type": "markdown",
      "metadata": {
        "id": "LFsEDEChQ6hk"
      },
      "source": [
        "# Kesimpulan\n",
        "\n",
        "Soal\n",
        "\n",
        "1. Apakah data kontinu dalam dataset menunjukkan kecenderungan distribusi normal?\n",
        "\n",
        "2. Jika anda melakukan imbalance handling, mengapa hal tersebut perlu dilakukan?\n",
        "\n",
        "3. Dalam hasil percobaan diatas, apakah efek dari standarisasi/normalisasi yang dilakukan terhadap data?\n",
        "\n",
        "4. Dalam kasus yang diberikan, apakah model hybrid multinomial dan gaussian sudah optimal? Pengembangan apa saja yang dapat dilakukan?\n",
        "\n",
        "Jawaban\n",
        "\n",
        "1.\n",
        "\n",
        "2.\n",
        "\n",
        "3.\n",
        "\n",
        "4."
      ]
    }
  ],
  "metadata": {
    "colab": {
      "provenance": []
    },
    "kernelspec": {
      "display_name": "Python 3",
      "name": "python3"
    },
    "language_info": {
      "name": "python"
    }
  },
  "nbformat": 4,
  "nbformat_minor": 0
}
