{
 "cells": [
  {
   "cell_type": "markdown",
   "metadata": {},
   "source": [
    "# UTP PPM 2024\n",
    "---------------\n",
    "# KNN"
   ]
  },
  {
   "cell_type": "markdown",
   "metadata": {},
   "source": [
    "Tuliskan Nama, NIM, dan kelas Anda:\n",
    "\n",
    "Nama  : Rayhan Egar Sadtya Nugraha\n",
    "\n",
    "NIM   : 225150201111014\n",
    "\n",
    "Kelas : PPM-D"
   ]
  },
  {
   "cell_type": "markdown",
   "metadata": {},
   "source": [
    "# Import Dependencies"
   ]
  },
  {
   "cell_type": "code",
   "execution_count": 2,
   "metadata": {},
   "outputs": [],
   "source": [
    "import numpy as np\n",
    "import pandas as pd\n",
    "import seaborn as sns\n",
    "from collections import Counter\n",
    "import matplotlib.pyplot as plt\n",
    "from sklearn.metrics import accuracy_score\n",
    "from sklearn.model_selection import train_test_split"
   ]
  },
  {
   "cell_type": "markdown",
   "metadata": {},
   "source": [
    "# Dataset"
   ]
  },
  {
   "cell_type": "markdown",
   "metadata": {},
   "source": [
    "Dataset: https://www.kaggle.com/datasets/uciml/red-wine-quality-cortez-et-al-2009/data\n",
    "\n",
    "Link alternatif: https://drive.google.com/file/d/1Fg-FAxEP4XtlJJeyj_ktExBhFV0ulIQV/view"
   ]
  },
  {
   "cell_type": "code",
   "execution_count": 20,
   "metadata": {},
   "outputs": [
    {
     "name": "stderr",
     "output_type": "stream",
     "text": [
      "'https://docs.google.com/uc?export=download: Scheme missing.\n",
      "'id' is not recognized as an internal or external command,\n",
      "operable program or batch file.\n"
     ]
    }
   ],
   "source": [
    "!wget --no-check-certificate 'https://docs.google.com/uc?export=download&id=1Fg-FAxEP4XtlJJeyj_ktExBhFV0ulIQV' -O winequality-red.csv"
   ]
  },
  {
   "cell_type": "code",
   "execution_count": 8,
   "metadata": {},
   "outputs": [
    {
     "data": {
      "text/html": [
       "<div>\n",
       "<style scoped>\n",
       "    .dataframe tbody tr th:only-of-type {\n",
       "        vertical-align: middle;\n",
       "    }\n",
       "\n",
       "    .dataframe tbody tr th {\n",
       "        vertical-align: top;\n",
       "    }\n",
       "\n",
       "    .dataframe thead th {\n",
       "        text-align: right;\n",
       "    }\n",
       "</style>\n",
       "<table border=\"1\" class=\"dataframe\">\n",
       "  <thead>\n",
       "    <tr style=\"text-align: right;\">\n",
       "      <th></th>\n",
       "      <th>fixed acidity</th>\n",
       "      <th>volatile acidity</th>\n",
       "      <th>citric acid</th>\n",
       "      <th>residual sugar</th>\n",
       "      <th>chlorides</th>\n",
       "      <th>free sulfur dioxide</th>\n",
       "      <th>total sulfur dioxide</th>\n",
       "      <th>density</th>\n",
       "      <th>pH</th>\n",
       "      <th>sulphates</th>\n",
       "      <th>alcohol</th>\n",
       "      <th>quality</th>\n",
       "    </tr>\n",
       "  </thead>\n",
       "  <tbody>\n",
       "    <tr>\n",
       "      <th>0</th>\n",
       "      <td>7.4</td>\n",
       "      <td>0.70</td>\n",
       "      <td>0.00</td>\n",
       "      <td>1.9</td>\n",
       "      <td>0.076</td>\n",
       "      <td>11.0</td>\n",
       "      <td>34.0</td>\n",
       "      <td>0.9978</td>\n",
       "      <td>3.51</td>\n",
       "      <td>0.56</td>\n",
       "      <td>9.4</td>\n",
       "      <td>5</td>\n",
       "    </tr>\n",
       "    <tr>\n",
       "      <th>1</th>\n",
       "      <td>7.8</td>\n",
       "      <td>0.88</td>\n",
       "      <td>0.00</td>\n",
       "      <td>2.6</td>\n",
       "      <td>0.098</td>\n",
       "      <td>25.0</td>\n",
       "      <td>67.0</td>\n",
       "      <td>0.9968</td>\n",
       "      <td>3.20</td>\n",
       "      <td>0.68</td>\n",
       "      <td>9.8</td>\n",
       "      <td>5</td>\n",
       "    </tr>\n",
       "    <tr>\n",
       "      <th>2</th>\n",
       "      <td>7.8</td>\n",
       "      <td>0.76</td>\n",
       "      <td>0.04</td>\n",
       "      <td>2.3</td>\n",
       "      <td>0.092</td>\n",
       "      <td>15.0</td>\n",
       "      <td>54.0</td>\n",
       "      <td>0.9970</td>\n",
       "      <td>3.26</td>\n",
       "      <td>0.65</td>\n",
       "      <td>9.8</td>\n",
       "      <td>5</td>\n",
       "    </tr>\n",
       "    <tr>\n",
       "      <th>3</th>\n",
       "      <td>11.2</td>\n",
       "      <td>0.28</td>\n",
       "      <td>0.56</td>\n",
       "      <td>1.9</td>\n",
       "      <td>0.075</td>\n",
       "      <td>17.0</td>\n",
       "      <td>60.0</td>\n",
       "      <td>0.9980</td>\n",
       "      <td>3.16</td>\n",
       "      <td>0.58</td>\n",
       "      <td>9.8</td>\n",
       "      <td>6</td>\n",
       "    </tr>\n",
       "    <tr>\n",
       "      <th>4</th>\n",
       "      <td>7.4</td>\n",
       "      <td>0.70</td>\n",
       "      <td>0.00</td>\n",
       "      <td>1.9</td>\n",
       "      <td>0.076</td>\n",
       "      <td>11.0</td>\n",
       "      <td>34.0</td>\n",
       "      <td>0.9978</td>\n",
       "      <td>3.51</td>\n",
       "      <td>0.56</td>\n",
       "      <td>9.4</td>\n",
       "      <td>5</td>\n",
       "    </tr>\n",
       "  </tbody>\n",
       "</table>\n",
       "</div>"
      ],
      "text/plain": [
       "   fixed acidity  volatile acidity  citric acid  residual sugar  chlorides  \\\n",
       "0            7.4              0.70         0.00             1.9      0.076   \n",
       "1            7.8              0.88         0.00             2.6      0.098   \n",
       "2            7.8              0.76         0.04             2.3      0.092   \n",
       "3           11.2              0.28         0.56             1.9      0.075   \n",
       "4            7.4              0.70         0.00             1.9      0.076   \n",
       "\n",
       "   free sulfur dioxide  total sulfur dioxide  density    pH  sulphates  \\\n",
       "0                 11.0                  34.0   0.9978  3.51       0.56   \n",
       "1                 25.0                  67.0   0.9968  3.20       0.68   \n",
       "2                 15.0                  54.0   0.9970  3.26       0.65   \n",
       "3                 17.0                  60.0   0.9980  3.16       0.58   \n",
       "4                 11.0                  34.0   0.9978  3.51       0.56   \n",
       "\n",
       "   alcohol  quality  \n",
       "0      9.4        5  \n",
       "1      9.8        5  \n",
       "2      9.8        5  \n",
       "3      9.8        6  \n",
       "4      9.4        5  "
      ]
     },
     "execution_count": 8,
     "metadata": {},
     "output_type": "execute_result"
    }
   ],
   "source": [
    "data = pd.read_csv('winequality-red.csv')\n",
    "data.head(5)\n",
    "# data['quality'].value_counts()"
   ]
  },
  {
   "cell_type": "code",
   "execution_count": 4,
   "metadata": {},
   "outputs": [
    {
     "name": "stdout",
     "output_type": "stream",
     "text": [
      "<class 'pandas.core.frame.DataFrame'>\n",
      "RangeIndex: 1599 entries, 0 to 1598\n",
      "Data columns (total 12 columns):\n",
      " #   Column                Non-Null Count  Dtype  \n",
      "---  ------                --------------  -----  \n",
      " 0   fixed acidity         1599 non-null   float64\n",
      " 1   volatile acidity      1599 non-null   float64\n",
      " 2   citric acid           1599 non-null   float64\n",
      " 3   residual sugar        1599 non-null   float64\n",
      " 4   chlorides             1599 non-null   float64\n",
      " 5   free sulfur dioxide   1599 non-null   float64\n",
      " 6   total sulfur dioxide  1599 non-null   float64\n",
      " 7   density               1599 non-null   float64\n",
      " 8   pH                    1599 non-null   float64\n",
      " 9   sulphates             1599 non-null   float64\n",
      " 10  alcohol               1599 non-null   float64\n",
      " 11  quality               1599 non-null   int64  \n",
      "dtypes: float64(11), int64(1)\n",
      "memory usage: 150.0 KB\n"
     ]
    },
    {
     "data": {
      "text/html": [
       "<div>\n",
       "<style scoped>\n",
       "    .dataframe tbody tr th:only-of-type {\n",
       "        vertical-align: middle;\n",
       "    }\n",
       "\n",
       "    .dataframe tbody tr th {\n",
       "        vertical-align: top;\n",
       "    }\n",
       "\n",
       "    .dataframe thead th {\n",
       "        text-align: right;\n",
       "    }\n",
       "</style>\n",
       "<table border=\"1\" class=\"dataframe\">\n",
       "  <thead>\n",
       "    <tr style=\"text-align: right;\">\n",
       "      <th></th>\n",
       "      <th>fixed acidity</th>\n",
       "      <th>volatile acidity</th>\n",
       "      <th>citric acid</th>\n",
       "      <th>residual sugar</th>\n",
       "      <th>chlorides</th>\n",
       "      <th>free sulfur dioxide</th>\n",
       "      <th>total sulfur dioxide</th>\n",
       "      <th>density</th>\n",
       "      <th>pH</th>\n",
       "      <th>sulphates</th>\n",
       "      <th>alcohol</th>\n",
       "      <th>quality</th>\n",
       "    </tr>\n",
       "  </thead>\n",
       "  <tbody>\n",
       "    <tr>\n",
       "      <th>count</th>\n",
       "      <td>1599.000000</td>\n",
       "      <td>1599.000000</td>\n",
       "      <td>1599.000000</td>\n",
       "      <td>1599.000000</td>\n",
       "      <td>1599.000000</td>\n",
       "      <td>1599.000000</td>\n",
       "      <td>1599.000000</td>\n",
       "      <td>1599.000000</td>\n",
       "      <td>1599.000000</td>\n",
       "      <td>1599.000000</td>\n",
       "      <td>1599.000000</td>\n",
       "      <td>1599.000000</td>\n",
       "    </tr>\n",
       "    <tr>\n",
       "      <th>mean</th>\n",
       "      <td>8.319637</td>\n",
       "      <td>0.527821</td>\n",
       "      <td>0.270976</td>\n",
       "      <td>2.538806</td>\n",
       "      <td>0.087467</td>\n",
       "      <td>15.874922</td>\n",
       "      <td>46.467792</td>\n",
       "      <td>0.996747</td>\n",
       "      <td>3.311113</td>\n",
       "      <td>0.658149</td>\n",
       "      <td>10.422983</td>\n",
       "      <td>5.636023</td>\n",
       "    </tr>\n",
       "    <tr>\n",
       "      <th>std</th>\n",
       "      <td>1.741096</td>\n",
       "      <td>0.179060</td>\n",
       "      <td>0.194801</td>\n",
       "      <td>1.409928</td>\n",
       "      <td>0.047065</td>\n",
       "      <td>10.460157</td>\n",
       "      <td>32.895324</td>\n",
       "      <td>0.001887</td>\n",
       "      <td>0.154386</td>\n",
       "      <td>0.169507</td>\n",
       "      <td>1.065668</td>\n",
       "      <td>0.807569</td>\n",
       "    </tr>\n",
       "    <tr>\n",
       "      <th>min</th>\n",
       "      <td>4.600000</td>\n",
       "      <td>0.120000</td>\n",
       "      <td>0.000000</td>\n",
       "      <td>0.900000</td>\n",
       "      <td>0.012000</td>\n",
       "      <td>1.000000</td>\n",
       "      <td>6.000000</td>\n",
       "      <td>0.990070</td>\n",
       "      <td>2.740000</td>\n",
       "      <td>0.330000</td>\n",
       "      <td>8.400000</td>\n",
       "      <td>3.000000</td>\n",
       "    </tr>\n",
       "    <tr>\n",
       "      <th>25%</th>\n",
       "      <td>7.100000</td>\n",
       "      <td>0.390000</td>\n",
       "      <td>0.090000</td>\n",
       "      <td>1.900000</td>\n",
       "      <td>0.070000</td>\n",
       "      <td>7.000000</td>\n",
       "      <td>22.000000</td>\n",
       "      <td>0.995600</td>\n",
       "      <td>3.210000</td>\n",
       "      <td>0.550000</td>\n",
       "      <td>9.500000</td>\n",
       "      <td>5.000000</td>\n",
       "    </tr>\n",
       "    <tr>\n",
       "      <th>50%</th>\n",
       "      <td>7.900000</td>\n",
       "      <td>0.520000</td>\n",
       "      <td>0.260000</td>\n",
       "      <td>2.200000</td>\n",
       "      <td>0.079000</td>\n",
       "      <td>14.000000</td>\n",
       "      <td>38.000000</td>\n",
       "      <td>0.996750</td>\n",
       "      <td>3.310000</td>\n",
       "      <td>0.620000</td>\n",
       "      <td>10.200000</td>\n",
       "      <td>6.000000</td>\n",
       "    </tr>\n",
       "    <tr>\n",
       "      <th>75%</th>\n",
       "      <td>9.200000</td>\n",
       "      <td>0.640000</td>\n",
       "      <td>0.420000</td>\n",
       "      <td>2.600000</td>\n",
       "      <td>0.090000</td>\n",
       "      <td>21.000000</td>\n",
       "      <td>62.000000</td>\n",
       "      <td>0.997835</td>\n",
       "      <td>3.400000</td>\n",
       "      <td>0.730000</td>\n",
       "      <td>11.100000</td>\n",
       "      <td>6.000000</td>\n",
       "    </tr>\n",
       "    <tr>\n",
       "      <th>max</th>\n",
       "      <td>15.900000</td>\n",
       "      <td>1.580000</td>\n",
       "      <td>1.000000</td>\n",
       "      <td>15.500000</td>\n",
       "      <td>0.611000</td>\n",
       "      <td>72.000000</td>\n",
       "      <td>289.000000</td>\n",
       "      <td>1.003690</td>\n",
       "      <td>4.010000</td>\n",
       "      <td>2.000000</td>\n",
       "      <td>14.900000</td>\n",
       "      <td>8.000000</td>\n",
       "    </tr>\n",
       "  </tbody>\n",
       "</table>\n",
       "</div>"
      ],
      "text/plain": [
       "       fixed acidity  volatile acidity  citric acid  residual sugar  \\\n",
       "count    1599.000000       1599.000000  1599.000000     1599.000000   \n",
       "mean        8.319637          0.527821     0.270976        2.538806   \n",
       "std         1.741096          0.179060     0.194801        1.409928   \n",
       "min         4.600000          0.120000     0.000000        0.900000   \n",
       "25%         7.100000          0.390000     0.090000        1.900000   \n",
       "50%         7.900000          0.520000     0.260000        2.200000   \n",
       "75%         9.200000          0.640000     0.420000        2.600000   \n",
       "max        15.900000          1.580000     1.000000       15.500000   \n",
       "\n",
       "         chlorides  free sulfur dioxide  total sulfur dioxide      density  \\\n",
       "count  1599.000000          1599.000000           1599.000000  1599.000000   \n",
       "mean      0.087467            15.874922             46.467792     0.996747   \n",
       "std       0.047065            10.460157             32.895324     0.001887   \n",
       "min       0.012000             1.000000              6.000000     0.990070   \n",
       "25%       0.070000             7.000000             22.000000     0.995600   \n",
       "50%       0.079000            14.000000             38.000000     0.996750   \n",
       "75%       0.090000            21.000000             62.000000     0.997835   \n",
       "max       0.611000            72.000000            289.000000     1.003690   \n",
       "\n",
       "                pH    sulphates      alcohol      quality  \n",
       "count  1599.000000  1599.000000  1599.000000  1599.000000  \n",
       "mean      3.311113     0.658149    10.422983     5.636023  \n",
       "std       0.154386     0.169507     1.065668     0.807569  \n",
       "min       2.740000     0.330000     8.400000     3.000000  \n",
       "25%       3.210000     0.550000     9.500000     5.000000  \n",
       "50%       3.310000     0.620000    10.200000     6.000000  \n",
       "75%       3.400000     0.730000    11.100000     6.000000  \n",
       "max       4.010000     2.000000    14.900000     8.000000  "
      ]
     },
     "execution_count": 4,
     "metadata": {},
     "output_type": "execute_result"
    }
   ],
   "source": [
    "# Data information and check for missing values\n",
    "data.info()\n",
    "data.describe()"
   ]
  },
  {
   "cell_type": "markdown",
   "metadata": {},
   "source": [
    "Tidak ada nilai yang hilang dalam dataset, sehingga tidak perlu dilakukan imputasi atau metode penanganan nilai yang hilang lainnya."
   ]
  },
  {
   "cell_type": "markdown",
   "metadata": {},
   "source": [
    "# Pre-proses Data"
   ]
  },
  {
   "cell_type": "markdown",
   "metadata": {},
   "source": [
    "Lakukan reduksi data melalui downsampling untuk memperpendek proses pelatihan dan pengujian model."
   ]
  },
  {
   "cell_type": "code",
   "execution_count": 17,
   "metadata": {},
   "outputs": [
    {
     "data": {
      "text/html": [
       "<div>\n",
       "<style scoped>\n",
       "    .dataframe tbody tr th:only-of-type {\n",
       "        vertical-align: middle;\n",
       "    }\n",
       "\n",
       "    .dataframe tbody tr th {\n",
       "        vertical-align: top;\n",
       "    }\n",
       "\n",
       "    .dataframe thead th {\n",
       "        text-align: right;\n",
       "    }\n",
       "</style>\n",
       "<table border=\"1\" class=\"dataframe\">\n",
       "  <thead>\n",
       "    <tr style=\"text-align: right;\">\n",
       "      <th></th>\n",
       "      <th>fixed acidity</th>\n",
       "      <th>volatile acidity</th>\n",
       "      <th>citric acid</th>\n",
       "      <th>residual sugar</th>\n",
       "      <th>chlorides</th>\n",
       "      <th>free sulfur dioxide</th>\n",
       "      <th>total sulfur dioxide</th>\n",
       "      <th>density</th>\n",
       "      <th>pH</th>\n",
       "      <th>sulphates</th>\n",
       "      <th>alcohol</th>\n",
       "      <th>quality</th>\n",
       "    </tr>\n",
       "  </thead>\n",
       "  <tbody>\n",
       "    <tr>\n",
       "      <th>1109</th>\n",
       "      <td>10.8</td>\n",
       "      <td>0.470</td>\n",
       "      <td>0.43</td>\n",
       "      <td>2.10</td>\n",
       "      <td>0.171</td>\n",
       "      <td>27.0</td>\n",
       "      <td>66.0</td>\n",
       "      <td>0.99820</td>\n",
       "      <td>3.17</td>\n",
       "      <td>0.76</td>\n",
       "      <td>10.8</td>\n",
       "      <td>6</td>\n",
       "    </tr>\n",
       "    <tr>\n",
       "      <th>1032</th>\n",
       "      <td>8.1</td>\n",
       "      <td>0.820</td>\n",
       "      <td>0.00</td>\n",
       "      <td>4.10</td>\n",
       "      <td>0.095</td>\n",
       "      <td>5.0</td>\n",
       "      <td>14.0</td>\n",
       "      <td>0.99854</td>\n",
       "      <td>3.36</td>\n",
       "      <td>0.53</td>\n",
       "      <td>9.6</td>\n",
       "      <td>5</td>\n",
       "    </tr>\n",
       "    <tr>\n",
       "      <th>1002</th>\n",
       "      <td>9.1</td>\n",
       "      <td>0.290</td>\n",
       "      <td>0.33</td>\n",
       "      <td>2.05</td>\n",
       "      <td>0.063</td>\n",
       "      <td>13.0</td>\n",
       "      <td>27.0</td>\n",
       "      <td>0.99516</td>\n",
       "      <td>3.26</td>\n",
       "      <td>0.84</td>\n",
       "      <td>11.7</td>\n",
       "      <td>7</td>\n",
       "    </tr>\n",
       "    <tr>\n",
       "      <th>487</th>\n",
       "      <td>10.2</td>\n",
       "      <td>0.645</td>\n",
       "      <td>0.36</td>\n",
       "      <td>1.80</td>\n",
       "      <td>0.053</td>\n",
       "      <td>5.0</td>\n",
       "      <td>14.0</td>\n",
       "      <td>0.99820</td>\n",
       "      <td>3.17</td>\n",
       "      <td>0.42</td>\n",
       "      <td>10.0</td>\n",
       "      <td>6</td>\n",
       "    </tr>\n",
       "    <tr>\n",
       "      <th>979</th>\n",
       "      <td>12.2</td>\n",
       "      <td>0.450</td>\n",
       "      <td>0.49</td>\n",
       "      <td>1.40</td>\n",
       "      <td>0.075</td>\n",
       "      <td>3.0</td>\n",
       "      <td>6.0</td>\n",
       "      <td>0.99690</td>\n",
       "      <td>3.13</td>\n",
       "      <td>0.63</td>\n",
       "      <td>10.4</td>\n",
       "      <td>5</td>\n",
       "    </tr>\n",
       "  </tbody>\n",
       "</table>\n",
       "</div>"
      ],
      "text/plain": [
       "      fixed acidity  volatile acidity  citric acid  residual sugar  chlorides  \\\n",
       "1109           10.8             0.470         0.43            2.10      0.171   \n",
       "1032            8.1             0.820         0.00            4.10      0.095   \n",
       "1002            9.1             0.290         0.33            2.05      0.063   \n",
       "487            10.2             0.645         0.36            1.80      0.053   \n",
       "979            12.2             0.450         0.49            1.40      0.075   \n",
       "\n",
       "      free sulfur dioxide  total sulfur dioxide  density    pH  sulphates  \\\n",
       "1109                 27.0                  66.0  0.99820  3.17       0.76   \n",
       "1032                  5.0                  14.0  0.99854  3.36       0.53   \n",
       "1002                 13.0                  27.0  0.99516  3.26       0.84   \n",
       "487                   5.0                  14.0  0.99820  3.17       0.42   \n",
       "979                   3.0                   6.0  0.99690  3.13       0.63   \n",
       "\n",
       "      alcohol  quality  \n",
       "1109     10.8        6  \n",
       "1032      9.6        5  \n",
       "1002     11.7        7  \n",
       "487      10.0        6  \n",
       "979      10.4        5  "
      ]
     },
     "execution_count": 17,
     "metadata": {},
     "output_type": "execute_result"
    }
   ],
   "source": [
    "# Reduce the number data\n",
    "def random_sampling(df, sample_size):\n",
    "    return df.sample(n=sample_size, random_state=0)\n",
    "reduced_data = random_sampling(data, 500)\n",
    "reduced_data.head()"
   ]
  },
  {
   "cell_type": "markdown",
   "metadata": {},
   "source": [
    "Lakukan normalisasi data kecuali kolom quality sebagai kolom label dengan menggunakan z-score."
   ]
  },
  {
   "cell_type": "code",
   "execution_count": 15,
   "metadata": {},
   "outputs": [
    {
     "data": {
      "text/html": [
       "<div>\n",
       "<style scoped>\n",
       "    .dataframe tbody tr th:only-of-type {\n",
       "        vertical-align: middle;\n",
       "    }\n",
       "\n",
       "    .dataframe tbody tr th {\n",
       "        vertical-align: top;\n",
       "    }\n",
       "\n",
       "    .dataframe thead th {\n",
       "        text-align: right;\n",
       "    }\n",
       "</style>\n",
       "<table border=\"1\" class=\"dataframe\">\n",
       "  <thead>\n",
       "    <tr style=\"text-align: right;\">\n",
       "      <th></th>\n",
       "      <th>fixed acidity</th>\n",
       "      <th>volatile acidity</th>\n",
       "      <th>citric acid</th>\n",
       "      <th>residual sugar</th>\n",
       "      <th>chlorides</th>\n",
       "      <th>free sulfur dioxide</th>\n",
       "      <th>total sulfur dioxide</th>\n",
       "      <th>density</th>\n",
       "      <th>pH</th>\n",
       "      <th>sulphates</th>\n",
       "      <th>alcohol</th>\n",
       "      <th>quality</th>\n",
       "    </tr>\n",
       "  </thead>\n",
       "  <tbody>\n",
       "    <tr>\n",
       "      <th>1109</th>\n",
       "      <td>1.703312</td>\n",
       "      <td>-45.434782</td>\n",
       "      <td>-38.495702</td>\n",
       "      <td>-4.862152</td>\n",
       "      <td>-190.717920</td>\n",
       "      <td>1.986334</td>\n",
       "      <td>1.958937</td>\n",
       "      <td>-3671.643472</td>\n",
       "      <td>-30.476373</td>\n",
       "      <td>-45.403118</td>\n",
       "      <td>2.749813</td>\n",
       "      <td>6</td>\n",
       "    </tr>\n",
       "    <tr>\n",
       "      <th>1032</th>\n",
       "      <td>0.132159</td>\n",
       "      <td>-43.286678</td>\n",
       "      <td>-40.719725</td>\n",
       "      <td>-3.177674</td>\n",
       "      <td>-192.599869</td>\n",
       "      <td>-0.298347</td>\n",
       "      <td>0.206489</td>\n",
       "      <td>-3671.461885</td>\n",
       "      <td>-29.245106</td>\n",
       "      <td>-46.871258</td>\n",
       "      <td>1.622499</td>\n",
       "      <td>5</td>\n",
       "    </tr>\n",
       "    <tr>\n",
       "      <th>1002</th>\n",
       "      <td>0.714067</td>\n",
       "      <td>-46.539521</td>\n",
       "      <td>-39.012916</td>\n",
       "      <td>-4.904264</td>\n",
       "      <td>-193.392269</td>\n",
       "      <td>0.532446</td>\n",
       "      <td>0.644601</td>\n",
       "      <td>-3673.267080</td>\n",
       "      <td>-29.893142</td>\n",
       "      <td>-44.892460</td>\n",
       "      <td>3.595299</td>\n",
       "      <td>7</td>\n",
       "    </tr>\n",
       "    <tr>\n",
       "      <th>487</th>\n",
       "      <td>1.354167</td>\n",
       "      <td>-44.360730</td>\n",
       "      <td>-38.857752</td>\n",
       "      <td>-5.114823</td>\n",
       "      <td>-193.639894</td>\n",
       "      <td>-0.298347</td>\n",
       "      <td>0.206489</td>\n",
       "      <td>-3671.643472</td>\n",
       "      <td>-30.476373</td>\n",
       "      <td>-47.573412</td>\n",
       "      <td>1.998270</td>\n",
       "      <td>6</td>\n",
       "    </tr>\n",
       "    <tr>\n",
       "      <th>979</th>\n",
       "      <td>2.517984</td>\n",
       "      <td>-45.557531</td>\n",
       "      <td>-38.185373</td>\n",
       "      <td>-5.451719</td>\n",
       "      <td>-193.095119</td>\n",
       "      <td>-0.506045</td>\n",
       "      <td>-0.063118</td>\n",
       "      <td>-3672.337778</td>\n",
       "      <td>-30.735588</td>\n",
       "      <td>-46.232936</td>\n",
       "      <td>2.374042</td>\n",
       "      <td>5</td>\n",
       "    </tr>\n",
       "  </tbody>\n",
       "</table>\n",
       "</div>"
      ],
      "text/plain": [
       "      fixed acidity  volatile acidity  citric acid  residual sugar  \\\n",
       "1109       1.703312        -45.434782   -38.495702       -4.862152   \n",
       "1032       0.132159        -43.286678   -40.719725       -3.177674   \n",
       "1002       0.714067        -46.539521   -39.012916       -4.904264   \n",
       "487        1.354167        -44.360730   -38.857752       -5.114823   \n",
       "979        2.517984        -45.557531   -38.185373       -5.451719   \n",
       "\n",
       "       chlorides  free sulfur dioxide  total sulfur dioxide      density  \\\n",
       "1109 -190.717920             1.986334              1.958937 -3671.643472   \n",
       "1032 -192.599869            -0.298347              0.206489 -3671.461885   \n",
       "1002 -193.392269             0.532446              0.644601 -3673.267080   \n",
       "487  -193.639894            -0.298347              0.206489 -3671.643472   \n",
       "979  -193.095119            -0.506045             -0.063118 -3672.337778   \n",
       "\n",
       "             pH  sulphates   alcohol  quality  \n",
       "1109 -30.476373 -45.403118  2.749813        6  \n",
       "1032 -29.245106 -46.871258  1.622499        5  \n",
       "1002 -29.893142 -44.892460  3.595299        7  \n",
       "487  -30.476373 -47.573412  1.998270        6  \n",
       "979  -30.735588 -46.232936  2.374042        5  "
      ]
     },
     "execution_count": 15,
     "metadata": {},
     "output_type": "execute_result"
    }
   ],
   "source": [
    "# Z-score normalization except for the quality column\n",
    "def z_score(data):\n",
    "    # Exclude the 'quality' column from normalization\n",
    "    columns_to_normalize = data.columns[:-1]\n",
    "    # Normalized data initialization\n",
    "    normalized_data = data.copy()\n",
    "    normalized_data[columns_to_normalize] = (normalized_data[columns_to_normalize] - np.mean(normalized_data[columns_to_normalize]))/np.std(normalized_data[columns_to_normalize])\n",
    "    return normalized_data\n",
    "\n",
    "normalized_data = z_score(reduced_data)\n",
    "normalized_data.head(5)"
   ]
  },
  {
   "cell_type": "markdown",
   "metadata": {},
   "source": [
    "# Model"
   ]
  },
  {
   "cell_type": "markdown",
   "metadata": {},
   "source": [
    "Buatlah sebuah fungsi perhitungan jarak menggunakan rumus Chebyshev, Euclidean, Manhattan yang memiliki parameter data1 dan data2 dalam bentuk float, dan distance_type dalam bentuk string."
   ]
  },
  {
   "cell_type": "code",
   "execution_count": 20,
   "metadata": {},
   "outputs": [
    {
     "name": "stdout",
     "output_type": "stream",
     "text": [
      "Test for function chebyshev\n",
      "Result: 3\n",
      "Test for function euclidean\n",
      "Result: 3.7416573867739413\n",
      "Test for function manhattan\n",
      "Result: 6\n"
     ]
    }
   ],
   "source": [
    "# Distance Function (chebyshev, euclidean, manhattan)\n",
    "\n",
    "def chebyshev(data1, data2):\n",
    "    return np.abs(np.array(data1) - np.array(data2)).max()\n",
    "def euclidean(data1, data2):\n",
    "    return np.sqrt(np.sum((np.array(data1) - np.array(data2)) ** 2))\n",
    "def manhattan(data1, data2):\n",
    "    return np.sum(np.abs(np.array(data1) - np.array(data2)))\n",
    "\n",
    "\n",
    "def calculate_distance(data1, data2, distance_type):\n",
    "    if distance_type == 'chebyshev':\n",
    "        return chebyshev(data1, data2)\n",
    "    elif distance_type == 'euclidean':\n",
    "        return euclidean(data1, data2)\n",
    "    elif distance_type == 'manhattan':\n",
    "        return manhattan(data1, data2)\n",
    "    else:\n",
    "        return None\n",
    "\n",
    "# Testing\n",
    "distest_1 = [3, 2, 1]\n",
    "distest_0 = [0, 0, 0]\n",
    "types = [\"chebyshev\", \"euclidean\", \"manhattan\"]\n",
    "\n",
    "for type in types:\n",
    "    print(f\"Test for function {type}\")\n",
    "    res = calculate_distance(distest_1, distest_0, type)\n",
    "    print(f\"Result: {res}\")"
   ]
  },
  {
   "cell_type": "markdown",
   "metadata": {},
   "source": [
    "Simpan label dataset yang dinormalisasi ke dalam variabel yang disebut \"label\"."
   ]
  },
  {
   "cell_type": "code",
   "execution_count": 22,
   "metadata": {},
   "outputs": [
    {
     "data": {
      "text/plain": [
       "1109    6\n",
       "1032    5\n",
       "1002    7\n",
       "487     6\n",
       "979     5\n",
       "       ..\n",
       "831     6\n",
       "1437    5\n",
       "620     5\n",
       "465     5\n",
       "748     6\n",
       "Name: quality, Length: 500, dtype: int64"
      ]
     },
     "execution_count": 22,
     "metadata": {},
     "output_type": "execute_result"
    }
   ],
   "source": [
    "label = normalized_data[normalized_data.columns[-1]]\n",
    "label"
   ]
  },
  {
   "cell_type": "markdown",
   "metadata": {},
   "source": [
    "Bagi dataset yang dinormalisasi menjadi 80% untuk pelatihan dan 20% untuk pengujian."
   ]
  },
  {
   "cell_type": "code",
   "execution_count": 26,
   "metadata": {},
   "outputs": [
    {
     "name": "stdout",
     "output_type": "stream",
     "text": [
      "(400, 11)\n",
      "(100, 11)\n",
      "quality\n",
      "5    175\n",
      "6    170\n",
      "7     37\n",
      "4     12\n",
      "8      4\n",
      "3      2\n",
      "Name: count, dtype: int64\n",
      "quality\n",
      "5    44\n",
      "6    42\n",
      "7     9\n",
      "4     3\n",
      "8     1\n",
      "3     1\n",
      "Name: count, dtype: int64\n"
     ]
    }
   ],
   "source": [
    "train_data, test_data, train_label, test_label = train_test_split(normalized_data[normalized_data.columns[:-1]], label, stratify=normalized_data['quality'], test_size=0.2, random_state=1)\n",
    "print(train_data.shape)\n",
    "print(test_data.shape)\n",
    "print(train_label.value_counts())\n",
    "print(test_label.value_counts())"
   ]
  },
  {
   "cell_type": "markdown",
   "metadata": {},
   "source": [
    "Buatlah sebuah fungsi algoritma KNN untuk melakukan prediksi menggunakan parameter train_data, train_label, test_data, k sebagai bilangan bulat, dan distance_type sebagai string."
   ]
  },
  {
   "cell_type": "code",
   "execution_count": 45,
   "metadata": {},
   "outputs": [],
   "source": [
    "def knn(train_data, train_label, test_data, k, distance_type):\n",
    "    distances = np.array([calculate_distance(train_data.iloc[i], test_data, distance_type) for i in range(train_data.shape[0])])\n",
    "    nearest_indexes = np.argsort(distances)[:k]\n",
    "    nearest_points = np.array(train_label.iloc[nearest_indexes])\n",
    "    class_counter = Counter(nearest_points)\n",
    "    prediction = class_counter.most_common(1)[0][0]\n",
    "    return prediction\n",
    "\n",
    "def knn_multi(train_data, train_label, test_data, k, distance_type):\n",
    "    predictions = []\n",
    "\n",
    "    for i in range(test_data.shape[0]):\n",
    "        current_data = test_data.iloc[i]\n",
    "        current_pred = knn(train_data, train_label, current_data, k, distance_type)\n",
    "        predictions.append(current_pred)\n",
    "        \n",
    "    return predictions"
   ]
  },
  {
   "cell_type": "code",
   "execution_count": 46,
   "metadata": {},
   "outputs": [
    {
     "name": "stdout",
     "output_type": "stream",
     "text": [
      "Test data:  fixed acidity             -0.740704\n",
      "volatile acidity         -44.759664\n",
      "citric acid              -40.616282\n",
      "residual sugar            -4.609480\n",
      "chlorides               -193.243694\n",
      "free sulfur dioxide        1.155541\n",
      "total sulfur dioxide       1.082713\n",
      "density                -3673.956045\n",
      "pH                       -29.115499\n",
      "sulphates                -46.041439\n",
      "alcohol                    4.440785\n",
      "Name: 1335, dtype: float64\n",
      "Predicting using chebyshev distance\n",
      "Predicted class: 6\n",
      "Actual class: 6\n",
      "Predicting using euclidean distance\n",
      "Predicted class: 6\n",
      "Actual class: 6\n",
      "Predicting using manhattan distance\n",
      "Predicted class: 6\n",
      "Actual class: 6\n"
     ]
    }
   ],
   "source": [
    "# Test knn()\n",
    "print(\"Test data: \", test_data.iloc[0])\n",
    "for type in types:\n",
    "    print(f\"Predicting using {type} distance\")\n",
    "    pred = knn(train_data, train_label, test_data.iloc[0], 3, type)\n",
    "    print(f\"Predicted class: {pred}\")\n",
    "    print(f\"Actual class: {test_label.iloc[0]}\")"
   ]
  },
  {
   "cell_type": "code",
   "execution_count": 49,
   "metadata": {},
   "outputs": [
    {
     "name": "stdout",
     "output_type": "stream",
     "text": [
      "Predicting using chebyshev distance\n",
      "Predictions:  [6, 5, 5, 6, 5]\n",
      "Actual classes:  1335    6\n",
      "412     5\n",
      "905     5\n",
      "961     5\n",
      "728     5\n",
      "Name: quality, dtype: int64\n",
      "Predicting using euclidean distance\n",
      "Predictions:  [6, 5, 5, 6, 6]\n",
      "Actual classes:  1335    6\n",
      "412     5\n",
      "905     5\n",
      "961     5\n",
      "728     5\n",
      "Name: quality, dtype: int64\n",
      "Predicting using manhattan distance\n",
      "Predictions:  [6, 5, 5, 6, 6]\n",
      "Actual classes:  1335    6\n",
      "412     5\n",
      "905     5\n",
      "961     5\n",
      "728     5\n",
      "Name: quality, dtype: int64\n"
     ]
    }
   ],
   "source": [
    "# Test knn_multi()\n",
    "for type in types:\n",
    "    print(f\"Predicting using {type} distance\")\n",
    "    preds = knn_multi(train_data, train_label, test_data[:5], 8, type)\n",
    "    print(\"Predictions: \", preds)\n",
    "    print(\"Actual classes: \", test_label[:5])"
   ]
  },
  {
   "cell_type": "markdown",
   "metadata": {},
   "source": [
    "Temukan nilai k terbaik dengan mengamati hasil akurasi untuk setiap nilai k yang berbeda dan berbagai metode perhitungan jarak yang berbeda."
   ]
  },
  {
   "cell_type": "code",
   "execution_count": 48,
   "metadata": {},
   "outputs": [
    {
     "data": {
      "image/png": "[encoded data removed]",
      "text/plain": [
       "<Figure size 640x480 with 1 Axes>"
      ]
     },
     "metadata": {},
     "output_type": "display_data"
    }
   ],
   "source": [
    "# Find best k for euclidean KNN\n",
    "\n",
    "# Initialize empty lists to store k values and corresponding accuracies\n",
    "k_values = []\n",
    "accuracies = []\n",
    "\n",
    "# Define a range of k values to test\n",
    "k_range = range(1, 11) \n",
    "\n",
    "# Iterate over each k value\n",
    "for k in k_range:\n",
    "    # Make predictions using the KNN model\n",
    "    predictions = knn_multi(train_data, train_label, test_data, k, 'euclidean')\n",
    "    # Calculate accuracy\n",
    "    accuracy = accuracy_score(test_label, predictions)\n",
    "    # Append k and accuracy to lists\n",
    "    k_values.append(k)\n",
    "    accuracies.append(accuracy)\n",
    "\n",
    "# Plot the graph\n",
    "plt.plot(k_values, accuracies, marker='o')\n",
    "plt.title('KNN Euclidean Accuracy vs. K Value')\n",
    "plt.xlabel('K Value')\n",
    "plt.ylabel('Accuracy')\n",
    "plt.xticks(k_values)\n",
    "plt.grid(True)\n",
    "plt.show()"
   ]
  },
  {
   "cell_type": "code",
   "execution_count": 50,
   "metadata": {},
   "outputs": [
    {
     "data": {
      "image/png": "[encoded data removed]",
      "text/plain": [
       "<Figure size 640x480 with 1 Axes>"
      ]
     },
     "metadata": {},
     "output_type": "display_data"
    }
   ],
   "source": [
    "# Find best k for Manhattan KNN\n",
    "k_values_manhattan = []\n",
    "accuracies_manhattan = []\n",
    "\n",
    "for k in k_range:\n",
    "    predictions = knn_multi(train_data, train_label, test_data, k, 'manhattan')\n",
    "    accuracy = accuracy_score(test_label, predictions)\n",
    "    k_values_manhattan.append(k)\n",
    "    accuracies_manhattan.append(accuracy)\n",
    "\n",
    "plt.plot(k_values_manhattan, accuracies_manhattan, marker='o')\n",
    "plt.title('KNN Manhattan Accuracy vs. K Value')\n",
    "plt.xlabel('K Value')\n",
    "plt.ylabel('Accuracy')\n",
    "plt.xticks(k_values)\n",
    "plt.grid(True)\n",
    "plt.show()"
   ]
  },
  {
   "cell_type": "code",
   "execution_count": 51,
   "metadata": {},
   "outputs": [
    {
     "data": {
      "image/png": "[encoded data removed]",
      "text/plain": [
       "<Figure size 640x480 with 1 Axes>"
      ]
     },
     "metadata": {},
     "output_type": "display_data"
    }
   ],
   "source": [
    "# Find best k for chebyshev KNN\n",
    "k_values_chebyshev = []\n",
    "accuracies_chebyshev = []\n",
    "\n",
    "for k in k_range:\n",
    "    predictions = knn_multi(train_data, train_label, test_data, k, 'chebyshev')\n",
    "    accuracy = accuracy_score(test_label, predictions)\n",
    "    k_values_chebyshev.append(k)\n",
    "    accuracies_chebyshev.append(accuracy)\n",
    "\n",
    "plt.plot(k_values_chebyshev, accuracies_chebyshev, marker='o')\n",
    "plt.title('KNN Chebyshev Accuracy vs. K Value')\n",
    "plt.xlabel('K Value')\n",
    "plt.ylabel('Accuracy')\n",
    "plt.xticks(k_values)\n",
    "plt.grid(True)\n",
    "plt.show()"
   ]
  },
  {
   "cell_type": "markdown",
   "metadata": {},
   "source": [
    "# Evaluasi"
   ]
  },
  {
   "cell_type": "markdown",
   "metadata": {},
   "source": [
    "Cetak hasil akurasi prediksi untuk setiap KNN dengan nilai k terbaik dan rumus perhitungan jarak yang berbeda"
   ]
  },
  {
   "cell_type": "code",
   "execution_count": 52,
   "metadata": {},
   "outputs": [
    {
     "name": "stdout",
     "output_type": "stream",
     "text": [
      "Accuracy: 0.63\n"
     ]
    }
   ],
   "source": [
    "# Predict using euclidean KNN with the best k value\n",
    "predictions = knn_multi(train_data, train_label, test_data, 8, 'euclidean')\n",
    "accuracy = accuracy_score(test_label, predictions)\n",
    "print(\"Accuracy:\", accuracy)"
   ]
  },
  {
   "cell_type": "code",
   "execution_count": 54,
   "metadata": {},
   "outputs": [
    {
     "name": "stdout",
     "output_type": "stream",
     "text": [
      "Accuracy: 0.63\n"
     ]
    }
   ],
   "source": [
    "# Predict using manhattan KNN with the best k value\n",
    "predictions = knn_multi(train_data, train_label, test_data, 10, 'manhattan')\n",
    "accuracy = accuracy_score(test_label, predictions)\n",
    "print(\"Accuracy:\", accuracy)"
   ]
  },
  {
   "cell_type": "code",
   "execution_count": 1,
   "metadata": {},
   "outputs": [
    {
     "ename": "NameError",
     "evalue": "name 'knn_multi' is not defined",
     "output_type": "error",
     "traceback": [
      "\u001b[0;31m---------------------------------------------------------------------------\u001b[0m",
      "\u001b[0;31mNameError\u001b[0m                                 Traceback (most recent call last)",
      "Cell \u001b[0;32mIn[1], line 2\u001b[0m\n\u001b[1;32m      1\u001b[0m \u001b[38;5;66;03m# Predict using chebyshev KNN with the best k value\u001b[39;00m\n\u001b[0;32m----> 2\u001b[0m predictions \u001b[38;5;241m=\u001b[39m knn_multi(train_data, train_label, test_data, \u001b[38;5;241m2\u001b[39m, \u001b[38;5;124m'\u001b[39m\u001b[38;5;124mchebyshev\u001b[39m\u001b[38;5;124m'\u001b[39m)\n\u001b[1;32m      3\u001b[0m accuracy \u001b[38;5;241m=\u001b[39m accuracy_score(test_label, predictions)\n\u001b[1;32m      4\u001b[0m \u001b[38;5;28mprint\u001b[39m(\u001b[38;5;124m\"\u001b[39m\u001b[38;5;124mAccuracy:\u001b[39m\u001b[38;5;124m\"\u001b[39m, accuracy)\n",
      "\u001b[0;31mNameError\u001b[0m: name 'knn_multi' is not defined"
     ]
    }
   ],
   "source": [
    "# Predict using chebyshev KNN with the best k value\n",
    "predictions = knn_multi(train_data, train_label, test_data, 2, 'chebyshev')\n",
    "accuracy = accuracy_score(test_label, predictions)\n",
    "print(\"Accuracy:\", accuracy)"
   ]
  },
  {
   "cell_type": "markdown",
   "metadata": {},
   "source": [
    "# Kesimpulan"
   ]
  },
  {
   "cell_type": "markdown",
   "metadata": {},
   "source": [
    "Soal\n",
    "\n",
    "1. Jelaskan pengaruh k yang rendah ataupun tinggi terhadap akurasi hasil algoritma KNN!\n",
    "2. Jelaskan pengaruh perbedaan rumus perhitungan jarak yang digunakan terhadap hasil akurasi algoritma KNN!\n",
    "3. Jelaskan dan sebutkan berapa jumlah k ideal dan apa rumus perhitungan jarak yang menghasilkan akurasi terbaik pada praktikum ini!"
   ]
  },
  {
   "cell_type": "markdown",
   "metadata": {},
   "source": [
    "Jawaban\n",
    "\n",
    "1. Pengaruh tinggi-rendah nilai k yang digunakan pada algoritma KNN secara teoretis akan berpengaruh pada robustness dari model yang dihasilkan terhadap noise ataupun outlier sekaligus sifat underfitting/overfitting terhadap training dataset.\n",
    "- Nilai k yang rendah akan memberikan performa model yang cenderung baik untuk training data, memberikan model yang lebih fleksibel dengan computational resource requirement yang rendah. Akan tetapi, nilai k yang terlalu rendah cenderung untuk mengalami overfit dan sensitif terhadap outlier/noise.\n",
    "- Nilai k yang tinggi memberikan efek \"smoothening\" model, menghasilkan model yang lebih robust dengan generalisasi yang mungkin lebih baik. Namun demikian, nilai k ini mampu menghasilkan underfit.\n",
    "Untuk mendapatkan nilai k terbaik, perlu dilakukan percobaan sesuai dengan case yang ada.\n",
    "2. Didapatkan dari tiga rumus perhitungan jarak di atas adalah sebagai berikut:\n",
    "- Rumus dengan pendekatan generalisasi seperti Euclidean dan Manhattan yang menghasilkan nilai tunggal dari beberapa masukan memiliki performa yang baik untuk k > 5.\n",
    "- Rumus dengan pendekatan yang lebih sederhana seperti Chebyshev cenderung memiliki performa yang lebih baik dengan nilai k yang rendah (k < 5).\n",
    "3. Pada kasus praktikum kali ini, didapatkan informasi sebagai berikut:\n",
    "- Nilai k optimal untuk ketiga rumus perhitungan jarak adalah k=8 untuk Euclidean, k=10 untuk Manhattan, dan k=[1, 2] untuk Chebyshev.\n",
    "- Akurasi optimal ketiga algoritma perhitungan tersebut konsisten: 63%"
   ]
  }
 ],
 "metadata": {
  "kernelspec": {
   "display_name": "Python 3",
   "language": "python",
   "name": "python3"
  },
  "language_info": {
   "codemirror_mode": {
    "name": "ipython",
    "version": 3
   },
   "file_extension": ".py",
   "mimetype": "text/x-python",
   "name": "python",
   "nbconvert_exporter": "python",
   "pygments_lexer": "ipython3",
   "version": "3.11.5"
  }
 },
 "nbformat": 4,
 "nbformat_minor": 2
}
