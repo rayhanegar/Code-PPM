For 802.1q: buat 2 VLAN untuk downlink.
- downlink mode access
- uplink mode TAG, 2 VLAN
- Access IP 10.34.4.146 
