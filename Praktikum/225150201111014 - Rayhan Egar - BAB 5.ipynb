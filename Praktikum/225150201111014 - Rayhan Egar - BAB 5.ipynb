{
  "cells": [
    {
      "cell_type": "markdown",
      "metadata": {
        "id": "-qDsm6BnME2X"
      },
      "source": [
        "# Praktikum Pengantar Pembelajaran Mesin\n",
        "\n",
        "\n",
        "---\n",
        "## Bab 5. Klasifikasi Decision Tree\n"
      ]
    },
    {
      "cell_type": "markdown",
      "metadata": {},
      "source": [
        "- Nama: Rayhan Egar Sadtya Nugraha\n",
        "- Kelas: PPM-D\n",
        "- NIM: 225150201111014"
      ]
    },
    {
      "cell_type": "markdown",
      "metadata": {
        "id": "sQAGcnK3MOS7"
      },
      "source": [
        "### 1) Import Data\n",
        "\n",
        "Praktikum kali ini menggunakan dataset [Car Evaluation Dataset](https://archive.ics.uci.edu/ml/datasets/Car+Evaluation) dari UCI Machine Learning Repository. Dataset ini telah digunakan pada praktikum sebelumnya. Detail fitur dapat Anda pelajari pada link yang tersedia.\n",
        "\n",
        "Unduh dataset yang akan digunakan pada praktikum kali ini. Anda dapat menggunakan aplikasi wget untuk mendowload dataset dan menyimpannya dalam Google Colab. Jalankan cell di bawah ini untuk mengunduh dataset"
      ]
    },
    {
      "cell_type": "code",
      "execution_count": 1,
      "metadata": {
        "id": "FpjqVlzBMNLd"
      },
      "outputs": [
        {
          "name": "stdout",
          "output_type": "stream",
          "text": [
            "--2024-04-01 23:37:21--  https://archive.ics.uci.edu/dataset/19/car+evaluation\n",
            "Resolving archive.ics.uci.edu (archive.ics.uci.edu)... 128.195.10.252\n",
            "Connecting to archive.ics.uci.edu (archive.ics.uci.edu)|128.195.10.252|:443... connected.\n",
            "HTTP request sent, awaiting response... 200 OK\n",
            "Length: 138743 (135K) [text/html]\n",
            "Saving to: ‘car+evaluation’\n",
            "\n",
            "car+evaluation      100%[===================>] 135.49K   218KB/s    in 0.6s    \n",
            "\n",
            "2024-04-01 23:37:23 (218 KB/s) - ‘car+evaluation’ saved [138743/138743]\n",
            "\n"
          ]
        }
      ],
      "source": [
        "# ! wget https://archive.ics.uci.edu/dataset/19/car+evaluation"
      ]
    },
    {
      "cell_type": "markdown",
      "metadata": {
        "id": "SJy4t3lIOgGp"
      },
      "source": [
        "Setelah dataset berhasil diunduh, langkah berikutnya adalah membaca dataset dengan memanfaatkan fungsi **readcsv** dari library pandas. Lakukan pembacaan berkas csv ke dalam dataframe dengan nama **data** menggunakan fungsi **readcsv**. Jangan lupa untuk melakukan import library pandas terlebih dahulu\n"
      ]
    },
    {
      "cell_type": "code",
      "execution_count": 2,
      "metadata": {
        "id": "mdhbxk_2OzbB"
      },
      "outputs": [],
      "source": [
        "import pandas as pd\n",
        "import numpy as np \n",
        "data = pd.read_csv('car_sample.csv')"
      ]
    },
    {
      "cell_type": "markdown",
      "metadata": {
        "id": "w6NfrIDTOK38"
      },
      "source": [
        "\n",
        "\n",
        "Cek isi dataset Anda dengan menggunakan perintah **head()**"
      ]
    },
    {
      "cell_type": "code",
      "execution_count": 3,
      "metadata": {
        "id": "Uaiaj796OFH3"
      },
      "outputs": [
        {
          "data": {
            "text/html": [
              "<div>\n",
              "<style scoped>\n",
              "    .dataframe tbody tr th:only-of-type {\n",
              "        vertical-align: middle;\n",
              "    }\n",
              "\n",
              "    .dataframe tbody tr th {\n",
              "        vertical-align: top;\n",
              "    }\n",
              "\n",
              "    .dataframe thead th {\n",
              "        text-align: right;\n",
              "    }\n",
              "</style>\n",
              "<table border=\"1\" class=\"dataframe\">\n",
              "  <thead>\n",
              "    <tr style=\"text-align: right;\">\n",
              "      <th></th>\n",
              "      <th>buying</th>\n",
              "      <th>maint</th>\n",
              "      <th>lug_boot</th>\n",
              "      <th>safety</th>\n",
              "      <th>class</th>\n",
              "    </tr>\n",
              "  </thead>\n",
              "  <tbody>\n",
              "    <tr>\n",
              "      <th>0</th>\n",
              "      <td>vhigh</td>\n",
              "      <td>vhigh</td>\n",
              "      <td>small</td>\n",
              "      <td>low</td>\n",
              "      <td>unacc</td>\n",
              "    </tr>\n",
              "    <tr>\n",
              "      <th>1</th>\n",
              "      <td>vhigh</td>\n",
              "      <td>vhigh</td>\n",
              "      <td>small</td>\n",
              "      <td>med</td>\n",
              "      <td>unacc</td>\n",
              "    </tr>\n",
              "    <tr>\n",
              "      <th>2</th>\n",
              "      <td>vhigh</td>\n",
              "      <td>vhigh</td>\n",
              "      <td>small</td>\n",
              "      <td>high</td>\n",
              "      <td>unacc</td>\n",
              "    </tr>\n",
              "    <tr>\n",
              "      <th>3</th>\n",
              "      <td>vhigh</td>\n",
              "      <td>vhigh</td>\n",
              "      <td>med</td>\n",
              "      <td>low</td>\n",
              "      <td>unacc</td>\n",
              "    </tr>\n",
              "    <tr>\n",
              "      <th>4</th>\n",
              "      <td>vhigh</td>\n",
              "      <td>vhigh</td>\n",
              "      <td>med</td>\n",
              "      <td>med</td>\n",
              "      <td>unacc</td>\n",
              "    </tr>\n",
              "  </tbody>\n",
              "</table>\n",
              "</div>"
            ],
            "text/plain": [
              "  buying  maint lug_boot safety  class\n",
              "0  vhigh  vhigh    small    low  unacc\n",
              "1  vhigh  vhigh    small    med  unacc\n",
              "2  vhigh  vhigh    small   high  unacc\n",
              "3  vhigh  vhigh      med    low  unacc\n",
              "4  vhigh  vhigh      med    med  unacc"
            ]
          },
          "execution_count": 3,
          "metadata": {},
          "output_type": "execute_result"
        }
      ],
      "source": [
        "data.head()"
      ]
    },
    {
      "cell_type": "markdown",
      "metadata": {
        "id": "lfi1uHIxPdDe"
      },
      "source": [
        "## 2) Membagi data menjadi data latih dan data uji\n",
        "\n",
        "Metode pembelajaran mesin memerlukan dua jenis data :\n",
        "\n",
        "\n",
        "1.   Data latih : Digunakan untuk proses training metode klasifikasi\n",
        "2.   Data uji : Digunakan untuk proses evaluasi metode klasifikasi\n",
        "\n",
        "Data uji dan data latih perlu dibuat terpisah (mutualy exclusive) agar hasil evaluasi lebih akurat.\n",
        "\n",
        "Data uji dan data latih dapat dibuat dengan cara membagi dataset dengan rasio tertentu, misalnya 80% data latih dan 20% data uji.\n",
        "\n",
        "Library Scikit-learn memiliki fungsi [train_test_split](https://scikit-learn.org/stable/modules/generated/sklearn.model_selection.train_test_split.html) pada modul **model_selection** untuk membagi dataset menjadi data latih dan data uji. Bagilah dataset anda menjadi dua, yaitu **data_latih** dan **data_uji**. Agar pengacakan data dilakukan secara konstan, parameter **random_state** diisi dengan nilai integer tertentu, pada praktikum ini diset 101. Kemudian, nilai indeks pada data latih dan data uji diatur ulang agar berurutan nilainya\n"
      ]
    },
    {
      "cell_type": "code",
      "execution_count": 4,
      "metadata": {
        "id": "jJjfXgfmPTlU"
      },
      "outputs": [
        {
          "data": {
            "text/html": [
              "<div>\n",
              "<style scoped>\n",
              "    .dataframe tbody tr th:only-of-type {\n",
              "        vertical-align: middle;\n",
              "    }\n",
              "\n",
              "    .dataframe tbody tr th {\n",
              "        vertical-align: top;\n",
              "    }\n",
              "\n",
              "    .dataframe thead th {\n",
              "        text-align: right;\n",
              "    }\n",
              "</style>\n",
              "<table border=\"1\" class=\"dataframe\">\n",
              "  <thead>\n",
              "    <tr style=\"text-align: right;\">\n",
              "      <th></th>\n",
              "      <th>buying</th>\n",
              "      <th>maint</th>\n",
              "      <th>lug_boot</th>\n",
              "      <th>safety</th>\n",
              "      <th>class</th>\n",
              "    </tr>\n",
              "  </thead>\n",
              "  <tbody>\n",
              "    <tr>\n",
              "      <th>0</th>\n",
              "      <td>vhigh</td>\n",
              "      <td>high</td>\n",
              "      <td>med</td>\n",
              "      <td>med</td>\n",
              "      <td>unacc</td>\n",
              "    </tr>\n",
              "    <tr>\n",
              "      <th>1</th>\n",
              "      <td>low</td>\n",
              "      <td>med</td>\n",
              "      <td>small</td>\n",
              "      <td>high</td>\n",
              "      <td>unacc</td>\n",
              "    </tr>\n",
              "    <tr>\n",
              "      <th>2</th>\n",
              "      <td>vhigh</td>\n",
              "      <td>low</td>\n",
              "      <td>big</td>\n",
              "      <td>med</td>\n",
              "      <td>unacc</td>\n",
              "    </tr>\n",
              "    <tr>\n",
              "      <th>3</th>\n",
              "      <td>low</td>\n",
              "      <td>vhigh</td>\n",
              "      <td>small</td>\n",
              "      <td>med</td>\n",
              "      <td>unacc</td>\n",
              "    </tr>\n",
              "    <tr>\n",
              "      <th>4</th>\n",
              "      <td>med</td>\n",
              "      <td>low</td>\n",
              "      <td>small</td>\n",
              "      <td>low</td>\n",
              "      <td>unacc</td>\n",
              "    </tr>\n",
              "    <tr>\n",
              "      <th>...</th>\n",
              "      <td>...</td>\n",
              "      <td>...</td>\n",
              "      <td>...</td>\n",
              "      <td>...</td>\n",
              "      <td>...</td>\n",
              "    </tr>\n",
              "    <tr>\n",
              "      <th>341</th>\n",
              "      <td>high</td>\n",
              "      <td>med</td>\n",
              "      <td>med</td>\n",
              "      <td>med</td>\n",
              "      <td>unacc</td>\n",
              "    </tr>\n",
              "    <tr>\n",
              "      <th>342</th>\n",
              "      <td>low</td>\n",
              "      <td>med</td>\n",
              "      <td>big</td>\n",
              "      <td>med</td>\n",
              "      <td>good</td>\n",
              "    </tr>\n",
              "    <tr>\n",
              "      <th>343</th>\n",
              "      <td>vhigh</td>\n",
              "      <td>vhigh</td>\n",
              "      <td>big</td>\n",
              "      <td>med</td>\n",
              "      <td>unacc</td>\n",
              "    </tr>\n",
              "    <tr>\n",
              "      <th>344</th>\n",
              "      <td>vhigh</td>\n",
              "      <td>low</td>\n",
              "      <td>med</td>\n",
              "      <td>low</td>\n",
              "      <td>unacc</td>\n",
              "    </tr>\n",
              "    <tr>\n",
              "      <th>345</th>\n",
              "      <td>vhigh</td>\n",
              "      <td>low</td>\n",
              "      <td>med</td>\n",
              "      <td>med</td>\n",
              "      <td>acc</td>\n",
              "    </tr>\n",
              "  </tbody>\n",
              "</table>\n",
              "<p>346 rows × 5 columns</p>\n",
              "</div>"
            ],
            "text/plain": [
              "    buying  maint lug_boot safety  class\n",
              "0    vhigh   high      med    med  unacc\n",
              "1      low    med    small   high  unacc\n",
              "2    vhigh    low      big    med  unacc\n",
              "3      low  vhigh    small    med  unacc\n",
              "4      med    low    small    low  unacc\n",
              "..     ...    ...      ...    ...    ...\n",
              "341   high    med      med    med  unacc\n",
              "342    low    med      big    med   good\n",
              "343  vhigh  vhigh      big    med  unacc\n",
              "344  vhigh    low      med    low  unacc\n",
              "345  vhigh    low      med    med    acc\n",
              "\n",
              "[346 rows x 5 columns]"
            ]
          },
          "execution_count": 4,
          "metadata": {},
          "output_type": "execute_result"
        }
      ],
      "source": [
        "from sklearn.model_selection import train_test_split\n",
        "data_latih, data_uji = train_test_split(data, test_size=0.2, random_state=101)\n",
        "data_latih.reset_index(drop=True)\n",
        "data_uji.reset_index(drop=True)"
      ]
    },
    {
      "cell_type": "markdown",
      "metadata": {
        "id": "tBhcsUDYfw2q"
      },
      "source": [
        "Tampilkan banyaknya data pada **data_latih** dan **data_uji**. Seharusnya **data_latih** terdiri dari 208 data, dan **data_uji** terdiri dari 52 data"
      ]
    },
    {
      "cell_type": "code",
      "execution_count": 5,
      "metadata": {
        "id": "6OtySD4efmmQ"
      },
      "outputs": [
        {
          "name": "stdout",
          "output_type": "stream",
          "text": [
            "1382\n",
            "346\n"
          ]
        }
      ],
      "source": [
        "print(data_latih.shape[0])\n",
        "print(data_uji.shape[0])"
      ]
    },
    {
      "cell_type": "markdown",
      "metadata": {
        "id": "xm_dJNeMgl9u"
      },
      "source": [
        "## 3) Menghitung Gini\n",
        "\n",
        "Nilai Gini merupakan salah satu kriteria penentu variabel apa yang akan digunakan untuk membentuk cabang pada decision tree. Variabel dengan nilai Gini terbesar akan digunakan sebagai pembentukan cabang\n",
        "\n",
        "Buatlah fungsi bernama **hitung_gini** yang berfungsi menghitung nilai Gini dari suatu nilai pada sebuah variabel"
      ]
    },
    {
      "cell_type": "code",
      "execution_count": 6,
      "metadata": {
        "id": "QNEYOTLsfqld"
      },
      "outputs": [],
      "source": [
        "def hitung_gini(kolom_kelas):\n",
        "    elemen, banyak = np.unique(kolom_kelas, return_counts=True)\n",
        "    freq_squared = [(banyak[i]/np.sum(banyak)) ** 2 for i in range(len(elemen))]\n",
        "    nilai_gini = 1 - np.sum(freq_squared)\n",
        "    return nilai_gini"
      ]
    },
    {
      "cell_type": "markdown",
      "metadata": {
        "id": "KaOXTHEmuNcL"
      },
      "source": [
        "Buatlah fungsi bernama **gini_split** yang digunakan untuk menghitung nilai Gini keseluruhan dari sebuah variabel."
      ]
    },
    {
      "cell_type": "code",
      "execution_count": 7,
      "metadata": {
        "id": "Hxfrr832h61_"
      },
      "outputs": [],
      "source": [
        "def gini_split(data, nama_fitur_split, nama_fitur_kelas):\n",
        "    nilai, banyak = np.unique(data[nama_fitur_split], return_counts=True)\n",
        "    gini_split = np.sum([(banyak[i]/np.sum(banyak)) * hitung_gini(data.where(data[nama_fitur_split]==nilai[i]).dropna()[nama_fitur_kelas]) for i in range(len(nilai))])\n",
        "    return gini_split"
      ]
    },
    {
      "cell_type": "markdown",
      "metadata": {
        "id": "vF9NYqpVMHcc"
      },
      "source": [
        "Ujilah fungsi **gini_split** menggunakan data_latih pada variabel **buying** dan variabel kelas bernama **class**."
      ]
    },
    {
      "cell_type": "code",
      "execution_count": 8,
      "metadata": {
        "id": "WZ60vxPEKOFv"
      },
      "outputs": [
        {
          "data": {
            "text/plain": [
              "0.4498424838345615"
            ]
          },
          "execution_count": 8,
          "metadata": {},
          "output_type": "execute_result"
        }
      ],
      "source": [
        "gini_split(data_latih, 'buying', 'class')"
      ]
    },
    {
      "cell_type": "markdown",
      "metadata": {
        "id": "46FZOwFIlkM_"
      },
      "source": [
        "## 4) Pembentukan pohon"
      ]
    },
    {
      "cell_type": "markdown",
      "metadata": {
        "id": "4wQfBDujvR_Z"
      },
      "source": [
        "Pembentukan pohon dilakukan secara rekursif. Seperti metode rekursif pada umumnya, perlu ditentukan kondisi berhenti terlebih dahulu. Kondisi berhenti pada pembentukan pohon adalah:\n",
        "\n",
        "\n",
        "1.   Jika hanya ada satu kelas pada data, kembalikan kelas tersebut\n",
        "2.   Jika fitur data  = 0 (tidak ada fitur yang tersisa), kembalikan kelas dari parent\n",
        "3. Jika data kosong (tidak ada data), kembalikan kelas dengan frekuensi terbanyak\n",
        "\n",
        "Selain kondisi berhenti tersebut, dilakukan pembentukan pohon secara rekursif menggunakan fungsi **buat_tree**.\n",
        "\n"
      ]
    },
    {
      "cell_type": "code",
      "execution_count": 9,
      "metadata": {
        "id": "qFB6pLbeikcG"
      },
      "outputs": [],
      "source": [
        "def buat_tree(data, data_awal, daftar_fitur, nama_fitur_kelas, kelas_parent_node=None):\n",
        "    \n",
        "    # If there's only one class in the data (homogenous)\n",
        "    if len(np.unique(data[nama_fitur_kelas])) <= 1:\n",
        "\n",
        "        # return that class\n",
        "        return np.unique(data[nama_fitur_kelas])[0]\n",
        "\n",
        "    # If there's no data\n",
        "    elif len(data)==0:\n",
        "\n",
        "        # return majority class\n",
        "        max_index = np.argmax(np.unique(data_awal[nama_fitur_kelas], return_counts=True) [1])\n",
        "        return np.unique(data_awal[nama_fitur_kelas])[max_index]\n",
        "    \n",
        "    # If there's no more feature\n",
        "    elif len(daftar_fitur)==0:\n",
        "\n",
        "        # return kelas parent\n",
        "        return kelas_parent_node\n",
        "\n",
        "    else:\n",
        "\n",
        "        # Recursively buat_tree()\n",
        "        kelas_parent_node = np.unique(data[nama_fitur_kelas]) [np.argmax(np.unique(data[nama_fitur_kelas], return_counts=True)[1])]\n",
        "        nilai_split = [ gini_split(data, fitur, nama_fitur_kelas) for fitur in daftar_fitur]\n",
        "        print(\"Nilai GINI: \", nilai_split)\n",
        "        index_fitur_terbaik = np.argmin(nilai_split)\n",
        "        fitur_terbaik = daftar_fitur[index_fitur_terbaik]\n",
        "        tree = {fitur_terbaik:{}}\n",
        "        print(\"Fitur terbaik: \", fitur_terbaik, \" dengan nilai GINI \", nilai_split[index_fitur_terbaik])\n",
        "        print()\n",
        "\n",
        "\n",
        "        daftar_fitur = [ i for i in daftar_fitur if i != fitur_terbaik] # eliminate fitur terbaik one-by-one\n",
        "\n",
        "        # Iterate for every unique values in fitur_terbaik\n",
        "        for nilai in np.unique(data[fitur_terbaik]):\n",
        "            \n",
        "            # Create sub data containing that one nilai only\n",
        "            sub_data = data.where(data[fitur_terbaik]==nilai).dropna()\n",
        "            # Create a new sub tree from sub data\n",
        "            subtree = buat_tree(sub_data, data_awal, daftar_fitur, nama_fitur_kelas, kelas_parent_node)\n",
        "            # Add sub tree for every nilai to main tree\n",
        "            tree[fitur_terbaik][nilai] = subtree\n",
        "        \n",
        "        return(tree)\n",
        "\n"
      ]
    },
    {
      "cell_type": "markdown",
      "metadata": {
        "id": "GsqCB1ntU020"
      },
      "source": [
        "Buatlah tree menggunakan data latih yang tersedia"
      ]
    },
    {
      "cell_type": "code",
      "execution_count": 10,
      "metadata": {
        "id": "Ca6NaY09SN-R"
      },
      "outputs": [
        {
          "name": "stdout",
          "output_type": "stream",
          "text": [
            "Nilai GINI:  [0.4498424838345615, 0.4529877610858685, 0.4597328261751287, 0.38197123728510574]\n",
            "Fitur terbaik:  safety  dengan nilai GINI  0.38197123728510574\n",
            "\n",
            "Nilai GINI:  [0.5935274302109743, 0.6083307229854543, 0.6285472851219447]\n",
            "Fitur terbaik:  buying  dengan nilai GINI  0.5935274302109743\n",
            "\n",
            "Nilai GINI:  [0.3248004700140101, 0.4983680310515173]\n",
            "Fitur terbaik:  maint  dengan nilai GINI  0.3248004700140101\n",
            "\n",
            "Nilai GINI:  [0.40304834054834054]\n",
            "Fitur terbaik:  lug_boot  dengan nilai GINI  0.40304834054834054\n",
            "\n",
            "Nilai GINI:  [0.47586206896551725]\n",
            "Fitur terbaik:  lug_boot  dengan nilai GINI  0.47586206896551725\n",
            "\n",
            "Nilai GINI:  [0.3297777777777778]\n",
            "Fitur terbaik:  lug_boot  dengan nilai GINI  0.3297777777777778\n",
            "\n",
            "Nilai GINI:  [0.6109835674644468, 0.6525153609831029]\n",
            "Fitur terbaik:  maint  dengan nilai GINI  0.6109835674644468\n",
            "\n",
            "Nilai GINI:  [0.5197132616487455]\n",
            "Fitur terbaik:  lug_boot  dengan nilai GINI  0.5197132616487455\n",
            "\n",
            "Nilai GINI:  [0.5176136363636363]\n",
            "Fitur terbaik:  lug_boot  dengan nilai GINI  0.5176136363636363\n",
            "\n",
            "Nilai GINI:  [0.4868035190615836]\n",
            "Fitur terbaik:  lug_boot  dengan nilai GINI  0.4868035190615836\n",
            "\n",
            "Nilai GINI:  [0.463030303030303]\n",
            "Fitur terbaik:  lug_boot  dengan nilai GINI  0.463030303030303\n",
            "\n",
            "Nilai GINI:  [0.5555472587282624, 0.6592957512282089]\n",
            "Fitur terbaik:  maint  dengan nilai GINI  0.5555472587282624\n",
            "\n",
            "Nilai GINI:  [0.4505208333333333]\n",
            "Fitur terbaik:  lug_boot  dengan nilai GINI  0.4505208333333333\n",
            "\n",
            "Nilai GINI:  [0.4634920634920635]\n",
            "Fitur terbaik:  lug_boot  dengan nilai GINI  0.4634920634920635\n",
            "\n",
            "Nilai GINI:  [0.5330554219443109]\n",
            "Fitur terbaik:  lug_boot  dengan nilai GINI  0.5330554219443109\n",
            "\n",
            "Nilai GINI:  [0.47336265884652984]\n",
            "Fitur terbaik:  lug_boot  dengan nilai GINI  0.47336265884652984\n",
            "\n",
            "Nilai GINI:  [0.22821316614420062, 0.44432841932841927]\n",
            "Fitur terbaik:  maint  dengan nilai GINI  0.22821316614420062\n",
            "\n",
            "Nilai GINI:  [0.45114942528735635]\n",
            "Fitur terbaik:  lug_boot  dengan nilai GINI  0.45114942528735635\n",
            "\n",
            "Nilai GINI:  [0.431275720164609]\n",
            "Fitur terbaik:  lug_boot  dengan nilai GINI  0.431275720164609\n",
            "\n",
            "Nilai GINI:  [0.47342667520467685, 0.4844527460971809, 0.4772859592220453]\n",
            "Fitur terbaik:  buying  dengan nilai GINI  0.47342667520467685\n",
            "\n",
            "Nilai GINI:  [0.33143772893772894, 0.2803517803517803]\n",
            "Fitur terbaik:  lug_boot  dengan nilai GINI  0.2803517803517803\n",
            "\n",
            "Nilai GINI:  [0.30555555555555547]\n",
            "Fitur terbaik:  maint  dengan nilai GINI  0.30555555555555547\n",
            "\n",
            "Nilai GINI:  [0.2777777777777778]\n",
            "Fitur terbaik:  maint  dengan nilai GINI  0.2777777777777778\n",
            "\n",
            "Nilai GINI:  [0.5587183242355656, 0.605875105875106]\n",
            "Fitur terbaik:  maint  dengan nilai GINI  0.5587183242355656\n",
            "\n",
            "Nilai GINI:  [0.4416579588993382]\n",
            "Fitur terbaik:  lug_boot  dengan nilai GINI  0.4416579588993382\n",
            "\n",
            "Nilai GINI:  [0.4921885521885523]\n",
            "Fitur terbaik:  lug_boot  dengan nilai GINI  0.4921885521885523\n",
            "\n",
            "Nilai GINI:  [0.5324074074074074]\n",
            "Fitur terbaik:  lug_boot  dengan nilai GINI  0.5324074074074074\n",
            "\n",
            "Nilai GINI:  [0.32727272727272727]\n",
            "Fitur terbaik:  lug_boot  dengan nilai GINI  0.32727272727272727\n",
            "\n",
            "Nilai GINI:  [0.49801581544097384, 0.5314669494521032]\n",
            "Fitur terbaik:  maint  dengan nilai GINI  0.49801581544097384\n",
            "\n",
            "Nilai GINI:  [0.30873015873015874]\n",
            "Fitur terbaik:  lug_boot  dengan nilai GINI  0.30873015873015874\n",
            "\n",
            "Nilai GINI:  [0.5248677248677249]\n",
            "Fitur terbaik:  lug_boot  dengan nilai GINI  0.5248677248677249\n",
            "\n",
            "Nilai GINI:  [0.37478230581678856]\n",
            "Fitur terbaik:  lug_boot  dengan nilai GINI  0.37478230581678856\n",
            "\n",
            "Nilai GINI:  [0.3075268817204301]\n",
            "Fitur terbaik:  lug_boot  dengan nilai GINI  0.3075268817204301\n",
            "\n",
            "Nilai GINI:  [0.24380032206119165, 0.26919360832404304]\n",
            "Fitur terbaik:  maint  dengan nilai GINI  0.24380032206119165\n",
            "\n",
            "Nilai GINI:  [0.3037037037037037]\n",
            "Fitur terbaik:  lug_boot  dengan nilai GINI  0.3037037037037037\n",
            "\n",
            "Nilai GINI:  [0.2875]\n",
            "Fitur terbaik:  lug_boot  dengan nilai GINI  0.2875\n",
            "\n"
          ]
        }
      ],
      "source": [
        "tree = buat_tree(data_latih, data_latih, data_latih.columns[:-1], 'class')"
      ]
    },
    {
      "cell_type": "markdown",
      "metadata": {
        "id": "evKQehVeU6YC"
      },
      "source": [
        "Tampilkan tree yang terbentuk. Gunakan library **pprint** untuk menampilkan dictionary secara teratur."
      ]
    },
    {
      "cell_type": "code",
      "execution_count": 11,
      "metadata": {
        "id": "d8AMFsUoSsLt"
      },
      "outputs": [
        {
          "name": "stdout",
          "output_type": "stream",
          "text": [
            "{'safety': {'high': {'buying': {'high': {'maint': {'high': {'lug_boot': {'big': 'acc',\n",
            "                                                                         'med': 'acc',\n",
            "                                                                         'small': 'acc'}},\n",
            "                                                   'low': {'lug_boot': {'big': 'acc',\n",
            "                                                                        'med': 'acc',\n",
            "                                                                        'small': 'acc'}},\n",
            "                                                   'med': {'lug_boot': {'big': 'acc',\n",
            "                                                                        'med': 'acc',\n",
            "                                                                        'small': 'acc'}},\n",
            "                                                   'vhigh': 'unacc'}},\n",
            "                                'low': {'maint': {'high': {'lug_boot': {'big': 'unacc',\n",
            "                                                                        'med': 'unacc',\n",
            "                                                                        'small': 'unacc'}},\n",
            "                                                  'low': {'lug_boot': {'big': 'unacc',\n",
            "                                                                       'med': 'unacc',\n",
            "                                                                       'small': 'unacc'}},\n",
            "                                                  'med': {'lug_boot': {'big': 'vgood',\n",
            "                                                                       'med': 'vgood',\n",
            "                                                                       'small': 'vgood'}},\n",
            "                                                  'vhigh': {'lug_boot': {'big': 'acc',\n",
            "                                                                         'med': 'acc',\n",
            "                                                                         'small': 'acc'}}}},\n",
            "                                'med': {'maint': {'high': {'lug_boot': {'big': 'acc',\n",
            "                                                                        'med': 'acc',\n",
            "                                                                        'small': 'acc'}},\n",
            "                                                  'low': {'lug_boot': {'big': 'good',\n",
            "                                                                       'med': 'good',\n",
            "                                                                       'small': 'good'}},\n",
            "                                                  'med': {'lug_boot': {'big': 'vgood',\n",
            "                                                                       'med': 'vgood',\n",
            "                                                                       'small': 'vgood'}},\n",
            "                                                  'vhigh': {'lug_boot': {'big': 'acc',\n",
            "                                                                         'med': 'acc',\n",
            "                                                                         'small': 'acc'}}}},\n",
            "                                'vhigh': {'maint': {'high': 'unacc',\n",
            "                                                    'low': {'lug_boot': {'big': 'acc',\n",
            "                                                                         'med': 'acc',\n",
            "                                                                         'small': 'acc'}},\n",
            "                                                    'med': {'lug_boot': {'big': 'acc',\n",
            "                                                                         'med': 'acc',\n",
            "                                                                         'small': 'acc'}},\n",
            "                                                    'vhigh': 'unacc'}}}},\n",
            "            'low': 'unacc',\n",
            "            'med': {'buying': {'high': {'lug_boot': {'big': {'maint': {'high': 'acc',\n",
            "                                                                       'low': 'acc',\n",
            "                                                                       'med': 'acc',\n",
            "                                                                       'vhigh': 'unacc'}},\n",
            "                                                     'med': {'maint': {'high': 'unacc',\n",
            "                                                                       'low': 'unacc',\n",
            "                                                                       'med': 'unacc',\n",
            "                                                                       'vhigh': 'unacc'}},\n",
            "                                                     'small': 'unacc'}},\n",
            "                               'low': {'maint': {'high': {'lug_boot': {'big': 'acc',\n",
            "                                                                       'med': 'acc',\n",
            "                                                                       'small': 'acc'}},\n",
            "                                                 'low': {'lug_boot': {'big': 'good',\n",
            "                                                                      'med': 'good',\n",
            "                                                                      'small': 'good'}},\n",
            "                                                 'med': {'lug_boot': {'big': 'unacc',\n",
            "                                                                      'med': 'unacc',\n",
            "                                                                      'small': 'unacc'}},\n",
            "                                                 'vhigh': {'lug_boot': {'big': 'unacc',\n",
            "                                                                        'med': 'unacc',\n",
            "                                                                        'small': 'unacc'}}}},\n",
            "                               'med': {'maint': {'high': {'lug_boot': {'big': 'unacc',\n",
            "                                                                       'med': 'unacc',\n",
            "                                                                       'small': 'unacc'}},\n",
            "                                                 'low': {'lug_boot': {'big': 'unacc',\n",
            "                                                                      'med': 'unacc',\n",
            "                                                                      'small': 'unacc'}},\n",
            "                                                 'med': {'lug_boot': {'big': 'acc',\n",
            "                                                                      'med': 'acc',\n",
            "                                                                      'small': 'acc'}},\n",
            "                                                 'vhigh': {'lug_boot': {'big': 'unacc',\n",
            "                                                                        'med': 'unacc',\n",
            "                                                                        'small': 'unacc'}}}},\n",
            "                               'vhigh': {'maint': {'high': 'unacc',\n",
            "                                                   'low': {'lug_boot': {'big': 'unacc',\n",
            "                                                                        'med': 'unacc',\n",
            "                                                                        'small': 'unacc'}},\n",
            "                                                   'med': {'lug_boot': {'big': 'unacc',\n",
            "                                                                        'med': 'unacc',\n",
            "                                                                        'small': 'unacc'}},\n",
            "                                                   'vhigh': 'unacc'}}}}}}\n"
          ]
        }
      ],
      "source": [
        "from pprint import pprint\n",
        "pprint(tree)"
      ]
    },
    {
      "cell_type": "markdown",
      "metadata": {
        "id": "mou0Bi1cyswK"
      },
      "source": [
        "## 5) Proses prediksi\n",
        "\n",
        "Proses prediksi kelas pada data uji dilakukan dengan melakukan *tree traversal* sampai menemui leaf."
      ]
    },
    {
      "cell_type": "code",
      "execution_count": 12,
      "metadata": {
        "id": "fzvwAIBh8g2e"
      },
      "outputs": [],
      "source": [
        "def prediksi(data_uji, tree):\n",
        "    for key in list(data_uji.keys()):\n",
        "        if key in list(tree.keys()):\n",
        "            try:\n",
        "                hasil = tree[key][data_uji[key]]\n",
        "            except:\n",
        "                return 1\n",
        "            \n",
        "            hasil = tree[key][data_uji[key]]\n",
        "            if isinstance(hasil, dict):\n",
        "                return prediksi(data_uji, hasil)\n",
        "            else:\n",
        "                return hasil"
      ]
    },
    {
      "cell_type": "markdown",
      "metadata": {
        "id": "BChrt6JtXCDP"
      },
      "source": [
        "## 6) Proses Pengujian\n",
        "Lakukan pengujian menggunakan data uji. Kelas pada data uji perlu dihapus dan data uji perlu diubah menjadi dictionary"
      ]
    },
    {
      "cell_type": "code",
      "execution_count": 13,
      "metadata": {
        "id": "IwY0kpvDXXSx"
      },
      "outputs": [
        {
          "name": "stdout",
          "output_type": "stream",
          "text": [
            "[{'buying': 'vhigh', 'maint': 'high', 'lug_boot': 'med', 'safety': 'med'}, {'buying': 'low', 'maint': 'med', 'lug_boot': 'small', 'safety': 'high'}, {'buying': 'vhigh', 'maint': 'low', 'lug_boot': 'big', 'safety': 'med'}, {'buying': 'low', 'maint': 'vhigh', 'lug_boot': 'small', 'safety': 'med'}, {'buying': 'med', 'maint': 'low', 'lug_boot': 'small', 'safety': 'low'}, {'buying': 'med', 'maint': 'high', 'lug_boot': 'med', 'safety': 'med'}, {'buying': 'med', 'maint': 'med', 'lug_boot': 'med', 'safety': 'med'}, {'buying': 'high', 'maint': 'low', 'lug_boot': 'small', 'safety': 'med'}, {'buying': 'med', 'maint': 'low', 'lug_boot': 'big', 'safety': 'high'}, {'buying': 'med', 'maint': 'med', 'lug_boot': 'med', 'safety': 'low'}, {'buying': 'vhigh', 'maint': 'vhigh', 'lug_boot': 'big', 'safety': 'low'}, {'buying': 'low', 'maint': 'vhigh', 'lug_boot': 'big', 'safety': 'med'}, {'buying': 'low', 'maint': 'low', 'lug_boot': 'big', 'safety': 'med'}, {'buying': 'high', 'maint': 'vhigh', 'lug_boot': 'big', 'safety': 'med'}, {'buying': 'vhigh', 'maint': 'med', 'lug_boot': 'med', 'safety': 'med'}, {'buying': 'high', 'maint': 'low', 'lug_boot': 'small', 'safety': 'high'}, {'buying': 'vhigh', 'maint': 'low', 'lug_boot': 'big', 'safety': 'low'}, {'buying': 'high', 'maint': 'med', 'lug_boot': 'small', 'safety': 'med'}, {'buying': 'high', 'maint': 'high', 'lug_boot': 'small', 'safety': 'high'}, {'buying': 'high', 'maint': 'low', 'lug_boot': 'big', 'safety': 'med'}, {'buying': 'med', 'maint': 'high', 'lug_boot': 'big', 'safety': 'med'}, {'buying': 'med', 'maint': 'med', 'lug_boot': 'small', 'safety': 'med'}, {'buying': 'low', 'maint': 'low', 'lug_boot': 'small', 'safety': 'high'}, {'buying': 'vhigh', 'maint': 'high', 'lug_boot': 'big', 'safety': 'high'}, {'buying': 'high', 'maint': 'high', 'lug_boot': 'med', 'safety': 'high'}, {'buying': 'vhigh', 'maint': 'vhigh', 'lug_boot': 'small', 'safety': 'low'}, {'buying': 'med', 'maint': 'vhigh', 'lug_boot': 'small', 'safety': 'low'}, {'buying': 'high', 'maint': 'med', 'lug_boot': 'med', 'safety': 'med'}, {'buying': 'vhigh', 'maint': 'high', 'lug_boot': 'big', 'safety': 'med'}, {'buying': 'med', 'maint': 'low', 'lug_boot': 'big', 'safety': 'low'}, {'buying': 'vhigh', 'maint': 'high', 'lug_boot': 'med', 'safety': 'low'}, {'buying': 'med', 'maint': 'high', 'lug_boot': 'small', 'safety': 'med'}, {'buying': 'vhigh', 'maint': 'med', 'lug_boot': 'med', 'safety': 'high'}, {'buying': 'med', 'maint': 'med', 'lug_boot': 'small', 'safety': 'low'}, {'buying': 'med', 'maint': 'low', 'lug_boot': 'big', 'safety': 'low'}, {'buying': 'high', 'maint': 'vhigh', 'lug_boot': 'big', 'safety': 'low'}, {'buying': 'high', 'maint': 'low', 'lug_boot': 'big', 'safety': 'high'}, {'buying': 'vhigh', 'maint': 'med', 'lug_boot': 'med', 'safety': 'med'}, {'buying': 'low', 'maint': 'low', 'lug_boot': 'med', 'safety': 'med'}, {'buying': 'med', 'maint': 'vhigh', 'lug_boot': 'small', 'safety': 'low'}, {'buying': 'high', 'maint': 'high', 'lug_boot': 'small', 'safety': 'low'}, {'buying': 'high', 'maint': 'low', 'lug_boot': 'med', 'safety': 'med'}, {'buying': 'vhigh', 'maint': 'vhigh', 'lug_boot': 'big', 'safety': 'high'}, {'buying': 'high', 'maint': 'vhigh', 'lug_boot': 'med', 'safety': 'low'}, {'buying': 'low', 'maint': 'high', 'lug_boot': 'big', 'safety': 'med'}, {'buying': 'high', 'maint': 'low', 'lug_boot': 'big', 'safety': 'low'}, {'buying': 'vhigh', 'maint': 'med', 'lug_boot': 'small', 'safety': 'low'}, {'buying': 'low', 'maint': 'high', 'lug_boot': 'big', 'safety': 'med'}, {'buying': 'low', 'maint': 'vhigh', 'lug_boot': 'big', 'safety': 'high'}, {'buying': 'med', 'maint': 'vhigh', 'lug_boot': 'small', 'safety': 'med'}, {'buying': 'high', 'maint': 'vhigh', 'lug_boot': 'small', 'safety': 'low'}, {'buying': 'med', 'maint': 'med', 'lug_boot': 'big', 'safety': 'med'}, {'buying': 'low', 'maint': 'med', 'lug_boot': 'med', 'safety': 'med'}, {'buying': 'high', 'maint': 'med', 'lug_boot': 'med', 'safety': 'low'}, {'buying': 'vhigh', 'maint': 'med', 'lug_boot': 'big', 'safety': 'low'}, {'buying': 'med', 'maint': 'vhigh', 'lug_boot': 'med', 'safety': 'low'}, {'buying': 'low', 'maint': 'high', 'lug_boot': 'small', 'safety': 'low'}, {'buying': 'vhigh', 'maint': 'med', 'lug_boot': 'med', 'safety': 'high'}, {'buying': 'vhigh', 'maint': 'low', 'lug_boot': 'med', 'safety': 'high'}, {'buying': 'high', 'maint': 'low', 'lug_boot': 'small', 'safety': 'med'}, {'buying': 'vhigh', 'maint': 'vhigh', 'lug_boot': 'small', 'safety': 'med'}, {'buying': 'low', 'maint': 'high', 'lug_boot': 'big', 'safety': 'low'}, {'buying': 'low', 'maint': 'low', 'lug_boot': 'big', 'safety': 'high'}, {'buying': 'vhigh', 'maint': 'high', 'lug_boot': 'small', 'safety': 'med'}, {'buying': 'high', 'maint': 'med', 'lug_boot': 'small', 'safety': 'high'}, {'buying': 'high', 'maint': 'high', 'lug_boot': 'small', 'safety': 'low'}, {'buying': 'high', 'maint': 'low', 'lug_boot': 'med', 'safety': 'med'}, {'buying': 'low', 'maint': 'high', 'lug_boot': 'med', 'safety': 'high'}, {'buying': 'vhigh', 'maint': 'low', 'lug_boot': 'med', 'safety': 'med'}, {'buying': 'vhigh', 'maint': 'vhigh', 'lug_boot': 'big', 'safety': 'high'}, {'buying': 'med', 'maint': 'high', 'lug_boot': 'big', 'safety': 'low'}, {'buying': 'high', 'maint': 'vhigh', 'lug_boot': 'big', 'safety': 'med'}, {'buying': 'high', 'maint': 'med', 'lug_boot': 'med', 'safety': 'high'}, {'buying': 'high', 'maint': 'high', 'lug_boot': 'big', 'safety': 'high'}, {'buying': 'med', 'maint': 'med', 'lug_boot': 'big', 'safety': 'high'}, {'buying': 'low', 'maint': 'med', 'lug_boot': 'small', 'safety': 'med'}, {'buying': 'low', 'maint': 'vhigh', 'lug_boot': 'med', 'safety': 'med'}, {'buying': 'low', 'maint': 'med', 'lug_boot': 'big', 'safety': 'high'}, {'buying': 'vhigh', 'maint': 'high', 'lug_boot': 'small', 'safety': 'high'}, {'buying': 'vhigh', 'maint': 'vhigh', 'lug_boot': 'small', 'safety': 'high'}, {'buying': 'high', 'maint': 'high', 'lug_boot': 'small', 'safety': 'high'}, {'buying': 'vhigh', 'maint': 'low', 'lug_boot': 'small', 'safety': 'med'}, {'buying': 'low', 'maint': 'med', 'lug_boot': 'big', 'safety': 'low'}, {'buying': 'high', 'maint': 'med', 'lug_boot': 'small', 'safety': 'low'}, {'buying': 'low', 'maint': 'vhigh', 'lug_boot': 'big', 'safety': 'high'}, {'buying': 'vhigh', 'maint': 'vhigh', 'lug_boot': 'big', 'safety': 'high'}, {'buying': 'low', 'maint': 'med', 'lug_boot': 'big', 'safety': 'med'}, {'buying': 'low', 'maint': 'high', 'lug_boot': 'small', 'safety': 'med'}, {'buying': 'med', 'maint': 'low', 'lug_boot': 'small', 'safety': 'med'}, {'buying': 'high', 'maint': 'high', 'lug_boot': 'med', 'safety': 'low'}, {'buying': 'high', 'maint': 'low', 'lug_boot': 'med', 'safety': 'high'}, {'buying': 'vhigh', 'maint': 'high', 'lug_boot': 'med', 'safety': 'med'}, {'buying': 'med', 'maint': 'low', 'lug_boot': 'big', 'safety': 'high'}, {'buying': 'med', 'maint': 'low', 'lug_boot': 'med', 'safety': 'low'}, {'buying': 'med', 'maint': 'med', 'lug_boot': 'big', 'safety': 'high'}, {'buying': 'high', 'maint': 'low', 'lug_boot': 'med', 'safety': 'low'}, {'buying': 'high', 'maint': 'low', 'lug_boot': 'med', 'safety': 'low'}, {'buying': 'med', 'maint': 'low', 'lug_boot': 'med', 'safety': 'high'}, {'buying': 'vhigh', 'maint': 'vhigh', 'lug_boot': 'small', 'safety': 'low'}, {'buying': 'high', 'maint': 'med', 'lug_boot': 'small', 'safety': 'high'}, {'buying': 'med', 'maint': 'low', 'lug_boot': 'med', 'safety': 'med'}, {'buying': 'low', 'maint': 'low', 'lug_boot': 'big', 'safety': 'low'}, {'buying': 'high', 'maint': 'vhigh', 'lug_boot': 'big', 'safety': 'high'}, {'buying': 'low', 'maint': 'high', 'lug_boot': 'small', 'safety': 'high'}, {'buying': 'high', 'maint': 'low', 'lug_boot': 'med', 'safety': 'med'}, {'buying': 'vhigh', 'maint': 'vhigh', 'lug_boot': 'small', 'safety': 'low'}, {'buying': 'vhigh', 'maint': 'low', 'lug_boot': 'med', 'safety': 'med'}, {'buying': 'med', 'maint': 'high', 'lug_boot': 'small', 'safety': 'med'}, {'buying': 'high', 'maint': 'med', 'lug_boot': 'small', 'safety': 'high'}, {'buying': 'med', 'maint': 'low', 'lug_boot': 'big', 'safety': 'med'}, {'buying': 'high', 'maint': 'med', 'lug_boot': 'big', 'safety': 'low'}, {'buying': 'low', 'maint': 'high', 'lug_boot': 'small', 'safety': 'med'}, {'buying': 'med', 'maint': 'vhigh', 'lug_boot': 'small', 'safety': 'low'}, {'buying': 'med', 'maint': 'vhigh', 'lug_boot': 'med', 'safety': 'low'}, {'buying': 'med', 'maint': 'high', 'lug_boot': 'med', 'safety': 'low'}, {'buying': 'med', 'maint': 'high', 'lug_boot': 'small', 'safety': 'high'}, {'buying': 'med', 'maint': 'low', 'lug_boot': 'med', 'safety': 'low'}, {'buying': 'low', 'maint': 'low', 'lug_boot': 'big', 'safety': 'low'}, {'buying': 'high', 'maint': 'high', 'lug_boot': 'big', 'safety': 'high'}, {'buying': 'med', 'maint': 'vhigh', 'lug_boot': 'med', 'safety': 'low'}, {'buying': 'med', 'maint': 'low', 'lug_boot': 'small', 'safety': 'high'}, {'buying': 'vhigh', 'maint': 'high', 'lug_boot': 'small', 'safety': 'low'}, {'buying': 'vhigh', 'maint': 'high', 'lug_boot': 'med', 'safety': 'low'}, {'buying': 'vhigh', 'maint': 'low', 'lug_boot': 'small', 'safety': 'med'}, {'buying': 'high', 'maint': 'low', 'lug_boot': 'big', 'safety': 'low'}, {'buying': 'low', 'maint': 'med', 'lug_boot': 'big', 'safety': 'med'}, {'buying': 'high', 'maint': 'low', 'lug_boot': 'med', 'safety': 'low'}, {'buying': 'med', 'maint': 'low', 'lug_boot': 'big', 'safety': 'high'}, {'buying': 'high', 'maint': 'high', 'lug_boot': 'med', 'safety': 'low'}, {'buying': 'vhigh', 'maint': 'low', 'lug_boot': 'med', 'safety': 'med'}, {'buying': 'high', 'maint': 'low', 'lug_boot': 'med', 'safety': 'high'}, {'buying': 'low', 'maint': 'med', 'lug_boot': 'med', 'safety': 'high'}, {'buying': 'vhigh', 'maint': 'vhigh', 'lug_boot': 'small', 'safety': 'med'}, {'buying': 'med', 'maint': 'vhigh', 'lug_boot': 'small', 'safety': 'low'}, {'buying': 'med', 'maint': 'vhigh', 'lug_boot': 'med', 'safety': 'high'}, {'buying': 'med', 'maint': 'low', 'lug_boot': 'med', 'safety': 'med'}, {'buying': 'high', 'maint': 'med', 'lug_boot': 'small', 'safety': 'med'}, {'buying': 'low', 'maint': 'vhigh', 'lug_boot': 'med', 'safety': 'high'}, {'buying': 'low', 'maint': 'vhigh', 'lug_boot': 'small', 'safety': 'low'}, {'buying': 'med', 'maint': 'high', 'lug_boot': 'small', 'safety': 'low'}, {'buying': 'med', 'maint': 'low', 'lug_boot': 'big', 'safety': 'low'}, {'buying': 'high', 'maint': 'low', 'lug_boot': 'small', 'safety': 'low'}, {'buying': 'low', 'maint': 'med', 'lug_boot': 'small', 'safety': 'low'}, {'buying': 'low', 'maint': 'med', 'lug_boot': 'big', 'safety': 'med'}, {'buying': 'high', 'maint': 'vhigh', 'lug_boot': 'small', 'safety': 'low'}, {'buying': 'low', 'maint': 'vhigh', 'lug_boot': 'med', 'safety': 'med'}, {'buying': 'low', 'maint': 'vhigh', 'lug_boot': 'small', 'safety': 'med'}, {'buying': 'high', 'maint': 'low', 'lug_boot': 'med', 'safety': 'med'}, {'buying': 'vhigh', 'maint': 'med', 'lug_boot': 'big', 'safety': 'low'}, {'buying': 'low', 'maint': 'med', 'lug_boot': 'small', 'safety': 'low'}, {'buying': 'low', 'maint': 'high', 'lug_boot': 'small', 'safety': 'high'}, {'buying': 'vhigh', 'maint': 'med', 'lug_boot': 'small', 'safety': 'high'}, {'buying': 'vhigh', 'maint': 'med', 'lug_boot': 'small', 'safety': 'high'}, {'buying': 'med', 'maint': 'med', 'lug_boot': 'small', 'safety': 'high'}, {'buying': 'high', 'maint': 'med', 'lug_boot': 'small', 'safety': 'high'}, {'buying': 'med', 'maint': 'med', 'lug_boot': 'med', 'safety': 'med'}, {'buying': 'high', 'maint': 'med', 'lug_boot': 'big', 'safety': 'med'}, {'buying': 'high', 'maint': 'low', 'lug_boot': 'med', 'safety': 'low'}, {'buying': 'vhigh', 'maint': 'low', 'lug_boot': 'small', 'safety': 'high'}, {'buying': 'high', 'maint': 'low', 'lug_boot': 'med', 'safety': 'high'}, {'buying': 'vhigh', 'maint': 'med', 'lug_boot': 'med', 'safety': 'high'}, {'buying': 'low', 'maint': 'high', 'lug_boot': 'small', 'safety': 'low'}, {'buying': 'high', 'maint': 'high', 'lug_boot': 'big', 'safety': 'high'}, {'buying': 'high', 'maint': 'med', 'lug_boot': 'small', 'safety': 'med'}, {'buying': 'low', 'maint': 'low', 'lug_boot': 'big', 'safety': 'high'}, {'buying': 'med', 'maint': 'low', 'lug_boot': 'small', 'safety': 'med'}, {'buying': 'med', 'maint': 'vhigh', 'lug_boot': 'small', 'safety': 'med'}, {'buying': 'vhigh', 'maint': 'vhigh', 'lug_boot': 'small', 'safety': 'high'}, {'buying': 'med', 'maint': 'low', 'lug_boot': 'med', 'safety': 'low'}, {'buying': 'med', 'maint': 'med', 'lug_boot': 'small', 'safety': 'high'}, {'buying': 'med', 'maint': 'high', 'lug_boot': 'med', 'safety': 'med'}, {'buying': 'high', 'maint': 'med', 'lug_boot': 'med', 'safety': 'high'}, {'buying': 'low', 'maint': 'med', 'lug_boot': 'med', 'safety': 'med'}, {'buying': 'high', 'maint': 'vhigh', 'lug_boot': 'med', 'safety': 'med'}, {'buying': 'high', 'maint': 'low', 'lug_boot': 'med', 'safety': 'low'}, {'buying': 'vhigh', 'maint': 'low', 'lug_boot': 'small', 'safety': 'high'}, {'buying': 'vhigh', 'maint': 'high', 'lug_boot': 'med', 'safety': 'low'}, {'buying': 'med', 'maint': 'low', 'lug_boot': 'small', 'safety': 'low'}, {'buying': 'low', 'maint': 'vhigh', 'lug_boot': 'small', 'safety': 'med'}, {'buying': 'med', 'maint': 'low', 'lug_boot': 'med', 'safety': 'med'}, {'buying': 'vhigh', 'maint': 'vhigh', 'lug_boot': 'med', 'safety': 'high'}, {'buying': 'high', 'maint': 'vhigh', 'lug_boot': 'big', 'safety': 'high'}, {'buying': 'vhigh', 'maint': 'med', 'lug_boot': 'big', 'safety': 'high'}, {'buying': 'high', 'maint': 'high', 'lug_boot': 'small', 'safety': 'med'}, {'buying': 'med', 'maint': 'vhigh', 'lug_boot': 'big', 'safety': 'low'}, {'buying': 'high', 'maint': 'vhigh', 'lug_boot': 'small', 'safety': 'high'}, {'buying': 'vhigh', 'maint': 'med', 'lug_boot': 'big', 'safety': 'med'}, {'buying': 'high', 'maint': 'low', 'lug_boot': 'med', 'safety': 'med'}, {'buying': 'low', 'maint': 'vhigh', 'lug_boot': 'small', 'safety': 'low'}, {'buying': 'med', 'maint': 'med', 'lug_boot': 'big', 'safety': 'med'}, {'buying': 'high', 'maint': 'vhigh', 'lug_boot': 'small', 'safety': 'low'}, {'buying': 'low', 'maint': 'high', 'lug_boot': 'med', 'safety': 'med'}, {'buying': 'vhigh', 'maint': 'med', 'lug_boot': 'small', 'safety': 'low'}, {'buying': 'vhigh', 'maint': 'vhigh', 'lug_boot': 'small', 'safety': 'low'}, {'buying': 'vhigh', 'maint': 'high', 'lug_boot': 'big', 'safety': 'med'}, {'buying': 'med', 'maint': 'vhigh', 'lug_boot': 'med', 'safety': 'med'}, {'buying': 'med', 'maint': 'low', 'lug_boot': 'med', 'safety': 'med'}, {'buying': 'vhigh', 'maint': 'high', 'lug_boot': 'big', 'safety': 'high'}, {'buying': 'high', 'maint': 'low', 'lug_boot': 'small', 'safety': 'high'}, {'buying': 'vhigh', 'maint': 'low', 'lug_boot': 'small', 'safety': 'med'}, {'buying': 'low', 'maint': 'low', 'lug_boot': 'small', 'safety': 'med'}, {'buying': 'high', 'maint': 'high', 'lug_boot': 'small', 'safety': 'med'}, {'buying': 'vhigh', 'maint': 'med', 'lug_boot': 'big', 'safety': 'med'}, {'buying': 'vhigh', 'maint': 'high', 'lug_boot': 'med', 'safety': 'high'}, {'buying': 'vhigh', 'maint': 'high', 'lug_boot': 'med', 'safety': 'med'}, {'buying': 'vhigh', 'maint': 'high', 'lug_boot': 'small', 'safety': 'low'}, {'buying': 'vhigh', 'maint': 'vhigh', 'lug_boot': 'big', 'safety': 'low'}, {'buying': 'low', 'maint': 'med', 'lug_boot': 'small', 'safety': 'med'}, {'buying': 'vhigh', 'maint': 'high', 'lug_boot': 'med', 'safety': 'low'}, {'buying': 'vhigh', 'maint': 'high', 'lug_boot': 'small', 'safety': 'med'}, {'buying': 'vhigh', 'maint': 'high', 'lug_boot': 'big', 'safety': 'low'}, {'buying': 'vhigh', 'maint': 'low', 'lug_boot': 'big', 'safety': 'low'}, {'buying': 'med', 'maint': 'vhigh', 'lug_boot': 'med', 'safety': 'high'}, {'buying': 'vhigh', 'maint': 'vhigh', 'lug_boot': 'small', 'safety': 'low'}, {'buying': 'low', 'maint': 'vhigh', 'lug_boot': 'big', 'safety': 'high'}, {'buying': 'high', 'maint': 'vhigh', 'lug_boot': 'med', 'safety': 'high'}, {'buying': 'vhigh', 'maint': 'low', 'lug_boot': 'big', 'safety': 'low'}, {'buying': 'vhigh', 'maint': 'high', 'lug_boot': 'small', 'safety': 'low'}, {'buying': 'low', 'maint': 'vhigh', 'lug_boot': 'med', 'safety': 'low'}, {'buying': 'vhigh', 'maint': 'high', 'lug_boot': 'big', 'safety': 'low'}, {'buying': 'high', 'maint': 'med', 'lug_boot': 'med', 'safety': 'high'}, {'buying': 'vhigh', 'maint': 'high', 'lug_boot': 'big', 'safety': 'med'}, {'buying': 'med', 'maint': 'low', 'lug_boot': 'small', 'safety': 'high'}, {'buying': 'med', 'maint': 'med', 'lug_boot': 'med', 'safety': 'med'}, {'buying': 'high', 'maint': 'med', 'lug_boot': 'small', 'safety': 'med'}, {'buying': 'low', 'maint': 'high', 'lug_boot': 'small', 'safety': 'med'}, {'buying': 'vhigh', 'maint': 'low', 'lug_boot': 'small', 'safety': 'high'}, {'buying': 'low', 'maint': 'vhigh', 'lug_boot': 'med', 'safety': 'high'}, {'buying': 'high', 'maint': 'high', 'lug_boot': 'big', 'safety': 'med'}, {'buying': 'high', 'maint': 'vhigh', 'lug_boot': 'med', 'safety': 'high'}, {'buying': 'med', 'maint': 'low', 'lug_boot': 'med', 'safety': 'high'}, {'buying': 'vhigh', 'maint': 'med', 'lug_boot': 'small', 'safety': 'high'}, {'buying': 'vhigh', 'maint': 'high', 'lug_boot': 'big', 'safety': 'high'}, {'buying': 'high', 'maint': 'high', 'lug_boot': 'big', 'safety': 'med'}, {'buying': 'low', 'maint': 'low', 'lug_boot': 'big', 'safety': 'med'}, {'buying': 'high', 'maint': 'med', 'lug_boot': 'small', 'safety': 'high'}, {'buying': 'low', 'maint': 'vhigh', 'lug_boot': 'small', 'safety': 'low'}, {'buying': 'high', 'maint': 'high', 'lug_boot': 'big', 'safety': 'low'}, {'buying': 'low', 'maint': 'med', 'lug_boot': 'med', 'safety': 'med'}, {'buying': 'med', 'maint': 'low', 'lug_boot': 'med', 'safety': 'med'}, {'buying': 'high', 'maint': 'low', 'lug_boot': 'big', 'safety': 'low'}, {'buying': 'vhigh', 'maint': 'vhigh', 'lug_boot': 'small', 'safety': 'med'}, {'buying': 'med', 'maint': 'high', 'lug_boot': 'med', 'safety': 'med'}, {'buying': 'low', 'maint': 'vhigh', 'lug_boot': 'small', 'safety': 'med'}, {'buying': 'vhigh', 'maint': 'high', 'lug_boot': 'small', 'safety': 'high'}, {'buying': 'med', 'maint': 'med', 'lug_boot': 'big', 'safety': 'high'}, {'buying': 'vhigh', 'maint': 'low', 'lug_boot': 'med', 'safety': 'high'}, {'buying': 'vhigh', 'maint': 'med', 'lug_boot': 'small', 'safety': 'low'}, {'buying': 'low', 'maint': 'high', 'lug_boot': 'med', 'safety': 'low'}, {'buying': 'high', 'maint': 'med', 'lug_boot': 'big', 'safety': 'high'}, {'buying': 'med', 'maint': 'med', 'lug_boot': 'small', 'safety': 'low'}, {'buying': 'high', 'maint': 'low', 'lug_boot': 'med', 'safety': 'med'}, {'buying': 'high', 'maint': 'low', 'lug_boot': 'small', 'safety': 'low'}, {'buying': 'med', 'maint': 'vhigh', 'lug_boot': 'big', 'safety': 'high'}, {'buying': 'vhigh', 'maint': 'vhigh', 'lug_boot': 'med', 'safety': 'high'}, {'buying': 'low', 'maint': 'high', 'lug_boot': 'big', 'safety': 'low'}, {'buying': 'vhigh', 'maint': 'med', 'lug_boot': 'big', 'safety': 'high'}, {'buying': 'med', 'maint': 'high', 'lug_boot': 'small', 'safety': 'med'}, {'buying': 'med', 'maint': 'med', 'lug_boot': 'small', 'safety': 'high'}, {'buying': 'low', 'maint': 'high', 'lug_boot': 'big', 'safety': 'med'}, {'buying': 'vhigh', 'maint': 'vhigh', 'lug_boot': 'small', 'safety': 'high'}, {'buying': 'low', 'maint': 'vhigh', 'lug_boot': 'big', 'safety': 'low'}, {'buying': 'high', 'maint': 'med', 'lug_boot': 'small', 'safety': 'med'}, {'buying': 'high', 'maint': 'vhigh', 'lug_boot': 'small', 'safety': 'high'}, {'buying': 'low', 'maint': 'high', 'lug_boot': 'med', 'safety': 'high'}, {'buying': 'high', 'maint': 'med', 'lug_boot': 'big', 'safety': 'med'}, {'buying': 'med', 'maint': 'low', 'lug_boot': 'small', 'safety': 'low'}, {'buying': 'vhigh', 'maint': 'high', 'lug_boot': 'small', 'safety': 'high'}, {'buying': 'low', 'maint': 'low', 'lug_boot': 'med', 'safety': 'high'}, {'buying': 'low', 'maint': 'vhigh', 'lug_boot': 'small', 'safety': 'med'}, {'buying': 'vhigh', 'maint': 'vhigh', 'lug_boot': 'big', 'safety': 'med'}, {'buying': 'med', 'maint': 'vhigh', 'lug_boot': 'big', 'safety': 'low'}, {'buying': 'low', 'maint': 'vhigh', 'lug_boot': 'small', 'safety': 'low'}, {'buying': 'high', 'maint': 'med', 'lug_boot': 'big', 'safety': 'high'}, {'buying': 'low', 'maint': 'med', 'lug_boot': 'big', 'safety': 'med'}, {'buying': 'vhigh', 'maint': 'low', 'lug_boot': 'big', 'safety': 'med'}, {'buying': 'vhigh', 'maint': 'low', 'lug_boot': 'med', 'safety': 'high'}, {'buying': 'med', 'maint': 'low', 'lug_boot': 'med', 'safety': 'low'}, {'buying': 'low', 'maint': 'med', 'lug_boot': 'small', 'safety': 'high'}, {'buying': 'vhigh', 'maint': 'vhigh', 'lug_boot': 'med', 'safety': 'low'}, {'buying': 'med', 'maint': 'high', 'lug_boot': 'small', 'safety': 'high'}, {'buying': 'med', 'maint': 'low', 'lug_boot': 'big', 'safety': 'high'}, {'buying': 'high', 'maint': 'high', 'lug_boot': 'big', 'safety': 'high'}, {'buying': 'low', 'maint': 'low', 'lug_boot': 'small', 'safety': 'low'}, {'buying': 'vhigh', 'maint': 'vhigh', 'lug_boot': 'med', 'safety': 'high'}, {'buying': 'med', 'maint': 'low', 'lug_boot': 'small', 'safety': 'low'}, {'buying': 'high', 'maint': 'high', 'lug_boot': 'big', 'safety': 'med'}, {'buying': 'med', 'maint': 'low', 'lug_boot': 'big', 'safety': 'high'}, {'buying': 'high', 'maint': 'vhigh', 'lug_boot': 'small', 'safety': 'high'}, {'buying': 'vhigh', 'maint': 'low', 'lug_boot': 'small', 'safety': 'low'}, {'buying': 'low', 'maint': 'med', 'lug_boot': 'small', 'safety': 'med'}, {'buying': 'high', 'maint': 'vhigh', 'lug_boot': 'small', 'safety': 'low'}, {'buying': 'med', 'maint': 'med', 'lug_boot': 'med', 'safety': 'high'}, {'buying': 'med', 'maint': 'high', 'lug_boot': 'small', 'safety': 'high'}, {'buying': 'vhigh', 'maint': 'high', 'lug_boot': 'med', 'safety': 'high'}, {'buying': 'low', 'maint': 'low', 'lug_boot': 'med', 'safety': 'med'}, {'buying': 'vhigh', 'maint': 'med', 'lug_boot': 'small', 'safety': 'high'}, {'buying': 'med', 'maint': 'vhigh', 'lug_boot': 'small', 'safety': 'low'}, {'buying': 'low', 'maint': 'vhigh', 'lug_boot': 'small', 'safety': 'low'}, {'buying': 'vhigh', 'maint': 'vhigh', 'lug_boot': 'big', 'safety': 'low'}, {'buying': 'med', 'maint': 'med', 'lug_boot': 'big', 'safety': 'med'}, {'buying': 'low', 'maint': 'vhigh', 'lug_boot': 'small', 'safety': 'high'}, {'buying': 'high', 'maint': 'low', 'lug_boot': 'med', 'safety': 'med'}, {'buying': 'med', 'maint': 'med', 'lug_boot': 'big', 'safety': 'low'}, {'buying': 'med', 'maint': 'med', 'lug_boot': 'big', 'safety': 'low'}, {'buying': 'med', 'maint': 'low', 'lug_boot': 'big', 'safety': 'med'}, {'buying': 'med', 'maint': 'med', 'lug_boot': 'big', 'safety': 'high'}, {'buying': 'low', 'maint': 'high', 'lug_boot': 'med', 'safety': 'high'}, {'buying': 'vhigh', 'maint': 'high', 'lug_boot': 'big', 'safety': 'med'}, {'buying': 'vhigh', 'maint': 'vhigh', 'lug_boot': 'big', 'safety': 'med'}, {'buying': 'high', 'maint': 'vhigh', 'lug_boot': 'small', 'safety': 'high'}, {'buying': 'med', 'maint': 'vhigh', 'lug_boot': 'small', 'safety': 'med'}, {'buying': 'med', 'maint': 'vhigh', 'lug_boot': 'med', 'safety': 'high'}, {'buying': 'med', 'maint': 'vhigh', 'lug_boot': 'med', 'safety': 'med'}, {'buying': 'high', 'maint': 'vhigh', 'lug_boot': 'small', 'safety': 'high'}, {'buying': 'low', 'maint': 'med', 'lug_boot': 'med', 'safety': 'low'}, {'buying': 'low', 'maint': 'low', 'lug_boot': 'med', 'safety': 'med'}, {'buying': 'high', 'maint': 'high', 'lug_boot': 'small', 'safety': 'high'}, {'buying': 'low', 'maint': 'med', 'lug_boot': 'big', 'safety': 'med'}, {'buying': 'vhigh', 'maint': 'low', 'lug_boot': 'small', 'safety': 'high'}, {'buying': 'med', 'maint': 'high', 'lug_boot': 'big', 'safety': 'med'}, {'buying': 'med', 'maint': 'high', 'lug_boot': 'big', 'safety': 'low'}, {'buying': 'high', 'maint': 'med', 'lug_boot': 'big', 'safety': 'low'}, {'buying': 'med', 'maint': 'high', 'lug_boot': 'small', 'safety': 'high'}, {'buying': 'low', 'maint': 'med', 'lug_boot': 'big', 'safety': 'low'}, {'buying': 'med', 'maint': 'med', 'lug_boot': 'big', 'safety': 'high'}, {'buying': 'low', 'maint': 'med', 'lug_boot': 'small', 'safety': 'low'}, {'buying': 'vhigh', 'maint': 'high', 'lug_boot': 'big', 'safety': 'med'}, {'buying': 'high', 'maint': 'low', 'lug_boot': 'big', 'safety': 'high'}, {'buying': 'high', 'maint': 'vhigh', 'lug_boot': 'big', 'safety': 'med'}, {'buying': 'high', 'maint': 'med', 'lug_boot': 'med', 'safety': 'low'}, {'buying': 'high', 'maint': 'high', 'lug_boot': 'big', 'safety': 'med'}, {'buying': 'vhigh', 'maint': 'low', 'lug_boot': 'big', 'safety': 'low'}, {'buying': 'high', 'maint': 'med', 'lug_boot': 'med', 'safety': 'low'}, {'buying': 'high', 'maint': 'low', 'lug_boot': 'big', 'safety': 'med'}, {'buying': 'low', 'maint': 'med', 'lug_boot': 'med', 'safety': 'high'}, {'buying': 'high', 'maint': 'med', 'lug_boot': 'med', 'safety': 'med'}, {'buying': 'med', 'maint': 'vhigh', 'lug_boot': 'med', 'safety': 'high'}, {'buying': 'high', 'maint': 'vhigh', 'lug_boot': 'big', 'safety': 'med'}, {'buying': 'vhigh', 'maint': 'vhigh', 'lug_boot': 'small', 'safety': 'high'}, {'buying': 'high', 'maint': 'med', 'lug_boot': 'small', 'safety': 'high'}, {'buying': 'high', 'maint': 'med', 'lug_boot': 'med', 'safety': 'med'}, {'buying': 'low', 'maint': 'med', 'lug_boot': 'big', 'safety': 'med'}, {'buying': 'vhigh', 'maint': 'vhigh', 'lug_boot': 'big', 'safety': 'med'}, {'buying': 'vhigh', 'maint': 'low', 'lug_boot': 'med', 'safety': 'low'}, {'buying': 'vhigh', 'maint': 'low', 'lug_boot': 'med', 'safety': 'med'}]\n"
          ]
        }
      ],
      "source": [
        "data_uji_dict = data_uji.iloc[:, :-1].to_dict(orient=\"records\")\n",
        "print(data_uji_dict)"
      ]
    },
    {
      "cell_type": "markdown",
      "metadata": {
        "id": "IbrQ119iRrJV"
      },
      "source": [
        "Lakukan pengujian terhadap keseluruhan data uji menggunakan looping."
      ]
    },
    {
      "cell_type": "code",
      "execution_count": 14,
      "metadata": {
        "id": "s8AC5eKnYAnX"
      },
      "outputs": [],
      "source": [
        "hasil_prediksi_total = []\n",
        "\n",
        "for i in range(len(data_uji_dict)):\n",
        "    hasil_prediksi = prediksi(data_uji_dict[i], tree)\n",
        "    hasil_prediksi_total.append(hasil_prediksi)"
      ]
    },
    {
      "cell_type": "markdown",
      "metadata": {
        "id": "h7JhY6JXZRi6"
      },
      "source": [
        "Bandingkan hasil prediksi dengan label sebenarnya. Hitunglah banyaknya data uji yang memiliki kelas prediksi sama dengan kelas sebenarnya"
      ]
    },
    {
      "cell_type": "code",
      "execution_count": 15,
      "metadata": {
        "id": "KZMRbhqwaCKd"
      },
      "outputs": [
        {
          "name": "stdout",
          "output_type": "stream",
          "text": [
            "Total prediksi benar:  251\n",
            "Tree model accuracy:  0.7254335260115607\n"
          ]
        }
      ],
      "source": [
        "print(\"Total prediksi benar: \", sum(hasil_prediksi_total==data_uji['class']))\n",
        "print(\"Tree model accuracy: \", sum(hasil_prediksi_total==data_uji['class'])/data_uji.shape[0])"
      ]
    },
    {
      "cell_type": "markdown",
      "metadata": {
        "id": "ZiDmUxVBuo42"
      },
      "source": [
        "## TUGAS\n",
        "Pada tugas kali ini Anda diminta memodifikasi metode pembentukan tree yang telah Anda agar metode tersebut menggunakan information gain sebagai dasar percabangan. Lengkapilah kerangka source code di bawah ini"
      ]
    },
    {
      "cell_type": "markdown",
      "metadata": {
        "id": "IYMKi5wxVa2R"
      },
      "source": [
        "Lengkapi fungsi hitung_entropy"
      ]
    },
    {
      "cell_type": "code",
      "execution_count": 16,
      "metadata": {
        "id": "qzcjfgqO_exR"
      },
      "outputs": [],
      "source": [
        "def hitung_entropy(kolom_kelas):\n",
        "  elemen, banyak = np.unique(kolom_kelas, return_counts=True)\n",
        "  freq_log = [(banyak[i]/np.sum(banyak)) * np.log2(banyak[i]/np.sum(banyak)) for i in range(len(elemen))]\n",
        "  entropy = -1 * np.sum(freq_log)\n",
        "  return entropy"
      ]
    },
    {
      "cell_type": "markdown",
      "metadata": {
        "id": "JQPDwKvWVejo"
      },
      "source": [
        "Lengkapi fungsi information_gain"
      ]
    },
    {
      "cell_type": "code",
      "execution_count": 17,
      "metadata": {
        "id": "nICq1Ce8TVXV"
      },
      "outputs": [],
      "source": [
        "def information_gain(data, nama_fitur_split, nama_fitur_kelas):\n",
        "  nilai, banyak = np.unique(data[nama_fitur_split], return_counts=True)\n",
        "  node_entropy = hitung_entropy(nama_fitur_kelas)\n",
        "  information_gain = node_entropy - np.sum([(banyak[i]/np.sum(banyak)) * hitung_entropy(data.where(data[nama_fitur_split]==nilai[i]).dropna()[nama_fitur_kelas]) for i in range(len(nilai))])\n",
        "  return information_gain"
      ]
    },
    {
      "cell_type": "code",
      "execution_count": 18,
      "metadata": {},
      "outputs": [
        {
          "data": {
            "text/plain": [
              "-1.1235412105809561"
            ]
          },
          "execution_count": 18,
          "metadata": {},
          "output_type": "execute_result"
        }
      ],
      "source": [
        "# test information_gain()\n",
        "information_gain(data_latih, 'buying', 'class')"
      ]
    },
    {
      "cell_type": "markdown",
      "metadata": {
        "id": "wRTzVLc4VnM6"
      },
      "source": [
        "Lengkapi fungsi **buat_tree_ig**. Isinya sama persis dengan fungsi **buat_tree**, hanya saja penghitungan **gini_split** diganti dengan **information_gain**. Selain itu, percabangan dilakukan dengan menggunakan nilai **information_gain** **terbesar**"
      ]
    },
    {
      "cell_type": "code",
      "execution_count": 19,
      "metadata": {
        "id": "8EJBMOEJUfOV"
      },
      "outputs": [],
      "source": [
        "def buat_tree_ig(data,data_awal, daftar_fitur, nama_fitur_kelas,kelas_parent_node=None):\n",
        "  # If there's only one class in the data (homogenous)\n",
        "  if len(np.unique(data[nama_fitur_kelas])) <= 1:\n",
        "\n",
        "    # return that class\n",
        "    return np.unique(data[nama_fitur_kelas])[0]\n",
        "\n",
        "  # If there's no data\n",
        "  elif len(data)==0:\n",
        "\n",
        "    # return parent's majority class\n",
        "    max_index = np.argmax(np.unique(data_awal[nama_fitur_kelas], return_counts=True) [1])\n",
        "    return np.unique(data_awal[nama_fitur_kelas])[max_index]\n",
        "    \n",
        "  # If there's no more feature\n",
        "  elif len(daftar_fitur)==0:\n",
        "\n",
        "    # return kelas parent\n",
        "    return kelas_parent_node\n",
        "\n",
        "  else:\n",
        "\n",
        "    # Recursively buat_tree_ig()\n",
        "    kelas_parent_node = np.unique(data[nama_fitur_kelas]) [np.argmax(np.unique(data[nama_fitur_kelas], return_counts=True)[1])]\n",
        "    \n",
        "    # Splitting criteria dihitung berdasarkan nilai information_gain\n",
        "    nilai_split = [ information_gain(data, fitur, nama_fitur_kelas) for fitur in daftar_fitur]\n",
        "    print(\"Nilai Information Gain: \", nilai_split)\n",
        "    # Fitur terbaik = fitur dengan nilai information_gain terbesar\n",
        "    index_fitur_terbaik = np.argmax(nilai_split)\n",
        "    fitur_terbaik = daftar_fitur[index_fitur_terbaik]\n",
        "    print(\"Fitur terbaik: \", fitur_terbaik, \" dengan nilai Information Gain \", nilai_split[index_fitur_terbaik])\n",
        "    print()\n",
        "    tree = {fitur_terbaik:{}}\n",
        "\n",
        "    daftar_fitur = [ i for i in daftar_fitur if i != fitur_terbaik] # eliminate fitur terbaik one-by-one\n",
        "\n",
        "    # Iterate for every unique values in fitur_terbaik\n",
        "    for nilai in np.unique(data[fitur_terbaik]):\n",
        "            \n",
        "      # Create sub data containing that one nilai only\n",
        "      sub_data = data.where(data[fitur_terbaik]==nilai).dropna()\n",
        "      # Create a new sub tree from sub data\n",
        "      subtree = buat_tree_ig(sub_data, data_awal, daftar_fitur, nama_fitur_kelas, kelas_parent_node)\n",
        "      # Add sub tree for every nilai to main tree\n",
        "      tree[fitur_terbaik][nilai] = subtree\n",
        "      \n",
        "  return(tree)"
      ]
    },
    {
      "cell_type": "markdown",
      "metadata": {
        "id": "CKVka-apV_0n"
      },
      "source": [
        "Lakukan pembentukan tree menggunakan fungsi **buat_tree_ig**"
      ]
    },
    {
      "cell_type": "code",
      "execution_count": 20,
      "metadata": {
        "id": "5ax_yrUwUwo7"
      },
      "outputs": [
        {
          "name": "stdout",
          "output_type": "stream",
          "text": [
            "Nilai Information Gain:  [-1.1235412105809561, -1.145214375382843, -1.192011002521087, -0.947072085632132]\n",
            "Fitur terbaik:  safety  dengan nilai Information Gain  -0.947072085632132\n",
            "\n",
            "Nilai Information Gain:  [-1.4297291146097422, -1.497897328795924, -1.5349453108119397]\n",
            "Fitur terbaik:  buying  dengan nilai Information Gain  -1.4297291146097422\n",
            "\n",
            "Nilai Information Gain:  [-0.6753855741523577, -0.99764351739384]\n",
            "Fitur terbaik:  maint  dengan nilai Information Gain  -0.6753855741523577\n",
            "\n",
            "Nilai Information Gain:  [-0.8453736940981362]\n",
            "Fitur terbaik:  lug_boot  dengan nilai Information Gain  -0.8453736940981362\n",
            "\n",
            "Nilai Information Gain:  [-0.964626498311624]\n",
            "Fitur terbaik:  lug_boot  dengan nilai Information Gain  -0.964626498311624\n",
            "\n",
            "Nilai Information Gain:  [-0.725558619496705]\n",
            "Fitur terbaik:  lug_boot  dengan nilai Information Gain  -0.725558619496705\n",
            "\n",
            "Nilai Information Gain:  [-1.415418223447856, -1.6119351096639847]\n",
            "Fitur terbaik:  maint  dengan nilai Information Gain  -1.415418223447856\n",
            "\n",
            "Nilai Information Gain:  [-1.1223866941764908]\n",
            "Fitur terbaik:  lug_boot  dengan nilai Information Gain  -1.1223866941764908\n",
            "\n",
            "Nilai Information Gain:  [-1.141063520180024]\n",
            "Fitur terbaik:  lug_boot  dengan nilai Information Gain  -1.141063520180024\n",
            "\n"
          ]
        },
        {
          "name": "stdout",
          "output_type": "stream",
          "text": [
            "Nilai Information Gain:  [-1.0588649295919605]\n",
            "Fitur terbaik:  lug_boot  dengan nilai Information Gain  -1.0588649295919605\n",
            "\n",
            "Nilai Information Gain:  [-0.9458810600548044]\n",
            "Fitur terbaik:  lug_boot  dengan nilai Information Gain  -0.9458810600548044\n",
            "\n",
            "Nilai Information Gain:  [-1.2378137809202165, -1.62418521887466]\n",
            "Fitur terbaik:  maint  dengan nilai Information Gain  -1.2378137809202165\n",
            "\n",
            "Nilai Information Gain:  [-0.9273303762721083]\n",
            "Fitur terbaik:  lug_boot  dengan nilai Information Gain  -0.9273303762721083\n",
            "\n",
            "Nilai Information Gain:  [-1.0616342365529594]\n",
            "Fitur terbaik:  lug_boot  dengan nilai Information Gain  -1.0616342365529594\n",
            "\n",
            "Nilai Information Gain:  [-1.1813281794354422]\n",
            "Fitur terbaik:  lug_boot  dengan nilai Information Gain  -1.1813281794354422\n",
            "\n",
            "Nilai Information Gain:  [-0.9611664662522772]\n",
            "Fitur terbaik:  lug_boot  dengan nilai Information Gain  -0.9611664662522772\n",
            "\n",
            "Nilai Information Gain:  [-0.4704139333988096, -0.9178701517489929]\n",
            "Fitur terbaik:  maint  dengan nilai Information Gain  -0.4704139333988096\n",
            "\n",
            "Nilai Information Gain:  [-0.9282649840877241]\n",
            "Fitur terbaik:  lug_boot  dengan nilai Information Gain  -0.9282649840877241\n",
            "\n",
            "Nilai Information Gain:  [-0.8971414269082958]\n",
            "Fitur terbaik:  lug_boot  dengan nilai Information Gain  -0.8971414269082958\n",
            "\n",
            "Nilai Information Gain:  [-1.083290063601851, -1.0966991360836524, -1.1152513207701689]\n",
            "Fitur terbaik:  buying  dengan nilai Information Gain  -1.083290063601851\n",
            "\n",
            "Nilai Information Gain:  [-0.678964602443967, -0.5829754451058342]\n",
            "Fitur terbaik:  lug_boot  dengan nilai Information Gain  -0.5829754451058342\n",
            "\n",
            "Nilai Information Gain:  [-0.6505281080303714]\n",
            "Fitur terbaik:  maint  dengan nilai Information Gain  -0.6505281080303714\n",
            "\n",
            "Nilai Information Gain:  [-0.5588678275231846]\n",
            "Fitur terbaik:  maint  dengan nilai Information Gain  -0.5588678275231846\n",
            "\n",
            "Nilai Information Gain:  [-1.2462154290779481, -1.3817153363006942]\n",
            "Fitur terbaik:  maint  dengan nilai Information Gain  -1.2462154290779481\n",
            "\n",
            "Nilai Information Gain:  [-0.9132140464786624]\n",
            "Fitur terbaik:  lug_boot  dengan nilai Information Gain  -0.9132140464786624\n",
            "\n",
            "Nilai Information Gain:  [-1.0637346118311326]\n",
            "Fitur terbaik:  lug_boot  dengan nilai Information Gain  -1.0637346118311326\n",
            "\n",
            "Nilai Information Gain:  [-1.1599737115453332]\n",
            "Fitur terbaik:  lug_boot  dengan nilai Information Gain  -1.1599737115453332\n",
            "\n",
            "Nilai Information Gain:  [-0.6788702231211959]\n",
            "Fitur terbaik:  lug_boot  dengan nilai Information Gain  -0.6788702231211959\n",
            "\n",
            "Nilai Information Gain:  [-1.0751753170603797, -1.2024752744257703]\n",
            "Fitur terbaik:  maint  dengan nilai Information Gain  -1.0751753170603797\n",
            "\n",
            "Nilai Information Gain:  [-0.6333069118161045]\n",
            "Fitur terbaik:  lug_boot  dengan nilai Information Gain  -0.6333069118161045\n",
            "\n",
            "Nilai Information Gain:  [-1.1228003274567826]\n",
            "Fitur terbaik:  lug_boot  dengan nilai Information Gain  -1.1228003274567826\n",
            "\n",
            "Nilai Information Gain:  [-0.799870719657871]\n",
            "Fitur terbaik:  lug_boot  dengan nilai Information Gain  -0.799870719657871\n",
            "\n",
            "Nilai Information Gain:  [-0.6397567419664775]\n",
            "Fitur terbaik:  lug_boot  dengan nilai Information Gain  -0.6397567419664775\n",
            "\n",
            "Nilai Information Gain:  [-0.4945226334521936, -0.566099819021631]\n",
            "Fitur terbaik:  maint  dengan nilai Information Gain  -0.4945226334521936\n",
            "\n",
            "Nilai Information Gain:  [-0.6227003330484047]\n",
            "Fitur terbaik:  lug_boot  dengan nilai Information Gain  -0.6227003330484047\n",
            "\n",
            "Nilai Information Gain:  [-0.5879034060095915]\n",
            "Fitur terbaik:  lug_boot  dengan nilai Information Gain  -0.5879034060095915\n",
            "\n"
          ]
        }
      ],
      "source": [
        "tree_ig = buat_tree_ig(data_latih,data_latih,data_latih.columns[:-1],'class')"
      ]
    },
    {
      "cell_type": "markdown",
      "metadata": {
        "id": "YBqhseFmWLPq"
      },
      "source": [
        "Tampilkan tree yang terbentuk"
      ]
    },
    {
      "cell_type": "code",
      "execution_count": 21,
      "metadata": {
        "id": "yt6_LzfIU9nR"
      },
      "outputs": [
        {
          "name": "stdout",
          "output_type": "stream",
          "text": [
            "{'safety': {'high': {'buying': {'high': {'maint': {'high': {'lug_boot': {'big': 'acc',\n",
            "                                                                         'med': 'acc',\n",
            "                                                                         'small': 'acc'}},\n",
            "                                                   'low': {'lug_boot': {'big': 'acc',\n",
            "                                                                        'med': 'acc',\n",
            "                                                                        'small': 'acc'}},\n",
            "                                                   'med': {'lug_boot': {'big': 'acc',\n",
            "                                                                        'med': 'acc',\n",
            "                                                                        'small': 'acc'}},\n",
            "                                                   'vhigh': 'unacc'}},\n",
            "                                'low': {'maint': {'high': {'lug_boot': {'big': 'unacc',\n",
            "                                                                        'med': 'unacc',\n",
            "                                                                        'small': 'unacc'}},\n",
            "                                                  'low': {'lug_boot': {'big': 'unacc',\n",
            "                                                                       'med': 'unacc',\n",
            "                                                                       'small': 'unacc'}},\n",
            "                                                  'med': {'lug_boot': {'big': 'vgood',\n",
            "                                                                       'med': 'vgood',\n",
            "                                                                       'small': 'vgood'}},\n",
            "                                                  'vhigh': {'lug_boot': {'big': 'acc',\n",
            "                                                                         'med': 'acc',\n",
            "                                                                         'small': 'acc'}}}},\n",
            "                                'med': {'maint': {'high': {'lug_boot': {'big': 'acc',\n",
            "                                                                        'med': 'acc',\n",
            "                                                                        'small': 'acc'}},\n",
            "                                                  'low': {'lug_boot': {'big': 'good',\n",
            "                                                                       'med': 'good',\n",
            "                                                                       'small': 'good'}},\n",
            "                                                  'med': {'lug_boot': {'big': 'vgood',\n",
            "                                                                       'med': 'vgood',\n",
            "                                                                       'small': 'vgood'}},\n",
            "                                                  'vhigh': {'lug_boot': {'big': 'acc',\n",
            "                                                                         'med': 'acc',\n",
            "                                                                         'small': 'acc'}}}},\n",
            "                                'vhigh': {'maint': {'high': 'unacc',\n",
            "                                                    'low': {'lug_boot': {'big': 'acc',\n",
            "                                                                         'med': 'acc',\n",
            "                                                                         'small': 'acc'}},\n",
            "                                                    'med': {'lug_boot': {'big': 'acc',\n",
            "                                                                         'med': 'acc',\n",
            "                                                                         'small': 'acc'}},\n",
            "                                                    'vhigh': 'unacc'}}}},\n",
            "            'low': 'unacc',\n",
            "            'med': {'buying': {'high': {'lug_boot': {'big': {'maint': {'high': 'acc',\n",
            "                                                                       'low': 'acc',\n",
            "                                                                       'med': 'acc',\n",
            "                                                                       'vhigh': 'unacc'}},\n",
            "                                                     'med': {'maint': {'high': 'unacc',\n",
            "                                                                       'low': 'unacc',\n",
            "                                                                       'med': 'unacc',\n",
            "                                                                       'vhigh': 'unacc'}},\n",
            "                                                     'small': 'unacc'}},\n",
            "                               'low': {'maint': {'high': {'lug_boot': {'big': 'acc',\n",
            "                                                                       'med': 'acc',\n",
            "                                                                       'small': 'acc'}},\n",
            "                                                 'low': {'lug_boot': {'big': 'good',\n",
            "                                                                      'med': 'good',\n",
            "                                                                      'small': 'good'}},\n",
            "                                                 'med': {'lug_boot': {'big': 'unacc',\n",
            "                                                                      'med': 'unacc',\n",
            "                                                                      'small': 'unacc'}},\n",
            "                                                 'vhigh': {'lug_boot': {'big': 'unacc',\n",
            "                                                                        'med': 'unacc',\n",
            "                                                                        'small': 'unacc'}}}},\n",
            "                               'med': {'maint': {'high': {'lug_boot': {'big': 'unacc',\n",
            "                                                                       'med': 'unacc',\n",
            "                                                                       'small': 'unacc'}},\n",
            "                                                 'low': {'lug_boot': {'big': 'unacc',\n",
            "                                                                      'med': 'unacc',\n",
            "                                                                      'small': 'unacc'}},\n",
            "                                                 'med': {'lug_boot': {'big': 'acc',\n",
            "                                                                      'med': 'acc',\n",
            "                                                                      'small': 'acc'}},\n",
            "                                                 'vhigh': {'lug_boot': {'big': 'unacc',\n",
            "                                                                        'med': 'unacc',\n",
            "                                                                        'small': 'unacc'}}}},\n",
            "                               'vhigh': {'maint': {'high': 'unacc',\n",
            "                                                   'low': {'lug_boot': {'big': 'unacc',\n",
            "                                                                        'med': 'unacc',\n",
            "                                                                        'small': 'unacc'}},\n",
            "                                                   'med': {'lug_boot': {'big': 'unacc',\n",
            "                                                                        'med': 'unacc',\n",
            "                                                                        'small': 'unacc'}},\n",
            "                                                   'vhigh': 'unacc'}}}}}}\n"
          ]
        }
      ],
      "source": [
        "pprint(tree_ig)"
      ]
    },
    {
      "cell_type": "markdown",
      "metadata": {
        "id": "5x-TO_QCWRiX"
      },
      "source": [
        "Lakukan pengujian menggunakan tree yang terbentuk"
      ]
    },
    {
      "cell_type": "code",
      "execution_count": 22,
      "metadata": {
        "id": "Jx0mcASEVIMZ"
      },
      "outputs": [
        {
          "name": "stdout",
          "output_type": "stream",
          "text": [
            "Total prediksi benar:  251\n",
            "Tree model accuracy:  0.7254335260115607\n"
          ]
        }
      ],
      "source": [
        "hasil_prediksi_total_ig = []\n",
        "for i in range(len(data_uji_dict)):\n",
        "  hasil_prediksi = prediksi(data_uji_dict[i],tree_ig)\n",
        "  hasil_prediksi_total_ig.append(hasil_prediksi)\n",
        "print(\"Total prediksi benar: \",sum(hasil_prediksi_total_ig==data_uji['class']))\n",
        "print(\"Tree model accuracy: \", sum(hasil_prediksi_total==data_uji['class'])/data_uji.shape[0])\n"
      ]
    },
    {
      "cell_type": "markdown",
      "metadata": {
        "id": "PcWNZAZJW53r"
      },
      "source": [
        "# PERTANYAAN\n",
        "\n",
        "Jawablah pertanyaan di bawah ini"
      ]
    },
    {
      "cell_type": "markdown",
      "metadata": {
        "id": "S0cHXissXCO7"
      },
      "source": [
        "\n",
        "\n",
        "1.   Amati tree yang dihasilkan dengan kriteria percabangan GINI dan Information Gain. Apa perbedaan tree yang dihasilkan dari kedua metode tersebut?\n",
        "2.   Apakah penggunaan Information Gain dapat meningkatkan akurasi prediksi?\n",
        "\n"
      ]
    },
    {
      "cell_type": "markdown",
      "metadata": {
        "id": "wQSW_Ix3XaNT"
      },
      "source": [
        "Tulis jawaban Anda di cell ini\n",
        "\n",
        "\n",
        "1.   Pada kasus di atas dengan random_state=101, tidak ada perbedaan model antara tree yang dihasilkan dengan kriteria percabangan GINI dengan tree yang dihasilkan dengan kriteria percabangan Information Gain. Hal ini menandakan jika order _feature importance_ dari skor GINI dan Information Gain untuk semua feature dataset konsisten. Kedua model tersebut konsisten menempatkan fitur 'safety' sebagai percabangan pertama setelah _root_ node.\n",
        "2.   Pada kasus di atas, tidak ada pengaruh yang diberikan pada akurasi model Decision Tree yang dibentuk dalam penggunaan Information Gain jika dibandingkan dengan penggunaan GINI sebagai splitting criteria. Akan tetapi, secara teoretikal, penggunaan GINI sebagai splitting criteria dinilai lebih baik dalam dataset yang berbentuk kategorikal (seperti pada dataset di atas) dikarenakan sifatnya yang berbasis pada impuritas/homogenitas kelas sub-data yang dihasilkan. Sedangkan penggunaan Information Gain sebagai splitting criteria dinilai lebih baik dalam dataset dengan nilai kontinu, memberikan model Decision Tree dengan depth antara _child_ yang lebih seimbang.\n",
        "\n"
      ]
    }
  ],
  "metadata": {
    "colab": {
      "provenance": [],
      "toc_visible": true
    },
    "kernelspec": {
      "display_name": "Python 3",
      "name": "python3"
    },
    "language_info": {
      "codemirror_mode": {
        "name": "ipython",
        "version": 3
      },
      "file_extension": ".py",
      "mimetype": "text/x-python",
      "name": "python",
      "nbconvert_exporter": "python",
      "pygments_lexer": "ipython3",
      "version": "3.1.undefined"
    }
  },
  "nbformat": 4,
  "nbformat_minor": 0
}
