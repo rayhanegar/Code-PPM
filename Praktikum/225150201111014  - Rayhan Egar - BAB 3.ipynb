{
  "cells": [
    {
      "cell_type": "markdown",
      "metadata": {
        "id": "-qDsm6BnME2X"
      },
      "source": [
        "# Praktikum Pengantar Pembelajaran Mesin\n",
        "\n",
        "\n",
        "---\n",
        "## Bab 3. Klasifikasi K-Nearest Neighbor (KNN)\n"
      ]
    },
    {
      "cell_type": "markdown",
      "metadata": {
        "id": "z_VawE4L4na8"
      },
      "source": [
        "Tuliskan Nama, NIM, dan kelas Anda:\n",
        "\n",
        "Nama : Rayhan Egar Sadtya Nugraha\n",
        "\n",
        "NIM   : 225510201111014\n",
        "\n",
        "Kelas : PPM-D"
      ]
    },
    {
      "cell_type": "markdown",
      "metadata": {
        "id": "sQAGcnK3MOS7"
      },
      "source": [
        "### 1) Import Data\n",
        "\n",
        "Unduh dataset yang akan digunakan pada praktikum kali ini. Anda dapat menggunakan aplikasi wget untuk mendowload dataset dan menyimpannya dalam Google Colab. Jalankan cell di bawah ini untuk mengunduh dataset"
      ]
    },
    {
      "cell_type": "code",
      "execution_count": 1,
      "metadata": {
        "id": "FpjqVlzBMNLd"
      },
      "outputs": [
        {
          "name": "stdout",
          "output_type": "stream",
          "text": [
            "--2024-03-19 22:36:51--  https://gist.githubusercontent.com/netj/8836201/raw/6f9306ad21398ea43cba4f7d537619d0e07d5ae3/iris.csv\n",
            "Resolving gist.githubusercontent.com (gist.githubusercontent.com)... 185.199.108.133, 185.199.109.133, 185.199.111.133, ...\n",
            "Connecting to gist.githubusercontent.com (gist.githubusercontent.com)|185.199.108.133|:443... connected.\n",
            "HTTP request sent, awaiting response... 200 OK\n",
            "Length: 3975 (3.9K) [text/plain]\n",
            "Saving to: ‘iris.csv’\n",
            "\n",
            "iris.csv            100%[===================>]   3.88K  --.-KB/s    in 0.001s  \n",
            "\n",
            "2024-03-19 22:36:51 (7.35 MB/s) - ‘iris.csv’ saved [3975/3975]\n",
            "\n"
          ]
        }
      ],
      "source": [
        "! wget https://gist.githubusercontent.com/netj/8836201/raw/6f9306ad21398ea43cba4f7d537619d0e07d5ae3/iris.csv"
      ]
    },
    {
      "cell_type": "markdown",
      "metadata": {
        "id": "SJy4t3lIOgGp"
      },
      "source": [
        "Setelah dataset berhasil diunduh, langkah berikutnya adalah membaca dataset dengan memanfaatkan fungsi **readcsv** dari library pandas. Lakukan pembacaan berkas csv ke dalam dataframe dengan nama **data** menggunakan fungsi **readcsv**. Jangan lupa untuk melakukan import library pandas terlebih dahulu\n"
      ]
    },
    {
      "cell_type": "code",
      "execution_count": 2,
      "metadata": {
        "id": "mdhbxk_2OzbB"
      },
      "outputs": [],
      "source": [
        "import pandas as pd\n",
        "import numpy as np\n",
        "\n",
        "data = pd.read_csv('iris.csv')"
      ]
    },
    {
      "cell_type": "markdown",
      "metadata": {
        "id": "w6NfrIDTOK38"
      },
      "source": [
        "\n",
        "\n",
        "Cek isi dataset Anda dengan menggunakan perintah **head()**"
      ]
    },
    {
      "cell_type": "code",
      "execution_count": 3,
      "metadata": {
        "id": "Uaiaj796OFH3"
      },
      "outputs": [
        {
          "data": {
            "text/html": [
              "<div>\n",
              "<style scoped>\n",
              "    .dataframe tbody tr th:only-of-type {\n",
              "        vertical-align: middle;\n",
              "    }\n",
              "\n",
              "    .dataframe tbody tr th {\n",
              "        vertical-align: top;\n",
              "    }\n",
              "\n",
              "    .dataframe thead th {\n",
              "        text-align: right;\n",
              "    }\n",
              "</style>\n",
              "<table border=\"1\" class=\"dataframe\">\n",
              "  <thead>\n",
              "    <tr style=\"text-align: right;\">\n",
              "      <th></th>\n",
              "      <th>sepal.length</th>\n",
              "      <th>sepal.width</th>\n",
              "      <th>petal.length</th>\n",
              "      <th>petal.width</th>\n",
              "      <th>variety</th>\n",
              "    </tr>\n",
              "  </thead>\n",
              "  <tbody>\n",
              "    <tr>\n",
              "      <th>0</th>\n",
              "      <td>5.1</td>\n",
              "      <td>3.5</td>\n",
              "      <td>1.4</td>\n",
              "      <td>0.2</td>\n",
              "      <td>Setosa</td>\n",
              "    </tr>\n",
              "    <tr>\n",
              "      <th>1</th>\n",
              "      <td>4.9</td>\n",
              "      <td>3.0</td>\n",
              "      <td>1.4</td>\n",
              "      <td>0.2</td>\n",
              "      <td>Setosa</td>\n",
              "    </tr>\n",
              "    <tr>\n",
              "      <th>2</th>\n",
              "      <td>4.7</td>\n",
              "      <td>3.2</td>\n",
              "      <td>1.3</td>\n",
              "      <td>0.2</td>\n",
              "      <td>Setosa</td>\n",
              "    </tr>\n",
              "    <tr>\n",
              "      <th>3</th>\n",
              "      <td>4.6</td>\n",
              "      <td>3.1</td>\n",
              "      <td>1.5</td>\n",
              "      <td>0.2</td>\n",
              "      <td>Setosa</td>\n",
              "    </tr>\n",
              "    <tr>\n",
              "      <th>4</th>\n",
              "      <td>5.0</td>\n",
              "      <td>3.6</td>\n",
              "      <td>1.4</td>\n",
              "      <td>0.2</td>\n",
              "      <td>Setosa</td>\n",
              "    </tr>\n",
              "  </tbody>\n",
              "</table>\n",
              "</div>"
            ],
            "text/plain": [
              "   sepal.length  sepal.width  petal.length  petal.width variety\n",
              "0           5.1          3.5           1.4          0.2  Setosa\n",
              "1           4.9          3.0           1.4          0.2  Setosa\n",
              "2           4.7          3.2           1.3          0.2  Setosa\n",
              "3           4.6          3.1           1.5          0.2  Setosa\n",
              "4           5.0          3.6           1.4          0.2  Setosa"
            ]
          },
          "execution_count": 3,
          "metadata": {},
          "output_type": "execute_result"
        }
      ],
      "source": [
        "data.head()"
      ]
    },
    {
      "cell_type": "markdown",
      "metadata": {
        "id": "lfi1uHIxPdDe"
      },
      "source": [
        "## 2) Membagi data menjadi data latih dan data uji\n",
        "\n",
        "Metode pembelajaran mesin memerlukan dua jenis data :\n",
        "\n",
        "\n",
        "1.   Data latih : Digunakan untuk proses training metode klasifikasi\n",
        "2.   Data uji : Digunakan untuk proses evaluasi metode klasifikasi\n",
        "\n",
        "Data uji dan data latih perlu dibuat terpisah (mutualy exclusive) agar hasil evaluasi lebih akurat.\n",
        "\n",
        "Data uji dan data latih dapat dibuat dengan cara membagi dataset dengan rasio tertentu, misalnya 80% data latih dan 20% data uji.\n",
        "\n",
        "Library Scikit-learn memiliki fungsi [train_test_split](https://scikit-learn.org/stable/modules/generated/sklearn.model_selection.train_test_split.html) pada modul **model_selection** untuk membagi dataset menjadi data latih dan data uji. Bagilah dataset anda menjadi dua, yaitu **data_latih** dan **data_uji**.\n"
      ]
    },
    {
      "cell_type": "code",
      "execution_count": 4,
      "metadata": {
        "id": "jJjfXgfmPTlU"
      },
      "outputs": [],
      "source": [
        "from sklearn.model_selection import train_test_split\n",
        "data_latih, data_uji = train_test_split(data, test_size=0.2)"
      ]
    },
    {
      "cell_type": "markdown",
      "metadata": {
        "id": "tBhcsUDYfw2q"
      },
      "source": [
        "Tampilkan banyaknya data pada **data_latih** dan **data_uji**. Seharusnya **data_latih** terdiri dari 120 data, dan **data_uji** terdiri dari 30 data"
      ]
    },
    {
      "cell_type": "code",
      "execution_count": 5,
      "metadata": {
        "id": "6OtySD4efmmQ"
      },
      "outputs": [
        {
          "name": "stdout",
          "output_type": "stream",
          "text": [
            "120\n",
            "30\n"
          ]
        }
      ],
      "source": [
        "print(data_latih.shape[0])\n",
        "print(data_uji.shape[0])"
      ]
    },
    {
      "cell_type": "markdown",
      "metadata": {
        "id": "DeU-FCyTkVKC"
      },
      "source": [
        "Pisahkan label/kategori dari data latih dan data uji menjadi variabel tersendiri. Beri nama variabelnya **label_latih** dan **label_uji**"
      ]
    },
    {
      "cell_type": "code",
      "execution_count": 6,
      "metadata": {
        "id": "e4vC_M0mkkl3"
      },
      "outputs": [],
      "source": [
        "label_latih = data_latih.pop('variety')\n",
        "label_uji = data_uji.pop('variety')"
      ]
    },
    {
      "cell_type": "code",
      "execution_count": 7,
      "metadata": {},
      "outputs": [
        {
          "data": {
            "text/html": [
              "<div>\n",
              "<style scoped>\n",
              "    .dataframe tbody tr th:only-of-type {\n",
              "        vertical-align: middle;\n",
              "    }\n",
              "\n",
              "    .dataframe tbody tr th {\n",
              "        vertical-align: top;\n",
              "    }\n",
              "\n",
              "    .dataframe thead th {\n",
              "        text-align: right;\n",
              "    }\n",
              "</style>\n",
              "<table border=\"1\" class=\"dataframe\">\n",
              "  <thead>\n",
              "    <tr style=\"text-align: right;\">\n",
              "      <th></th>\n",
              "      <th>sepal.length</th>\n",
              "      <th>sepal.width</th>\n",
              "      <th>petal.length</th>\n",
              "      <th>petal.width</th>\n",
              "    </tr>\n",
              "  </thead>\n",
              "  <tbody>\n",
              "    <tr>\n",
              "      <th>46</th>\n",
              "      <td>5.1</td>\n",
              "      <td>3.8</td>\n",
              "      <td>1.6</td>\n",
              "      <td>0.2</td>\n",
              "    </tr>\n",
              "    <tr>\n",
              "      <th>9</th>\n",
              "      <td>4.9</td>\n",
              "      <td>3.1</td>\n",
              "      <td>1.5</td>\n",
              "      <td>0.1</td>\n",
              "    </tr>\n",
              "    <tr>\n",
              "      <th>41</th>\n",
              "      <td>4.5</td>\n",
              "      <td>2.3</td>\n",
              "      <td>1.3</td>\n",
              "      <td>0.3</td>\n",
              "    </tr>\n",
              "    <tr>\n",
              "      <th>18</th>\n",
              "      <td>5.7</td>\n",
              "      <td>3.8</td>\n",
              "      <td>1.7</td>\n",
              "      <td>0.3</td>\n",
              "    </tr>\n",
              "    <tr>\n",
              "      <th>85</th>\n",
              "      <td>6.0</td>\n",
              "      <td>3.4</td>\n",
              "      <td>4.5</td>\n",
              "      <td>1.6</td>\n",
              "    </tr>\n",
              "  </tbody>\n",
              "</table>\n",
              "</div>"
            ],
            "text/plain": [
              "    sepal.length  sepal.width  petal.length  petal.width\n",
              "46           5.1          3.8           1.6          0.2\n",
              "9            4.9          3.1           1.5          0.1\n",
              "41           4.5          2.3           1.3          0.3\n",
              "18           5.7          3.8           1.7          0.3\n",
              "85           6.0          3.4           4.5          1.6"
            ]
          },
          "execution_count": 7,
          "metadata": {},
          "output_type": "execute_result"
        }
      ],
      "source": [
        "data_latih.head()"
      ]
    },
    {
      "cell_type": "code",
      "execution_count": 8,
      "metadata": {
        "id": "ogQLMrUjlU2_"
      },
      "outputs": [
        {
          "data": {
            "text/html": [
              "<div>\n",
              "<style scoped>\n",
              "    .dataframe tbody tr th:only-of-type {\n",
              "        vertical-align: middle;\n",
              "    }\n",
              "\n",
              "    .dataframe tbody tr th {\n",
              "        vertical-align: top;\n",
              "    }\n",
              "\n",
              "    .dataframe thead th {\n",
              "        text-align: right;\n",
              "    }\n",
              "</style>\n",
              "<table border=\"1\" class=\"dataframe\">\n",
              "  <thead>\n",
              "    <tr style=\"text-align: right;\">\n",
              "      <th></th>\n",
              "      <th>sepal.length</th>\n",
              "      <th>sepal.width</th>\n",
              "      <th>petal.length</th>\n",
              "      <th>petal.width</th>\n",
              "    </tr>\n",
              "  </thead>\n",
              "  <tbody>\n",
              "    <tr>\n",
              "      <th>120</th>\n",
              "      <td>6.9</td>\n",
              "      <td>3.2</td>\n",
              "      <td>5.7</td>\n",
              "      <td>2.3</td>\n",
              "    </tr>\n",
              "    <tr>\n",
              "      <th>17</th>\n",
              "      <td>5.1</td>\n",
              "      <td>3.5</td>\n",
              "      <td>1.4</td>\n",
              "      <td>0.3</td>\n",
              "    </tr>\n",
              "    <tr>\n",
              "      <th>106</th>\n",
              "      <td>4.9</td>\n",
              "      <td>2.5</td>\n",
              "      <td>4.5</td>\n",
              "      <td>1.7</td>\n",
              "    </tr>\n",
              "    <tr>\n",
              "      <th>88</th>\n",
              "      <td>5.6</td>\n",
              "      <td>3.0</td>\n",
              "      <td>4.1</td>\n",
              "      <td>1.3</td>\n",
              "    </tr>\n",
              "    <tr>\n",
              "      <th>39</th>\n",
              "      <td>5.1</td>\n",
              "      <td>3.4</td>\n",
              "      <td>1.5</td>\n",
              "      <td>0.2</td>\n",
              "    </tr>\n",
              "  </tbody>\n",
              "</table>\n",
              "</div>"
            ],
            "text/plain": [
              "     sepal.length  sepal.width  petal.length  petal.width\n",
              "120           6.9          3.2           5.7          2.3\n",
              "17            5.1          3.5           1.4          0.3\n",
              "106           4.9          2.5           4.5          1.7\n",
              "88            5.6          3.0           4.1          1.3\n",
              "39            5.1          3.4           1.5          0.2"
            ]
          },
          "execution_count": 8,
          "metadata": {},
          "output_type": "execute_result"
        }
      ],
      "source": [
        "data_uji.head()"
      ]
    },
    {
      "cell_type": "markdown",
      "metadata": {
        "id": "xm_dJNeMgl9u"
      },
      "source": [
        "## 3) Menghitung jarak euclidean\n",
        "\n",
        "Tahapan awal dari algoritma KNN adalah perhitungan jarak. Salah satu metode perhitungan jarak yang bisa digunakan adalah jarak Euclidean. Buatlah fungsi bernama **jarakEu** yang berfungsi menghitung jarak euclidean dari dua buah vektor (tanpa kelas)"
      ]
    },
    {
      "cell_type": "code",
      "execution_count": 17,
      "metadata": {
        "id": "QNEYOTLsfqld"
      },
      "outputs": [],
      "source": [
        "def jarakEu(data1, data2):\n",
        "    jarak = np.square(data1-data2)\n",
        "    jarak = np.sum(jarak)\n",
        "    return np.sqrt(jarak)"
      ]
    },
    {
      "cell_type": "markdown",
      "metadata": {
        "id": "bfznAo4-tUM5"
      },
      "source": [
        "Uji fungsi **jarakEu** untuk menghitung jarak antara data latih pertama dengan data uji pertama."
      ]
    },
    {
      "cell_type": "code",
      "execution_count": 18,
      "metadata": {
        "id": "kEK4o1-LicZ5"
      },
      "outputs": [
        {
          "name": "stdout",
          "output_type": "stream",
          "text": [
            "4.98196748283246\n"
          ]
        }
      ],
      "source": [
        "test_jarak = jarakEu(data_latih.iloc[0], data_uji.iloc[0])\n",
        "print(test_jarak)"
      ]
    },
    {
      "cell_type": "markdown",
      "metadata": {
        "id": "46FZOwFIlkM_"
      },
      "source": [
        "## 4) Algoritma KNN\n",
        "\n",
        "Implementasikan algoritma KNN dengan tahapan-tahapan berikut :\n",
        "1. Hitung jarak antara data uji dengan setiap data latih.\n",
        "2. Cari *k* data latih dengan jarak terkecil.\n",
        "3. Tentukan kelas dari *k* data latih tersebut.\n",
        "4. Kelas data uji ditentukan dari mayoritas kelas *k* data latih.\n",
        "\n",
        "Buatlah fungsi dengan nama **knn** yang menerima input berupa *k*, sekumpulan data latih dan labelnya, serta sebuah data uji"
      ]
    },
    {
      "cell_type": "code",
      "execution_count": 19,
      "metadata": {
        "id": "qFB6pLbeikcG"
      },
      "outputs": [],
      "source": [
        "from collections import Counter\n",
        "\n",
        "def knn(k, datalatih, labellatih, datauji):\n",
        "    jarak = np.array([jarakEu(datalatih.iloc[x], datauji) for x in range(datalatih.shape[0])])\n",
        "    indeks_k_minimum = jarak.argsort()\n",
        "    indeks_k_minimum = indeks_k_minimum[:k]\n",
        "    k_kelas = np.array(labellatih.iloc[indeks_k_minimum])\n",
        "    counter = Counter(k_kelas)\n",
        "    kelas_uji = counter.most_common(1)[0][0]\n",
        "    return kelas_uji"
      ]
    },
    {
      "cell_type": "markdown",
      "metadata": {
        "id": "m7PEASGt0I04"
      },
      "source": [
        "Lakukan pengujian fungsi **knn** untuk menentukan kelas dari data uji pertama"
      ]
    },
    {
      "cell_type": "code",
      "execution_count": 38,
      "metadata": {
        "id": "2DfvWo7Nr2Iw"
      },
      "outputs": [
        {
          "name": "stdout",
          "output_type": "stream",
          "text": [
            "Virginica\n"
          ]
        }
      ],
      "source": [
        "test_hasil = knn(3, data_latih, label_latih, data_uji.iloc[0])\n",
        "print(test_hasil)"
      ]
    },
    {
      "cell_type": "markdown",
      "metadata": {
        "id": "c7qKiXO3cINi"
      },
      "source": [
        "## 5) KNN pada Scikit-learn\n",
        "\n",
        "Library scikit-learn memiliki algoritma KNN yang siap untuk digunakan. Sebagai pengenalan, Anda akan melakukan klasifikasi data yang sama menggunakan KNN yang tersedia pada library scikit-learn"
      ]
    },
    {
      "cell_type": "code",
      "execution_count": 21,
      "metadata": {
        "id": "Rmt06ECzcdbf"
      },
      "outputs": [
        {
          "name": "stdout",
          "output_type": "stream",
          "text": [
            "['Virginica']\n"
          ]
        },
        {
          "name": "stderr",
          "output_type": "stream",
          "text": [
            "/home/sobaqov/anaconda3/lib/python3.11/site-packages/sklearn/base.py:464: UserWarning: X does not have valid feature names, but KNeighborsClassifier was fitted with feature names\n",
            "  warnings.warn(\n"
          ]
        }
      ],
      "source": [
        "from sklearn.neighbors import KNeighborsClassifier\n",
        "KNN = KNeighborsClassifier(n_neighbors=3)\n",
        "KNN.fit(data_latih, label_latih)\n",
        "\n",
        "kelas = KNN.predict([data_uji.iloc[0]])\n",
        "print(kelas)"
      ]
    },
    {
      "cell_type": "markdown",
      "metadata": {
        "id": "ZiDmUxVBuo42"
      },
      "source": [
        "## TUGAS\n",
        "1. Buatlah fungsi bernama **jarakCity** yang berfungsi menghitung jarak City Block antara dua vektor.\n",
        "2. Buatlah sebuah fungsi bernama **knn_multi** yang dapat menentukan kelas dari **semua** data uji (Fungsi **knn** yang sudah Anda buat hanya dapat menentukan kelas dari sebuah data uji. Anda dapat memanfaatkan fungsi **knn** yang telah ada\n",
        "3. Buatlah fungsi bernama **cek_hasil** yang berfungsi membandingkan hasil klasifikasi dengan label sebenarnya. Fungsi ini menerima input 2 buah list, yaitu list label hasil klasifikasi dan list label data uji yang sebenarnya. Output dari fungsi ini adalah integer, yang menunjukkan berapa banyak label hasil klasifikasi yang sama dengan label data uji sebenarnya.\n",
        "4. Jalankan fungsi **knn_multi** dengan nilai k=3, k=7,k=9 dan k=13. Amati hasil dari fungsi **cek_hasil** dengan nilai k tersebut. Apa kesimpulan Anda?"
      ]
    },
    {
      "cell_type": "code",
      "execution_count": 23,
      "metadata": {
        "id": "BgNZPfuvrV0K"
      },
      "outputs": [],
      "source": [
        "#jawaban soal 1\n",
        "def jarakCity(vektor1, vektor2):\n",
        "    vektor1, vektor2 = np.array(vektor1), np.array(vektor2)\n",
        "    jarak = np.abs(vektor1-vektor2)\n",
        "    jarak = np.sum(jarak)\n",
        "    return jarak"
      ]
    },
    {
      "cell_type": "code",
      "execution_count": 59,
      "metadata": {},
      "outputs": [
        {
          "name": "stdout",
          "output_type": "stream",
          "text": [
            "6\n"
          ]
        }
      ],
      "source": [
        "# Test function jarakCity() dengan vektor [0,0,0]\n",
        "jarakCityTest = jarakCity([1, 2, 3], [0, 0, 0])\n",
        "print(jarakCityTest)"
      ]
    },
    {
      "cell_type": "code",
      "execution_count": 62,
      "metadata": {
        "id": "B5OZWrTkJ7rg"
      },
      "outputs": [],
      "source": [
        "#jawaban soal 2\n",
        "from collections import Counter\n",
        "def knn_multi(k, datalatih, labellatih, datauji):\n",
        "\n",
        "    # List kosong untuk penyimpanan hasil KNN masing-masing datapoint pada datauji\n",
        "    pred = []\n",
        "    for i in range (datauji.shape[0]):\n",
        "\n",
        "        # Ambil current datapoint\n",
        "        current_data = datauji.iloc[i]\n",
        "\n",
        "        # Hitung KNN\n",
        "        # current_distance = knn(k, datalatih, labellatih, current_data)\n",
        "        current_distance = np.array([jarakCity(datalatih.iloc[x], current_data) for x in range(datalatih.shape[0])])\n",
        "        indeks_k_minimum = current_distance.argsort()\n",
        "        indeks_k_minimum = indeks_k_minimum[:k]\n",
        "        k_kelas = np.array(labellatih.iloc[indeks_k_minimum])\n",
        "        counter = Counter(k_kelas)\n",
        "        current_class = counter.most_common(1)[0][0]\n",
        "\n",
        "        # Append hasil KNN ke array pred\n",
        "        pred.append(current_class)\n",
        "\n",
        "    return pred"
      ]
    },
    {
      "cell_type": "code",
      "execution_count": 63,
      "metadata": {},
      "outputs": [
        {
          "name": "stdout",
          "output_type": "stream",
          "text": [
            "['Virginica', 'Setosa', 'Versicolor', 'Versicolor', 'Setosa']\n"
          ]
        }
      ],
      "source": [
        "# Test function knn_multi()\n",
        "knn_multi_test = data_uji.iloc[:5]\n",
        "pred_test = knn_multi(3, data_latih, label_latih, knn_multi_test)\n",
        "print(pred_test)"
      ]
    },
    {
      "cell_type": "markdown",
      "metadata": {},
      "source": [
        "### Penjelasan knn_multi()"
      ]
    },
    {
      "cell_type": "code",
      "execution_count": 64,
      "metadata": {
        "id": "XoH2D5AAKLLJ"
      },
      "outputs": [],
      "source": [
        "#jawaban soal 3\n",
        "def cek_hasil(pred, labeluji):\n",
        "    pred, labeluji = np.array(pred), np.array(labeluji)\n",
        "    if(pred.shape[0]==labeluji.shape[0]):\n",
        "        count = 0\n",
        "        for i in range(pred.shape[0]):\n",
        "            pred[i], labeluji[i] = pred[i].lower(), labeluji[i].lower()\n",
        "            if(pred[i] == labeluji[i]):\n",
        "                count+=1\n",
        "        return count"
      ]
    },
    {
      "cell_type": "code",
      "execution_count": 65,
      "metadata": {},
      "outputs": [
        {
          "name": "stdout",
          "output_type": "stream",
          "text": [
            "29\n"
          ]
        }
      ],
      "source": [
        "pred_test = knn_multi(3, data_latih, label_latih, data_uji)\n",
        "hasil_pred_test = cek_hasil(pred_test, label_uji)\n",
        "print(hasil_pred_test)"
      ]
    },
    {
      "cell_type": "code",
      "execution_count": 66,
      "metadata": {
        "id": "eUFsXtEQKOeN"
      },
      "outputs": [
        {
          "name": "stdout",
          "output_type": "stream",
          "text": [
            "Untuk k =  3\n",
            "Prediksi:  ['Virginica', 'Setosa', 'Versicolor', 'Versicolor', 'Setosa', 'Virginica', 'Versicolor', 'Versicolor', 'Versicolor', 'Versicolor', 'Setosa', 'Setosa', 'Virginica', 'Versicolor', 'Virginica', 'Virginica', 'Versicolor', 'Setosa', 'Virginica', 'Virginica', 'Setosa', 'Versicolor', 'Setosa', 'Setosa', 'Setosa', 'Setosa', 'Setosa', 'Setosa', 'Versicolor', 'Setosa']\n",
            "Skor:  29\n",
            "\n",
            "Untuk k =  7\n",
            "Prediksi:  ['Virginica', 'Setosa', 'Versicolor', 'Versicolor', 'Setosa', 'Virginica', 'Versicolor', 'Versicolor', 'Versicolor', 'Versicolor', 'Setosa', 'Setosa', 'Virginica', 'Versicolor', 'Virginica', 'Virginica', 'Versicolor', 'Setosa', 'Virginica', 'Virginica', 'Setosa', 'Versicolor', 'Setosa', 'Setosa', 'Setosa', 'Setosa', 'Setosa', 'Setosa', 'Versicolor', 'Setosa']\n",
            "Skor:  29\n",
            "\n",
            "Untuk k =  9\n",
            "Prediksi:  ['Virginica', 'Setosa', 'Versicolor', 'Versicolor', 'Setosa', 'Virginica', 'Versicolor', 'Versicolor', 'Versicolor', 'Versicolor', 'Setosa', 'Setosa', 'Virginica', 'Versicolor', 'Virginica', 'Virginica', 'Versicolor', 'Setosa', 'Virginica', 'Virginica', 'Setosa', 'Versicolor', 'Setosa', 'Setosa', 'Setosa', 'Setosa', 'Setosa', 'Setosa', 'Versicolor', 'Setosa']\n",
            "Skor:  29\n",
            "\n",
            "Untuk k =  13\n",
            "Prediksi:  ['Virginica', 'Setosa', 'Versicolor', 'Versicolor', 'Setosa', 'Virginica', 'Versicolor', 'Versicolor', 'Versicolor', 'Versicolor', 'Setosa', 'Setosa', 'Virginica', 'Versicolor', 'Virginica', 'Virginica', 'Versicolor', 'Setosa', 'Virginica', 'Virginica', 'Setosa', 'Versicolor', 'Setosa', 'Setosa', 'Setosa', 'Setosa', 'Setosa', 'Setosa', 'Versicolor', 'Setosa']\n",
            "Skor:  29\n",
            "\n"
          ]
        }
      ],
      "source": [
        "#jawaban soal 4\n",
        "\n",
        "k = [3, 7, 9, 13]\n",
        "pred = []\n",
        "score = []\n",
        "\n",
        "for k in k:\n",
        "    pred.append(knn_multi(k, data_latih, label_latih, data_uji))\n",
        "    score.append(cek_hasil(pred[-1], label_uji))\n",
        "    print(\"Untuk k = \", k)\n",
        "    print(\"Prediksi: \", pred[-1])\n",
        "    print(\"Skor: \", score[-1])\n",
        "    print()\n"
      ]
    },
    {
      "cell_type": "markdown",
      "metadata": {},
      "source": [
        "Pada langkah ini, digunakan komparasi dari berbagai nilai variable 'k' untuk algoritma klasifikasi K-Nearest Neighbor pada dataset Iris. Komparasi dilakukan dengan memanggil fungsi knn_multi() sebanyak empat kali dengan parameter 'k' yang berbeda-beda, dan memanggil fungsi cek_hasil() pada tiap-tiap iterasinya untuk menghitung tingkat akurasi.\n",
        "\n",
        "- knn_multi() adalah fungsi yang dibuat untuk melakukan klasifikasi KNN dengan basis perhitungan jarak dengan fungsi heuristik Manhattan City Distance yang diimplementasikan dalam fungsi jarakCity().\n",
        "- Pada knn_multi(), akan dilakukan iterasi untuk setiap datapoint yang diujikan, dan akan dihitung jarak Manhattan City dengan semua datapoint yang ada pada dataset training. Jarak neighbor akan di-store di dalam sorted array, dan kelas dari datapoint tersebut ditentukan berdasarkan frekuensi k-neighbor terdekat.\n",
        "- Dari pengujian yang dilakukan pada dataset Iris dengan 30 datapoint untuk k=[3, 7, 9, 13], hasil yang diberikan bersifat konsisten dengan akurasi kebenaran 29 dari 30. Hal ini dapat terjadi dikarenakan proses pemisahan dan pemilihan data pengujian dari dataset bersifat random.\n",
        "- Pada kasus di atas, ukuran variabel 'k' tidak terlalu berpengaruh terhadap akurasi hasil klasifikasi dengan algoritma KNN dengan dataset Iris."
      ]
    },
    {
      "cell_type": "markdown",
      "metadata": {},
      "source": []
    }
  ],
  "metadata": {
    "colab": {
      "provenance": []
    },
    "kernelspec": {
      "display_name": "Python 3",
      "name": "python3"
    },
    "language_info": {
      "codemirror_mode": {
        "name": "ipython",
        "version": 3
      },
      "file_extension": ".py",
      "mimetype": "text/x-python",
      "name": "python",
      "nbconvert_exporter": "python",
      "pygments_lexer": "ipython3",
      "version": "3.11.5"
    }
  },
  "nbformat": 4,
  "nbformat_minor": 0
}
