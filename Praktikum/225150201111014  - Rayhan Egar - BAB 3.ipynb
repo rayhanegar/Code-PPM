{
  "cells": [
    {
      "cell_type": "markdown",
      "metadata": {
        "id": "-qDsm6BnME2X"
      },
      "source": [
        "# Praktikum Pengantar Pembelajaran Mesin\n",
        "\n",
        "\n",
        "---\n",
        "## Bab 3. Klasifikasi K-Nearest Neighbor (KNN)\n"
      ]
    },
    {
      "cell_type": "markdown",
      "metadata": {
        "id": "z_VawE4L4na8"
      },
      "source": [
        "Tuliskan Nama, NIM, dan kelas Anda:\n",
        "\n",
        "Nama : Rayhan Egar Sadtya Nugraha\n",
        "\n",
        "NIM   : 225510201111014\n",
        "\n",
        "Kelas : PPM-D"
      ]
    },
    {
      "cell_type": "markdown",
      "metadata": {
        "id": "sQAGcnK3MOS7"
      },
      "source": [
        "### 1) Import Data\n",
        "\n",
        "Unduh dataset yang akan digunakan pada praktikum kali ini. Anda dapat menggunakan aplikasi wget untuk mendowload dataset dan menyimpannya dalam Google Colab. Jalankan cell di bawah ini untuk mengunduh dataset"
      ]
    },
    {
      "cell_type": "code",
      "execution_count": 2,
      "metadata": {
        "id": "FpjqVlzBMNLd"
      },
      "outputs": [
        {
          "name": "stdout",
          "output_type": "stream",
          "text": [
            "--2024-03-14 08:28:20--  https://gist.githubusercontent.com/netj/8836201/raw/6f9306ad21398ea43cba4f7d537619d0e07d5ae3/iris.csv\n",
            "Resolving gist.githubusercontent.com (gist.githubusercontent.com)... 185.199.111.133, 185.199.110.133, 185.199.108.133, ...\n",
            "Connecting to gist.githubusercontent.com (gist.githubusercontent.com)|185.199.111.133|:443... connected.\n",
            "HTTP request sent, awaiting response... 200 OK\n",
            "Length: 3975 (3.9K) [text/plain]\n",
            "Saving to: ‘iris.csv’\n",
            "\n",
            "iris.csv            100%[===================>]   3.88K  --.-KB/s    in 0s      \n",
            "\n",
            "2024-03-14 08:28:20 (12.3 MB/s) - ‘iris.csv’ saved [3975/3975]\n",
            "\n"
          ]
        }
      ],
      "source": [
        "! wget https://gist.githubusercontent.com/netj/8836201/raw/6f9306ad21398ea43cba4f7d537619d0e07d5ae3/iris.csv"
      ]
    },
    {
      "cell_type": "markdown",
      "metadata": {
        "id": "SJy4t3lIOgGp"
      },
      "source": [
        "Setelah dataset berhasil diunduh, langkah berikutnya adalah membaca dataset dengan memanfaatkan fungsi **readcsv** dari library pandas. Lakukan pembacaan berkas csv ke dalam dataframe dengan nama **data** menggunakan fungsi **readcsv**. Jangan lupa untuk melakukan import library pandas terlebih dahulu\n"
      ]
    },
    {
      "cell_type": "code",
      "execution_count": 1,
      "metadata": {
        "id": "mdhbxk_2OzbB"
      },
      "outputs": [],
      "source": [
        "import pandas as pd\n",
        "import numpy as np\n",
        "\n",
        "data = pd.read_csv('iris.csv')"
      ]
    },
    {
      "cell_type": "markdown",
      "metadata": {
        "id": "w6NfrIDTOK38"
      },
      "source": [
        "\n",
        "\n",
        "Cek isi dataset Anda dengan menggunakan perintah **head()**"
      ]
    },
    {
      "cell_type": "code",
      "execution_count": 2,
      "metadata": {
        "id": "Uaiaj796OFH3"
      },
      "outputs": [
        {
          "data": {
            "text/html": [
              "<div>\n",
              "<style scoped>\n",
              "    .dataframe tbody tr th:only-of-type {\n",
              "        vertical-align: middle;\n",
              "    }\n",
              "\n",
              "    .dataframe tbody tr th {\n",
              "        vertical-align: top;\n",
              "    }\n",
              "\n",
              "    .dataframe thead th {\n",
              "        text-align: right;\n",
              "    }\n",
              "</style>\n",
              "<table border=\"1\" class=\"dataframe\">\n",
              "  <thead>\n",
              "    <tr style=\"text-align: right;\">\n",
              "      <th></th>\n",
              "      <th>sepal.length</th>\n",
              "      <th>sepal.width</th>\n",
              "      <th>petal.length</th>\n",
              "      <th>petal.width</th>\n",
              "      <th>variety</th>\n",
              "    </tr>\n",
              "  </thead>\n",
              "  <tbody>\n",
              "    <tr>\n",
              "      <th>0</th>\n",
              "      <td>5.1</td>\n",
              "      <td>3.5</td>\n",
              "      <td>1.4</td>\n",
              "      <td>0.2</td>\n",
              "      <td>Setosa</td>\n",
              "    </tr>\n",
              "    <tr>\n",
              "      <th>1</th>\n",
              "      <td>4.9</td>\n",
              "      <td>3.0</td>\n",
              "      <td>1.4</td>\n",
              "      <td>0.2</td>\n",
              "      <td>Setosa</td>\n",
              "    </tr>\n",
              "    <tr>\n",
              "      <th>2</th>\n",
              "      <td>4.7</td>\n",
              "      <td>3.2</td>\n",
              "      <td>1.3</td>\n",
              "      <td>0.2</td>\n",
              "      <td>Setosa</td>\n",
              "    </tr>\n",
              "    <tr>\n",
              "      <th>3</th>\n",
              "      <td>4.6</td>\n",
              "      <td>3.1</td>\n",
              "      <td>1.5</td>\n",
              "      <td>0.2</td>\n",
              "      <td>Setosa</td>\n",
              "    </tr>\n",
              "    <tr>\n",
              "      <th>4</th>\n",
              "      <td>5.0</td>\n",
              "      <td>3.6</td>\n",
              "      <td>1.4</td>\n",
              "      <td>0.2</td>\n",
              "      <td>Setosa</td>\n",
              "    </tr>\n",
              "  </tbody>\n",
              "</table>\n",
              "</div>"
            ],
            "text/plain": [
              "   sepal.length  sepal.width  petal.length  petal.width variety\n",
              "0           5.1          3.5           1.4          0.2  Setosa\n",
              "1           4.9          3.0           1.4          0.2  Setosa\n",
              "2           4.7          3.2           1.3          0.2  Setosa\n",
              "3           4.6          3.1           1.5          0.2  Setosa\n",
              "4           5.0          3.6           1.4          0.2  Setosa"
            ]
          },
          "execution_count": 2,
          "metadata": {},
          "output_type": "execute_result"
        }
      ],
      "source": [
        "data.head()"
      ]
    },
    {
      "cell_type": "markdown",
      "metadata": {
        "id": "lfi1uHIxPdDe"
      },
      "source": [
        "## 2) Membagi data menjadi data latih dan data uji\n",
        "\n",
        "Metode pembelajaran mesin memerlukan dua jenis data :\n",
        "\n",
        "\n",
        "1.   Data latih : Digunakan untuk proses training metode klasifikasi\n",
        "2.   Data uji : Digunakan untuk proses evaluasi metode klasifikasi\n",
        "\n",
        "Data uji dan data latih perlu dibuat terpisah (mutualy exclusive) agar hasil evaluasi lebih akurat.\n",
        "\n",
        "Data uji dan data latih dapat dibuat dengan cara membagi dataset dengan rasio tertentu, misalnya 80% data latih dan 20% data uji.\n",
        "\n",
        "Library Scikit-learn memiliki fungsi [train_test_split](https://scikit-learn.org/stable/modules/generated/sklearn.model_selection.train_test_split.html) pada modul **model_selection** untuk membagi dataset menjadi data latih dan data uji. Bagilah dataset anda menjadi dua, yaitu **data_latih** dan **data_uji**.\n"
      ]
    },
    {
      "cell_type": "code",
      "execution_count": 3,
      "metadata": {
        "id": "jJjfXgfmPTlU"
      },
      "outputs": [],
      "source": [
        "from sklearn.model_selection import train_test_split\n",
        "data_latih, data_uji = train_test_split(data, test_size=0.2)"
      ]
    },
    {
      "cell_type": "markdown",
      "metadata": {
        "id": "tBhcsUDYfw2q"
      },
      "source": [
        "Tampilkan banyaknya data pada **data_latih** dan **data_uji**. Seharusnya **data_latih** terdiri dari 120 data, dan **data_uji** terdiri dari 30 data"
      ]
    },
    {
      "cell_type": "code",
      "execution_count": 4,
      "metadata": {
        "id": "6OtySD4efmmQ"
      },
      "outputs": [
        {
          "name": "stdout",
          "output_type": "stream",
          "text": [
            "120\n",
            "30\n"
          ]
        }
      ],
      "source": [
        "print(data_latih.shape[0])\n",
        "print(data_uji.shape[0])"
      ]
    },
    {
      "cell_type": "markdown",
      "metadata": {
        "id": "DeU-FCyTkVKC"
      },
      "source": [
        "Pisahkan label/kategori dari data latih dan data uji menjadi variabel tersendiri. Beri nama variabelnya **label_latih** dan **label_uji**"
      ]
    },
    {
      "cell_type": "code",
      "execution_count": 5,
      "metadata": {
        "id": "e4vC_M0mkkl3"
      },
      "outputs": [],
      "source": [
        "label_latih = data_latih.pop('variety')\n",
        "label_uji = data_uji.pop('variety')"
      ]
    },
    {
      "cell_type": "code",
      "execution_count": 17,
      "metadata": {},
      "outputs": [
        {
          "data": {
            "text/html": [
              "<div>\n",
              "<style scoped>\n",
              "    .dataframe tbody tr th:only-of-type {\n",
              "        vertical-align: middle;\n",
              "    }\n",
              "\n",
              "    .dataframe tbody tr th {\n",
              "        vertical-align: top;\n",
              "    }\n",
              "\n",
              "    .dataframe thead th {\n",
              "        text-align: right;\n",
              "    }\n",
              "</style>\n",
              "<table border=\"1\" class=\"dataframe\">\n",
              "  <thead>\n",
              "    <tr style=\"text-align: right;\">\n",
              "      <th></th>\n",
              "      <th>sepal.length</th>\n",
              "      <th>sepal.width</th>\n",
              "      <th>petal.length</th>\n",
              "      <th>petal.width</th>\n",
              "    </tr>\n",
              "  </thead>\n",
              "  <tbody>\n",
              "    <tr>\n",
              "      <th>19</th>\n",
              "      <td>5.1</td>\n",
              "      <td>3.8</td>\n",
              "      <td>1.5</td>\n",
              "      <td>0.3</td>\n",
              "    </tr>\n",
              "    <tr>\n",
              "      <th>30</th>\n",
              "      <td>4.8</td>\n",
              "      <td>3.1</td>\n",
              "      <td>1.6</td>\n",
              "      <td>0.2</td>\n",
              "    </tr>\n",
              "    <tr>\n",
              "      <th>2</th>\n",
              "      <td>4.7</td>\n",
              "      <td>3.2</td>\n",
              "      <td>1.3</td>\n",
              "      <td>0.2</td>\n",
              "    </tr>\n",
              "    <tr>\n",
              "      <th>90</th>\n",
              "      <td>5.5</td>\n",
              "      <td>2.6</td>\n",
              "      <td>4.4</td>\n",
              "      <td>1.2</td>\n",
              "    </tr>\n",
              "    <tr>\n",
              "      <th>87</th>\n",
              "      <td>6.3</td>\n",
              "      <td>2.3</td>\n",
              "      <td>4.4</td>\n",
              "      <td>1.3</td>\n",
              "    </tr>\n",
              "  </tbody>\n",
              "</table>\n",
              "</div>"
            ],
            "text/plain": [
              "    sepal.length  sepal.width  petal.length  petal.width\n",
              "19           5.1          3.8           1.5          0.3\n",
              "30           4.8          3.1           1.6          0.2\n",
              "2            4.7          3.2           1.3          0.2\n",
              "90           5.5          2.6           4.4          1.2\n",
              "87           6.3          2.3           4.4          1.3"
            ]
          },
          "execution_count": 17,
          "metadata": {},
          "output_type": "execute_result"
        }
      ],
      "source": [
        "data_latih.head()"
      ]
    },
    {
      "cell_type": "code",
      "execution_count": 6,
      "metadata": {
        "id": "ogQLMrUjlU2_"
      },
      "outputs": [
        {
          "data": {
            "text/html": [
              "<div>\n",
              "<style scoped>\n",
              "    .dataframe tbody tr th:only-of-type {\n",
              "        vertical-align: middle;\n",
              "    }\n",
              "\n",
              "    .dataframe tbody tr th {\n",
              "        vertical-align: top;\n",
              "    }\n",
              "\n",
              "    .dataframe thead th {\n",
              "        text-align: right;\n",
              "    }\n",
              "</style>\n",
              "<table border=\"1\" class=\"dataframe\">\n",
              "  <thead>\n",
              "    <tr style=\"text-align: right;\">\n",
              "      <th></th>\n",
              "      <th>sepal.length</th>\n",
              "      <th>sepal.width</th>\n",
              "      <th>petal.length</th>\n",
              "      <th>petal.width</th>\n",
              "    </tr>\n",
              "  </thead>\n",
              "  <tbody>\n",
              "    <tr>\n",
              "      <th>24</th>\n",
              "      <td>4.8</td>\n",
              "      <td>3.4</td>\n",
              "      <td>1.9</td>\n",
              "      <td>0.2</td>\n",
              "    </tr>\n",
              "    <tr>\n",
              "      <th>27</th>\n",
              "      <td>5.2</td>\n",
              "      <td>3.5</td>\n",
              "      <td>1.5</td>\n",
              "      <td>0.2</td>\n",
              "    </tr>\n",
              "    <tr>\n",
              "      <th>52</th>\n",
              "      <td>6.9</td>\n",
              "      <td>3.1</td>\n",
              "      <td>4.9</td>\n",
              "      <td>1.5</td>\n",
              "    </tr>\n",
              "    <tr>\n",
              "      <th>137</th>\n",
              "      <td>6.4</td>\n",
              "      <td>3.1</td>\n",
              "      <td>5.5</td>\n",
              "      <td>1.8</td>\n",
              "    </tr>\n",
              "    <tr>\n",
              "      <th>125</th>\n",
              "      <td>7.2</td>\n",
              "      <td>3.2</td>\n",
              "      <td>6.0</td>\n",
              "      <td>1.8</td>\n",
              "    </tr>\n",
              "  </tbody>\n",
              "</table>\n",
              "</div>"
            ],
            "text/plain": [
              "     sepal.length  sepal.width  petal.length  petal.width\n",
              "24            4.8          3.4           1.9          0.2\n",
              "27            5.2          3.5           1.5          0.2\n",
              "52            6.9          3.1           4.9          1.5\n",
              "137           6.4          3.1           5.5          1.8\n",
              "125           7.2          3.2           6.0          1.8"
            ]
          },
          "execution_count": 6,
          "metadata": {},
          "output_type": "execute_result"
        }
      ],
      "source": [
        "data_uji.head()"
      ]
    },
    {
      "cell_type": "markdown",
      "metadata": {
        "id": "xm_dJNeMgl9u"
      },
      "source": [
        "## 3) Menghitung jarak euclidean\n",
        "\n",
        "Tahapan awal dari algoritma KNN adalah perhitungan jarak. Salah satu metode perhitungan jarak yang bisa digunakan adalah jarak Euclidean. Buatlah fungsi bernama **jarakEu** yang berfungsi menghitung jarak euclidean dari dua buah vektor (tanpa kelas)"
      ]
    },
    {
      "cell_type": "code",
      "execution_count": 20,
      "metadata": {
        "id": "QNEYOTLsfqld"
      },
      "outputs": [],
      "source": [
        "def jarakEu(data1, data2):\n",
        "    data2 = data2.astype(np.float64)\n",
        "    jarak = np.square(data1-data2)\n",
        "    jarak = np.sum(jarak)\n",
        "    return np.sqrt(jarak)"
      ]
    },
    {
      "cell_type": "markdown",
      "metadata": {
        "id": "bfznAo4-tUM5"
      },
      "source": [
        "Uji fungsi **jarakEu** untuk menghitung jarak antara data latih pertama dengan data uji pertama."
      ]
    },
    {
      "cell_type": "code",
      "execution_count": 21,
      "metadata": {
        "id": "kEK4o1-LicZ5"
      },
      "outputs": [
        {
          "name": "stdout",
          "output_type": "stream",
          "text": [
            "0.6480740698407859\n"
          ]
        }
      ],
      "source": [
        "test_jarak = jarakEu(data_latih.iloc[0], data_uji.iloc[0])\n",
        "print(test_jarak)"
      ]
    },
    {
      "cell_type": "markdown",
      "metadata": {
        "id": "46FZOwFIlkM_"
      },
      "source": [
        "## 4) Algoritma KNN\n",
        "\n",
        "Implementasikan algoritma KNN dengan tahapan-tahapan berikut :\n",
        "1. Hitung jarak antara data uji dengan setiap data latih.\n",
        "2. Cari *k* data latih dengan jarak terkecil.\n",
        "3. Tentukan kelas dari *k* data latih tersebut.\n",
        "4. Kelas data uji ditentukan dari mayoritas kelas *k* data latih.\n",
        "\n",
        "Buatlah fungsi dengan nama **knn** yang menerima input berupa *k*, sekumpulan data latih dan labelnya, serta sebuah data uji"
      ]
    },
    {
      "cell_type": "code",
      "execution_count": 22,
      "metadata": {
        "id": "qFB6pLbeikcG"
      },
      "outputs": [],
      "source": [
        "from collections import Counter\n",
        "\n",
        "def knn(k, datalatih, labellatih, datauji):\n",
        "    \n",
        "    jarak = np.array([jarakEu(datalatih.iloc[x], datauji) for x in range (datalatih.shape[0])])\n",
        "    indeks_k_minimum = jarak.argsort()[:k]\n",
        "    k_kelas = labellatih.iloc[indeks_k_minimum].to_numpy()\n",
        "    counter = Counter(k_kelas)\n",
        "    kelas_uji = counter.most_common(1)[0][0]\n",
        "    return kelas_uji"
      ]
    },
    {
      "cell_type": "markdown",
      "metadata": {
        "id": "m7PEASGt0I04"
      },
      "source": [
        "Lakukan pengujian fungsi **knn** untuk menentukan kelas dari data uji pertama"
      ]
    },
    {
      "cell_type": "code",
      "execution_count": 23,
      "metadata": {
        "id": "2DfvWo7Nr2Iw"
      },
      "outputs": [
        {
          "name": "stdout",
          "output_type": "stream",
          "text": [
            "Setosa\n"
          ]
        }
      ],
      "source": [
        "test_hasil = knn(3, data_latih, label_latih, data_uji.iloc[0])\n",
        "print(test_hasil)"
      ]
    },
    {
      "cell_type": "markdown",
      "metadata": {
        "id": "c7qKiXO3cINi"
      },
      "source": [
        "## 5) KNN pada Scikit-learn\n",
        "\n",
        "Library scikit-learn memiliki algoritma KNN yang siap untuk digunakan. Sebagai pengenalan, Anda akan melakukan klasifikasi data yang sama menggunakan KNN yang tersedia pada library scikit-learn"
      ]
    },
    {
      "cell_type": "code",
      "execution_count": 24,
      "metadata": {
        "id": "Rmt06ECzcdbf"
      },
      "outputs": [
        {
          "name": "stdout",
          "output_type": "stream",
          "text": [
            "['Setosa']\n"
          ]
        },
        {
          "name": "stderr",
          "output_type": "stream",
          "text": [
            "/home/sobaqov/anaconda3/lib/python3.11/site-packages/sklearn/base.py:464: UserWarning: X does not have valid feature names, but KNeighborsClassifier was fitted with feature names\n",
            "  warnings.warn(\n"
          ]
        }
      ],
      "source": [
        "from sklearn.neighbors import KNeighborsClassifier\n",
        "KNN = KNeighborsClassifier(n_neighbors=3)\n",
        "KNN.fit(data_latih, label_latih)\n",
        "\n",
        "kelas = KNN.predict([data_uji.iloc[0]])\n",
        "print(kelas)"
      ]
    },
    {
      "cell_type": "markdown",
      "metadata": {
        "id": "ZiDmUxVBuo42"
      },
      "source": [
        "## TUGAS\n",
        "1. Buatlah fungsi bernama **jarakCity** yang berfungsi menghitung jarak City Block antara dua vektor.\n",
        "2. Buatlah sebuah fungsi bernama **knn_multi** yang dapat menentukan kelas dari **semua** data uji (Fungsi **knn** yang sudah Anda buat hanya dapat menentukan kelas dari sebuah data uji. Anda dapat memanfaatkan fungsi **knn** yang telah ada\n",
        "3. Buatlah fungsi bernama **cek_hasil** yang berfungsi membandingkan hasil klasifikasi dengan label sebenarnya. Fungsi ini menerima input 2 buah list, yaitu list label hasil klasifikasi dan list label data uji yang sebenarnya. Output dari fungsi ini adalah integer, yang menunjukkan berapa banyak label hasil klasifikasi yang sama dengan label data uji sebenarnya.\n",
        "4. Jalankan fungsi **knn_multi** dengan nilai k=3, k=7,k=9 dan k=13. Amati hasil dari fungsi **cek_hasil** dengan nilai k tersebut. Apa kesimpulan Anda?"
      ]
    },
    {
      "cell_type": "code",
      "execution_count": 25,
      "metadata": {
        "id": "BgNZPfuvrV0K"
      },
      "outputs": [],
      "source": [
        "#jawaban soal 1\n",
        "def jarakCity(vektor1, vektor2):\n",
        "    jarak = np.abs(vektor1-vektor2)\n",
        "    jarak = np.sum(jarak)\n",
        "    return jarak"
      ]
    },
    {
      "cell_type": "code",
      "execution_count": 26,
      "metadata": {
        "id": "B5OZWrTkJ7rg"
      },
      "outputs": [],
      "source": [
        "#jawaban soal 2\n",
        "from collections import Counter\n",
        "def knn_multi(k, datalatih, labellatih, datauji):\n",
        "\n",
        "    pred = []\n",
        "    for data in datauji:\n",
        "        jarak = np.array([jarakEu(datalatih.iloc[x], data) for x in range (datalatih.shape[0])])\n",
        "        indeks_k_minimum = jarak.argsort()[:k]\n",
        "        k_kelas = labellatih.iloc[indeks_k_minimum].to_numpy()\n",
        "        counter = Counter(k_kelas)\n",
        "        kelas_uji = counter.most_common(1)[0][0]\n",
        "        pred.append(kelas_uji)\n",
        "\n",
        "    return pred"
      ]
    },
    {
      "cell_type": "code",
      "execution_count": 27,
      "metadata": {
        "id": "XoH2D5AAKLLJ"
      },
      "outputs": [],
      "source": [
        "#jawaban soal 3\n",
        "def cek_hasil(pred, labeluji):\n",
        "    if(pred.shape[0]==labeluji.shape[0]):\n",
        "        count = 0\n",
        "        for i in range(pred.shape[0]):\n",
        "            if(pred.iloc[i] == labeluji.iloc[i]):\n",
        "                count+=1\n",
        "        return count"
      ]
    },
    {
      "cell_type": "code",
      "execution_count": 29,
      "metadata": {},
      "outputs": [
        {
          "ename": "AttributeError",
          "evalue": "'str' object has no attribute 'astype'",
          "output_type": "error",
          "traceback": [
            "\u001b[0;31m---------------------------------------------------------------------------\u001b[0m",
            "\u001b[0;31mAttributeError\u001b[0m                            Traceback (most recent call last)",
            "Cell \u001b[0;32mIn[29], line 1\u001b[0m\n\u001b[0;32m----> 1\u001b[0m pred_test \u001b[38;5;241m=\u001b[39m knn_multi(\u001b[38;5;241m3\u001b[39m, data_latih, label_latih, data_uji)\n",
            "Cell \u001b[0;32mIn[26], line 6\u001b[0m, in \u001b[0;36mknn_multi\u001b[0;34m(k, datalatih, labellatih, datauji)\u001b[0m\n\u001b[1;32m      4\u001b[0m pred \u001b[38;5;241m=\u001b[39m []\n\u001b[1;32m      5\u001b[0m \u001b[38;5;28;01mfor\u001b[39;00m data \u001b[38;5;129;01min\u001b[39;00m datauji:\n\u001b[0;32m----> 6\u001b[0m     jarak \u001b[38;5;241m=\u001b[39m np\u001b[38;5;241m.\u001b[39marray([jarakEu(datalatih\u001b[38;5;241m.\u001b[39miloc[x], data) \u001b[38;5;28;01mfor\u001b[39;00m x \u001b[38;5;129;01min\u001b[39;00m \u001b[38;5;28mrange\u001b[39m (datalatih\u001b[38;5;241m.\u001b[39mshape[\u001b[38;5;241m0\u001b[39m])])\n\u001b[1;32m      7\u001b[0m     indeks_k_minimum \u001b[38;5;241m=\u001b[39m jarak\u001b[38;5;241m.\u001b[39margsort()[:k]\n\u001b[1;32m      8\u001b[0m     k_kelas \u001b[38;5;241m=\u001b[39m labellatih\u001b[38;5;241m.\u001b[39miloc[indeks_k_minimum]\u001b[38;5;241m.\u001b[39mto_numpy()\n",
            "Cell \u001b[0;32mIn[26], line 6\u001b[0m, in \u001b[0;36m<listcomp>\u001b[0;34m(.0)\u001b[0m\n\u001b[1;32m      4\u001b[0m pred \u001b[38;5;241m=\u001b[39m []\n\u001b[1;32m      5\u001b[0m \u001b[38;5;28;01mfor\u001b[39;00m data \u001b[38;5;129;01min\u001b[39;00m datauji:\n\u001b[0;32m----> 6\u001b[0m     jarak \u001b[38;5;241m=\u001b[39m np\u001b[38;5;241m.\u001b[39marray([jarakEu(datalatih\u001b[38;5;241m.\u001b[39miloc[x], data) \u001b[38;5;28;01mfor\u001b[39;00m x \u001b[38;5;129;01min\u001b[39;00m \u001b[38;5;28mrange\u001b[39m (datalatih\u001b[38;5;241m.\u001b[39mshape[\u001b[38;5;241m0\u001b[39m])])\n\u001b[1;32m      7\u001b[0m     indeks_k_minimum \u001b[38;5;241m=\u001b[39m jarak\u001b[38;5;241m.\u001b[39margsort()[:k]\n\u001b[1;32m      8\u001b[0m     k_kelas \u001b[38;5;241m=\u001b[39m labellatih\u001b[38;5;241m.\u001b[39miloc[indeks_k_minimum]\u001b[38;5;241m.\u001b[39mto_numpy()\n",
            "Cell \u001b[0;32mIn[20], line 2\u001b[0m, in \u001b[0;36mjarakEu\u001b[0;34m(data1, data2)\u001b[0m\n\u001b[1;32m      1\u001b[0m \u001b[38;5;28;01mdef\u001b[39;00m \u001b[38;5;21mjarakEu\u001b[39m(data1, data2):\n\u001b[0;32m----> 2\u001b[0m     data2 \u001b[38;5;241m=\u001b[39m data2\u001b[38;5;241m.\u001b[39mastype(np\u001b[38;5;241m.\u001b[39mfloat64)\n\u001b[1;32m      3\u001b[0m     jarak \u001b[38;5;241m=\u001b[39m np\u001b[38;5;241m.\u001b[39msquare(data1\u001b[38;5;241m-\u001b[39mdata2)\n\u001b[1;32m      4\u001b[0m     jarak \u001b[38;5;241m=\u001b[39m np\u001b[38;5;241m.\u001b[39msum(jarak)\n",
            "\u001b[0;31mAttributeError\u001b[0m: 'str' object has no attribute 'astype'"
          ]
        }
      ],
      "source": [
        "pred_test = knn_multi(3, data_latih, label_latih, data_uji)"
      ]
    },
    {
      "cell_type": "code",
      "execution_count": 33,
      "metadata": {
        "id": "eUFsXtEQKOeN"
      },
      "outputs": [
        {
          "ename": "AttributeError",
          "evalue": "'str' object has no attribute 'astype'",
          "output_type": "error",
          "traceback": [
            "\u001b[0;31m---------------------------------------------------------------------------\u001b[0m",
            "\u001b[0;31mAttributeError\u001b[0m                            Traceback (most recent call last)",
            "Cell \u001b[0;32mIn[33], line 8\u001b[0m\n\u001b[1;32m      5\u001b[0m score \u001b[38;5;241m=\u001b[39m []\n\u001b[1;32m      7\u001b[0m \u001b[38;5;28;01mfor\u001b[39;00m k \u001b[38;5;129;01min\u001b[39;00m k:\n\u001b[0;32m----> 8\u001b[0m     pred\u001b[38;5;241m.\u001b[39mappend(knn_multi(k, data_latih, label_latih, data_uji))\n\u001b[1;32m      9\u001b[0m     score\u001b[38;5;241m.\u001b[39mappend(cek_hasil(pred[\u001b[38;5;241m-\u001b[39m\u001b[38;5;241m1\u001b[39m], label_uji))\n\u001b[1;32m     10\u001b[0m     \u001b[38;5;28mprint\u001b[39m(\u001b[38;5;124m\"\u001b[39m\u001b[38;5;124mUntuk k = \u001b[39m\u001b[38;5;124m\"\u001b[39m, k)\n",
            "Cell \u001b[0;32mIn[26], line 6\u001b[0m, in \u001b[0;36mknn_multi\u001b[0;34m(k, datalatih, labellatih, datauji)\u001b[0m\n\u001b[1;32m      4\u001b[0m pred \u001b[38;5;241m=\u001b[39m []\n\u001b[1;32m      5\u001b[0m \u001b[38;5;28;01mfor\u001b[39;00m data \u001b[38;5;129;01min\u001b[39;00m datauji:\n\u001b[0;32m----> 6\u001b[0m     jarak \u001b[38;5;241m=\u001b[39m np\u001b[38;5;241m.\u001b[39marray([jarakEu(datalatih\u001b[38;5;241m.\u001b[39miloc[x], data) \u001b[38;5;28;01mfor\u001b[39;00m x \u001b[38;5;129;01min\u001b[39;00m \u001b[38;5;28mrange\u001b[39m (datalatih\u001b[38;5;241m.\u001b[39mshape[\u001b[38;5;241m0\u001b[39m])])\n\u001b[1;32m      7\u001b[0m     indeks_k_minimum \u001b[38;5;241m=\u001b[39m jarak\u001b[38;5;241m.\u001b[39margsort()[:k]\n\u001b[1;32m      8\u001b[0m     k_kelas \u001b[38;5;241m=\u001b[39m labellatih\u001b[38;5;241m.\u001b[39miloc[indeks_k_minimum]\u001b[38;5;241m.\u001b[39mto_numpy()\n",
            "Cell \u001b[0;32mIn[26], line 6\u001b[0m, in \u001b[0;36m<listcomp>\u001b[0;34m(.0)\u001b[0m\n\u001b[1;32m      4\u001b[0m pred \u001b[38;5;241m=\u001b[39m []\n\u001b[1;32m      5\u001b[0m \u001b[38;5;28;01mfor\u001b[39;00m data \u001b[38;5;129;01min\u001b[39;00m datauji:\n\u001b[0;32m----> 6\u001b[0m     jarak \u001b[38;5;241m=\u001b[39m np\u001b[38;5;241m.\u001b[39marray([jarakEu(datalatih\u001b[38;5;241m.\u001b[39miloc[x], data) \u001b[38;5;28;01mfor\u001b[39;00m x \u001b[38;5;129;01min\u001b[39;00m \u001b[38;5;28mrange\u001b[39m (datalatih\u001b[38;5;241m.\u001b[39mshape[\u001b[38;5;241m0\u001b[39m])])\n\u001b[1;32m      7\u001b[0m     indeks_k_minimum \u001b[38;5;241m=\u001b[39m jarak\u001b[38;5;241m.\u001b[39margsort()[:k]\n\u001b[1;32m      8\u001b[0m     k_kelas \u001b[38;5;241m=\u001b[39m labellatih\u001b[38;5;241m.\u001b[39miloc[indeks_k_minimum]\u001b[38;5;241m.\u001b[39mto_numpy()\n",
            "Cell \u001b[0;32mIn[20], line 2\u001b[0m, in \u001b[0;36mjarakEu\u001b[0;34m(data1, data2)\u001b[0m\n\u001b[1;32m      1\u001b[0m \u001b[38;5;28;01mdef\u001b[39;00m \u001b[38;5;21mjarakEu\u001b[39m(data1, data2):\n\u001b[0;32m----> 2\u001b[0m     data2 \u001b[38;5;241m=\u001b[39m data2\u001b[38;5;241m.\u001b[39mastype(np\u001b[38;5;241m.\u001b[39mfloat64)\n\u001b[1;32m      3\u001b[0m     jarak \u001b[38;5;241m=\u001b[39m np\u001b[38;5;241m.\u001b[39msquare(data1\u001b[38;5;241m-\u001b[39mdata2)\n\u001b[1;32m      4\u001b[0m     jarak \u001b[38;5;241m=\u001b[39m np\u001b[38;5;241m.\u001b[39msum(jarak)\n",
            "\u001b[0;31mAttributeError\u001b[0m: 'str' object has no attribute 'astype'"
          ]
        }
      ],
      "source": [
        "#jawaban soal 4\n",
        "\n",
        "k = [3, 7, 9, 13]\n",
        "pred = []\n",
        "score = []\n",
        "\n",
        "for k in k:\n",
        "    pred.append(knn_multi(k, data_latih, label_latih, data_uji))\n",
        "    score.append(cek_hasil(pred[-1], label_uji))\n",
        "    print(\"Untuk k = \", k)\n",
        "    print(\"Prediksi: \", pred[-1])\n",
        "    print(\"Skor: \", score[-1])\n",
        "    print()\n"
      ]
    },
    {
      "cell_type": "markdown",
      "metadata": {
        "id": "Ml45KVHX4H6o"
      },
      "source": [
        "Penjelasan jawaban soal nomor 4"
      ]
    },
    {
      "cell_type": "code",
      "execution_count": null,
      "metadata": {
        "id": "OmixS-luYHc6"
      },
      "outputs": [],
      "source": []
    }
  ],
  "metadata": {
    "colab": {
      "provenance": []
    },
    "kernelspec": {
      "display_name": "Python 3",
      "name": "python3"
    },
    "language_info": {
      "codemirror_mode": {
        "name": "ipython",
        "version": 3
      },
      "file_extension": ".py",
      "mimetype": "text/x-python",
      "name": "python",
      "nbconvert_exporter": "python",
      "pygments_lexer": "ipython3",
      "version": "3.1.undefined"
    }
  },
  "nbformat": 4,
  "nbformat_minor": 0
}
