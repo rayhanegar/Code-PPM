{
  "cells": [
    {
      "cell_type": "markdown",
      "metadata": {
        "id": "-qDsm6BnME2X"
      },
      "source": [
        "# Praktikum Pengantar Pembelajaran Mesin\n",
        "\n",
        "\n",
        "---\n",
        "## Bab 9. K-Means Clustering\n"
      ]
    },
    {
      "cell_type": "markdown",
      "metadata": {
        "id": "sQAGcnK3MOS7"
      },
      "source": [
        "### 1) Import Data\n",
        "\n",
        "Unduh dataset yang akan digunakan pada praktikum kali ini. Anda dapat menggunakan aplikasi wget untuk mendowload dataset dan menyimpannya dalam Google Colab. Jalankan cell di bawah ini untuk mengunduh dataset"
      ]
    },
    {
      "cell_type": "code",
      "execution_count": 2,
      "metadata": {
        "id": "FpjqVlzBMNLd"
      },
      "outputs": [],
      "source": [
        "#"
      ]
    },
    {
      "cell_type": "markdown",
      "metadata": {
        "id": "SJy4t3lIOgGp"
      },
      "source": [
        "Setelah dataset berhasil diunduh, langkah berikutnya adalah membaca dataset dengan memanfaatkan fungsi **readcsv** dari library pandas. Lakukan pembacaan berkas csv ke dalam dataframe dengan nama **data** menggunakan fungsi **readcsv**. Jangan lupa untuk melakukan import library pandas terlebih dahulu\n"
      ]
    },
    {
      "cell_type": "code",
      "execution_count": 3,
      "metadata": {
        "id": "mdhbxk_2OzbB"
      },
      "outputs": [],
      "source": [
        "import pandas as pd\n",
        "import numpy as np\n",
        "\n",
        "data = pd.read_csv('iris.csv')\n",
        "data.rename(columns={'sepal.length':'sepal length', 'sepal.width':'sepal width', 'petal.length':'petal length', 'petal.width':'petal width'}, inplace=True)\n",
        "data['variety'] = data['variety'].map({'Setosa':'Iris-setosa', 'Virginica':'Iris-virginica', 'Versicolor':'Iris-versicolor'})"
      ]
    },
    {
      "cell_type": "markdown",
      "metadata": {
        "id": "w6NfrIDTOK38"
      },
      "source": [
        "\n",
        "\n",
        "Cek isi dataset Anda dengan menggunakan perintah **head()**"
      ]
    },
    {
      "cell_type": "code",
      "execution_count": 4,
      "metadata": {
        "id": "Uaiaj796OFH3"
      },
      "outputs": [
        {
          "data": {
            "text/html": [
              "<div>\n",
              "<style scoped>\n",
              "    .dataframe tbody tr th:only-of-type {\n",
              "        vertical-align: middle;\n",
              "    }\n",
              "\n",
              "    .dataframe tbody tr th {\n",
              "        vertical-align: top;\n",
              "    }\n",
              "\n",
              "    .dataframe thead th {\n",
              "        text-align: right;\n",
              "    }\n",
              "</style>\n",
              "<table border=\"1\" class=\"dataframe\">\n",
              "  <thead>\n",
              "    <tr style=\"text-align: right;\">\n",
              "      <th></th>\n",
              "      <th>sepal length</th>\n",
              "      <th>sepal width</th>\n",
              "      <th>petal length</th>\n",
              "      <th>petal width</th>\n",
              "      <th>variety</th>\n",
              "    </tr>\n",
              "  </thead>\n",
              "  <tbody>\n",
              "    <tr>\n",
              "      <th>0</th>\n",
              "      <td>5.1</td>\n",
              "      <td>3.5</td>\n",
              "      <td>1.4</td>\n",
              "      <td>0.2</td>\n",
              "      <td>Iris-setosa</td>\n",
              "    </tr>\n",
              "    <tr>\n",
              "      <th>1</th>\n",
              "      <td>4.9</td>\n",
              "      <td>3.0</td>\n",
              "      <td>1.4</td>\n",
              "      <td>0.2</td>\n",
              "      <td>Iris-setosa</td>\n",
              "    </tr>\n",
              "    <tr>\n",
              "      <th>2</th>\n",
              "      <td>4.7</td>\n",
              "      <td>3.2</td>\n",
              "      <td>1.3</td>\n",
              "      <td>0.2</td>\n",
              "      <td>Iris-setosa</td>\n",
              "    </tr>\n",
              "    <tr>\n",
              "      <th>3</th>\n",
              "      <td>4.6</td>\n",
              "      <td>3.1</td>\n",
              "      <td>1.5</td>\n",
              "      <td>0.2</td>\n",
              "      <td>Iris-setosa</td>\n",
              "    </tr>\n",
              "    <tr>\n",
              "      <th>4</th>\n",
              "      <td>5.0</td>\n",
              "      <td>3.6</td>\n",
              "      <td>1.4</td>\n",
              "      <td>0.2</td>\n",
              "      <td>Iris-setosa</td>\n",
              "    </tr>\n",
              "  </tbody>\n",
              "</table>\n",
              "</div>"
            ],
            "text/plain": [
              "   sepal length  sepal width  petal length  petal width      variety\n",
              "0           5.1          3.5           1.4          0.2  Iris-setosa\n",
              "1           4.9          3.0           1.4          0.2  Iris-setosa\n",
              "2           4.7          3.2           1.3          0.2  Iris-setosa\n",
              "3           4.6          3.1           1.5          0.2  Iris-setosa\n",
              "4           5.0          3.6           1.4          0.2  Iris-setosa"
            ]
          },
          "execution_count": 4,
          "metadata": {},
          "output_type": "execute_result"
        }
      ],
      "source": [
        "data.head()"
      ]
    },
    {
      "cell_type": "markdown",
      "metadata": {
        "id": "lfi1uHIxPdDe"
      },
      "source": [
        "## 2) Preprocessing\n",
        "\n",
        "Sebelum dilakukan proses clustering, perlu dilakukan beberapa tahapan pemrosesan awal data. Tahapan pertama adalah memisahkan kelas data dari dataframe, karena algoritma K-Means tidak memerlukan informasi kelas. Pisahkan kelas data ke dalam sebuah variabel bernama kelas."
      ]
    },
    {
      "cell_type": "code",
      "execution_count": 5,
      "metadata": {
        "id": "_5fXx-qrKtrO"
      },
      "outputs": [],
      "source": [
        "kelas = data.pop('variety')"
      ]
    },
    {
      "cell_type": "markdown",
      "metadata": {
        "id": "oonFuuhNK3Lg"
      },
      "source": [
        "Pada praktikum kali ini, kita akan memvisualisasikan data hasil clustering menggunakan [scatter plot](https://en.wikipedia.org/wiki/Scatter_plot). Scatter plot hanya dapat digambarkan dalam bentuk 2 dimensi, dengan demikian data yang digunakan juga hanya terdiri dari 2 fitur. Hapus fitur **petal_length** dan **petal_width** pada data, sehingga fitur yang digunakan adalah **sepal_length** dan **sepal_width**"
      ]
    },
    {
      "cell_type": "code",
      "execution_count": 6,
      "metadata": {
        "id": "jJjfXgfmPTlU"
      },
      "outputs": [],
      "source": [
        "del data['petal length']\n",
        "del data['petal width']"
      ]
    },
    {
      "cell_type": "markdown",
      "metadata": {
        "id": "tBhcsUDYfw2q"
      },
      "source": [
        "Salah satu tahap pada algoritma K-Means adalah perhitungan jarang Euclidean. Agar tidak ada fitur yang mendominasi pada perhitungan jarak, maka perlu dilakukan normalisasi terlebih dahulu agar rentang nilai setiap fitur sama. Implementasikan metode normalisasi min-max menggunakan fungsi bernama **minmax** pada cell di bawah ini. (Catatan : Anda pernah membuat fungsi ini di Praktikum 2)"
      ]
    },
    {
      "cell_type": "code",
      "execution_count": 8,
      "metadata": {
        "id": "6OtySD4efmmQ"
      },
      "outputs": [],
      "source": [
        "def minmax(df_input):\n",
        "    list_fitur = df_input.columns\n",
        "    for fitur in list_fitur:\n",
        "        max = df_input[fitur].max()\n",
        "        min = df_input[fitur].min()\n",
        "        df_input[fitur] = (df_input[fitur]-min)/(max-min)\n",
        "    return df_input"
      ]
    },
    {
      "cell_type": "markdown",
      "metadata": {
        "id": "8lUJOmA7RIOh"
      },
      "source": [
        "Lakukan normalisasi data dan simpan hasilnya pada variabel bernama **data_normal**\n",
        "\n",
        "\n"
      ]
    },
    {
      "cell_type": "code",
      "execution_count": 9,
      "metadata": {
        "id": "V9vT-VQkRQUZ"
      },
      "outputs": [],
      "source": [
        "data_normal = minmax(data)"
      ]
    },
    {
      "cell_type": "markdown",
      "metadata": {
        "id": "rOg1NoS7RXV5"
      },
      "source": [
        "Tampilkan isi dataframe **data_normal**"
      ]
    },
    {
      "cell_type": "code",
      "execution_count": 10,
      "metadata": {
        "id": "aeM_2QbnRbuH"
      },
      "outputs": [
        {
          "data": {
            "text/html": [
              "<div>\n",
              "<style scoped>\n",
              "    .dataframe tbody tr th:only-of-type {\n",
              "        vertical-align: middle;\n",
              "    }\n",
              "\n",
              "    .dataframe tbody tr th {\n",
              "        vertical-align: top;\n",
              "    }\n",
              "\n",
              "    .dataframe thead th {\n",
              "        text-align: right;\n",
              "    }\n",
              "</style>\n",
              "<table border=\"1\" class=\"dataframe\">\n",
              "  <thead>\n",
              "    <tr style=\"text-align: right;\">\n",
              "      <th></th>\n",
              "      <th>sepal length</th>\n",
              "      <th>sepal width</th>\n",
              "    </tr>\n",
              "  </thead>\n",
              "  <tbody>\n",
              "    <tr>\n",
              "      <th>0</th>\n",
              "      <td>0.222222</td>\n",
              "      <td>0.625000</td>\n",
              "    </tr>\n",
              "    <tr>\n",
              "      <th>1</th>\n",
              "      <td>0.166667</td>\n",
              "      <td>0.416667</td>\n",
              "    </tr>\n",
              "    <tr>\n",
              "      <th>2</th>\n",
              "      <td>0.111111</td>\n",
              "      <td>0.500000</td>\n",
              "    </tr>\n",
              "    <tr>\n",
              "      <th>3</th>\n",
              "      <td>0.083333</td>\n",
              "      <td>0.458333</td>\n",
              "    </tr>\n",
              "    <tr>\n",
              "      <th>4</th>\n",
              "      <td>0.194444</td>\n",
              "      <td>0.666667</td>\n",
              "    </tr>\n",
              "    <tr>\n",
              "      <th>...</th>\n",
              "      <td>...</td>\n",
              "      <td>...</td>\n",
              "    </tr>\n",
              "    <tr>\n",
              "      <th>145</th>\n",
              "      <td>0.666667</td>\n",
              "      <td>0.416667</td>\n",
              "    </tr>\n",
              "    <tr>\n",
              "      <th>146</th>\n",
              "      <td>0.555556</td>\n",
              "      <td>0.208333</td>\n",
              "    </tr>\n",
              "    <tr>\n",
              "      <th>147</th>\n",
              "      <td>0.611111</td>\n",
              "      <td>0.416667</td>\n",
              "    </tr>\n",
              "    <tr>\n",
              "      <th>148</th>\n",
              "      <td>0.527778</td>\n",
              "      <td>0.583333</td>\n",
              "    </tr>\n",
              "    <tr>\n",
              "      <th>149</th>\n",
              "      <td>0.444444</td>\n",
              "      <td>0.416667</td>\n",
              "    </tr>\n",
              "  </tbody>\n",
              "</table>\n",
              "<p>150 rows × 2 columns</p>\n",
              "</div>"
            ],
            "text/plain": [
              "     sepal length  sepal width\n",
              "0        0.222222     0.625000\n",
              "1        0.166667     0.416667\n",
              "2        0.111111     0.500000\n",
              "3        0.083333     0.458333\n",
              "4        0.194444     0.666667\n",
              "..            ...          ...\n",
              "145      0.666667     0.416667\n",
              "146      0.555556     0.208333\n",
              "147      0.611111     0.416667\n",
              "148      0.527778     0.583333\n",
              "149      0.444444     0.416667\n",
              "\n",
              "[150 rows x 2 columns]"
            ]
          },
          "execution_count": 10,
          "metadata": {},
          "output_type": "execute_result"
        }
      ],
      "source": [
        "data_normal"
      ]
    },
    {
      "cell_type": "markdown",
      "metadata": {
        "id": "xm_dJNeMgl9u"
      },
      "source": [
        "## 3) Visualisasi data\n",
        "\n",
        "Visualisasi data dilakukan untuk memahami struktur dari data. Informasi ini dapat digunakan untuk mengetahui cara pembentukan cluster yang baik. Visualisasikan **data_normal** menggunakan scatter plot. Gunakan library matplotlib.pyplot"
      ]
    },
    {
      "cell_type": "code",
      "execution_count": 11,
      "metadata": {
        "id": "QNEYOTLsfqld"
      },
      "outputs": [
        {
          "data": {
            "text/plain": [
              "[]"
            ]
          },
          "execution_count": 11,
          "metadata": {},
          "output_type": "execute_result"
        },
        {
          "data": {
            "image/png": "[encoded data removed]",
            "text/plain": [
              "<Figure size 640x480 with 1 Axes>"
            ]
          },
          "metadata": {},
          "output_type": "display_data"
        }
      ],
      "source": [
        "import matplotlib.pyplot as plt\n",
        "\n",
        "warna = {'Iris-setosa':'red',\n",
        "         'Iris-versicolor':'green',\n",
        "         'Iris-virginica':'blue'}\n",
        "\n",
        "plt.scatter(x=data_normal['sepal length'], y=data_normal['sepal width'], c=kelas.map(warna))\n",
        "plt.plot()"
      ]
    },
    {
      "cell_type": "markdown",
      "metadata": {
        "id": "46FZOwFIlkM_"
      },
      "source": [
        "## 4) K-Means Clustering"
      ]
    },
    {
      "cell_type": "markdown",
      "metadata": {
        "id": "4wQfBDujvR_Z"
      },
      "source": [
        "Sebelum mengimplementasikan algoritma K-Means, perlu dilakukan implementasi perhitungan jarak. K-Means pada praktikum ini menggunakan perhitungan jarak Euclidean. Implementasikan perhitungan jarak Euclidean menggunakan fungsi bernama **euclidean** pada cell di bawah ini"
      ]
    },
    {
      "cell_type": "code",
      "execution_count": 12,
      "metadata": {
        "id": "qFB6pLbeikcG"
      },
      "outputs": [],
      "source": [
        "def euclidean(data1, data2):\n",
        "    jarak = np.square(data1-data2)\n",
        "    jarak = np.sum(jarak)\n",
        "    return np.sqrt(jarak)"
      ]
    },
    {
      "cell_type": "markdown",
      "metadata": {
        "id": "GsqCB1ntU020"
      },
      "source": [
        "Langkah selanjutnya adalah implementasi algoritma K-Means. Tahapan-tahapan dalam algoritma K-Means adalah:\n",
        "\n",
        "\n",
        "1.   Penentuan keanggotaan cluster secara acak\n",
        "2.   Hitung centroid berdasarkan data yang ada di masing-masing cluster\n",
        "3.   Alokasikan masing-masing data ke centroid terdekat\n",
        "4.   Kembali ke langkah 2 selama kondisi berhenti belum terpenuhi. Iterasi berhenti jika salah satu kondisi berikut terpenuhi:\n",
        "     a. Tidak ada perubahan keanggotaan cluster\n",
        "     \n",
        "     b. Iterasi melebihi parameter *iter_max*\n",
        "\n",
        "Implementasikan algoritma K-Means menggunakan fungsi bernama **kmeans** pada cell di bawah ini. Fungsi **kmeans** memiliki 3 parameter input, yaitu data, K, dan iter_max\n",
        "\n"
      ]
    },
    {
      "cell_type": "code",
      "execution_count": 16,
      "metadata": {
        "id": "Ca6NaY09SN-R"
      },
      "outputs": [],
      "source": [
        "from random import randint\n",
        "import copy\n",
        "\n",
        "def kmeans(data_input, k, iter_max=200):\n",
        "    n_data = data_input.shape[0]\n",
        "    n_fitur = data_input.shape[1]\n",
        "    iter = 1\n",
        "\n",
        "    cluster = np.array([randint(0, k-1) for i in range(n_data)])\n",
        "    centroid = np.zeros((k, n_fitur))\n",
        "    cluster_tidak_berubah = False\n",
        "\n",
        "    while cluster_tidak_berubah==False and iter<iter_max:\n",
        "        jarak = np.zeros((n_data, k))\n",
        "        for i in range(k):\n",
        "            centroid[i, :] = data_input.iloc[np.where(cluster==i)[0]].mean().tolist()\n",
        "        \n",
        "        for i in range(n_data):\n",
        "            for j in range(k):\n",
        "                jarak[i][j] = euclidean(data_input.iloc[i], centroid[j])\n",
        "\n",
        "        cluster_baru = [np.argmin(jarak[i]) for i in range(n_data)]\n",
        "        cluster_tidak_berubah = np.array_equal(cluster_baru, cluster)\n",
        "        cluster = np.array(copy.deepcopy(cluster_baru))\n",
        "\n",
        "        iter+=1\n",
        "\n",
        "    return cluster\n"
      ]
    },
    {
      "cell_type": "code",
      "execution_count": 17,
      "metadata": {
        "id": "GQ7IoyVCmo4H"
      },
      "outputs": [],
      "source": [
        "cluster = kmeans(data_normal, 3)"
      ]
    },
    {
      "cell_type": "markdown",
      "metadata": {
        "id": "_dTWNYb8KSZt"
      },
      "source": [
        "Tampilkan keanggotaan cluster pada masing-masing data\n"
      ]
    },
    {
      "cell_type": "code",
      "execution_count": 18,
      "metadata": {
        "id": "v_OWCZltFsbj"
      },
      "outputs": [
        {
          "name": "stdout",
          "output_type": "stream",
          "text": [
            "[0 0 0 0 0 0 0 0 0 0 0 0 0 0 0 0 0 0 0 0 0 0 0 0 0 0 0 0 0 0 0 0 0 0 0 0 0\n",
            " 0 0 0 0 2 0 0 0 0 0 0 0 0 1 1 1 2 1 2 1 2 1 2 2 2 2 2 2 1 2 2 2 2 2 2 2 2\n",
            " 1 1 1 1 2 2 2 2 2 2 2 1 1 2 2 2 2 2 2 2 2 2 2 2 2 2 1 2 1 2 1 1 2 1 2 1 1\n",
            " 2 1 2 2 1 1 1 1 2 1 2 1 2 1 1 2 2 2 1 1 1 2 2 2 1 1 1 2 1 1 1 2 1 1 1 2 1\n",
            " 1 2]\n"
          ]
        }
      ],
      "source": [
        "print(cluster)"
      ]
    },
    {
      "cell_type": "markdown",
      "metadata": {
        "id": "evKQehVeU6YC"
      },
      "source": [
        "Tampilkan hasil clustering menggunaka scatter plot"
      ]
    },
    {
      "cell_type": "code",
      "execution_count": 19,
      "metadata": {
        "id": "d8AMFsUoSsLt"
      },
      "outputs": [
        {
          "data": {
            "text/plain": [
              "<matplotlib.collections.PathCollection at 0x1d915bcb6d0>"
            ]
          },
          "execution_count": 19,
          "metadata": {},
          "output_type": "execute_result"
        },
        {
          "data": {
            "image/png": "[encoded data removed]",
            "text/plain": [
              "<Figure size 640x480 with 1 Axes>"
            ]
          },
          "metadata": {},
          "output_type": "display_data"
        }
      ],
      "source": [
        "plt.scatter(data_normal['sepal length'], data_normal['sepal width'], c=cluster)"
      ]
    },
    {
      "cell_type": "markdown",
      "metadata": {
        "id": "ZiDmUxVBuo42"
      },
      "source": [
        "## TUGAS\n",
        "Pada tugas kali ini Anda mengidentifikasikan pasangan fitur apa yang menghasilkan cluster yang ideal pada K-Means menggunakan data Iris.\n",
        "\n",
        "Buatlah plot untuk setiap pasangan fitur yang mungkin."
      ]
    },
    {
      "cell_type": "code",
      "execution_count": null,
      "metadata": {
        "id": "qzcjfgqO_exR"
      },
      "outputs": [],
      "source": []
    },
    {
      "cell_type": "code",
      "execution_count": null,
      "metadata": {
        "id": "RTGps97yj7pp"
      },
      "outputs": [],
      "source": []
    },
    {
      "cell_type": "markdown",
      "metadata": {
        "id": "gh2Q_FgIO_FP"
      },
      "source": [
        "Identifikasikan pasangan fitur apa yang dapat membedakan ketiga kelas dengan baik"
      ]
    },
    {
      "cell_type": "markdown",
      "metadata": {
        "id": "mm0V0vv2mdtO"
      },
      "source": [
        "[Tulis jawaban Anda di sini]"
      ]
    },
    {
      "cell_type": "markdown",
      "metadata": {
        "id": "JQPDwKvWVejo"
      },
      "source": [
        "Lakukan clustering menggunakan K-Means dengan k=3, apakah cluster yang dihasilkan juga terpisah dengan baik? Gunakan scatter plot untuk melihat hasil clustering"
      ]
    },
    {
      "cell_type": "code",
      "execution_count": null,
      "metadata": {
        "id": "nICq1Ce8TVXV"
      },
      "outputs": [],
      "source": []
    },
    {
      "cell_type": "code",
      "execution_count": null,
      "metadata": {
        "id": "qKTVilDgm4CY"
      },
      "outputs": [],
      "source": []
    },
    {
      "cell_type": "markdown",
      "metadata": {
        "id": "CpV5NXFMoC6L"
      },
      "source": [
        "[Apakah hasilnya baik? Mengapa?]"
      ]
    },
    {
      "cell_type": "code",
      "execution_count": null,
      "metadata": {
        "id": "Z6HAvZgooLAY"
      },
      "outputs": [],
      "source": []
    }
  ],
  "metadata": {
    "colab": {
      "provenance": [],
      "toc_visible": true
    },
    "kernelspec": {
      "display_name": "Python 3",
      "name": "python3"
    },
    "language_info": {
      "codemirror_mode": {
        "name": "ipython",
        "version": 3
      },
      "file_extension": ".py",
      "mimetype": "text/x-python",
      "name": "python",
      "nbconvert_exporter": "python",
      "pygments_lexer": "ipython3",
      "version": "3.11.7"
    }
  },
  "nbformat": 4,
  "nbformat_minor": 0
}
