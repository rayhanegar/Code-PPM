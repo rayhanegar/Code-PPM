{
  "cells": [
    {
      "cell_type": "markdown",
      "metadata": {
        "id": "-qDsm6BnME2X"
      },
      "source": [
        "# Praktikum Pengantar Pembelajaran Mesin\n",
        "\n",
        "\n",
        "---\n",
        "## Bab 7. Support Vector Machine (SVM) Lanjutan\n"
      ]
    },
    {
      "cell_type": "markdown",
      "metadata": {
        "id": "sQAGcnK3MOS7"
      },
      "source": [
        "### 1) Import Data\n",
        "\n",
        "Unduh dataset yang akan digunakan pada praktikum kali ini. Anda dapat menggunakan aplikasi wget untuk mendowload dataset dan menyimpannya dalam Google Colab. Jalankan cell di bawah ini untuk mengunduh dataset"
      ]
    },
    {
      "cell_type": "code",
      "execution_count": 1,
      "metadata": {
        "id": "FpjqVlzBMNLd"
      },
      "outputs": [],
      "source": [
        "# ! wget https://dataset-ppm.s3.amazonaws.com/iris.csv"
      ]
    },
    {
      "cell_type": "markdown",
      "metadata": {
        "id": "SJy4t3lIOgGp"
      },
      "source": [
        "Setelah dataset berhasil diunduh, langkah berikutnya adalah membaca dataset dengan memanfaatkan fungsi **readcsv** dari library pandas. Lakukan pembacaan berkas csv ke dalam dataframe dengan nama **data** menggunakan fungsi **readcsv**. Jangan lupa untuk melakukan import library pandas terlebih dahulu\n"
      ]
    },
    {
      "cell_type": "code",
      "execution_count": 2,
      "metadata": {
        "id": "mdhbxk_2OzbB"
      },
      "outputs": [],
      "source": [
        "import pandas as pd\n",
        "import numpy as np\n",
        "\n",
        "data = pd.read_csv('iris.csv')\n",
        "data.rename(columns={'sepal.length':'sepal length', 'sepal.width':'sepal width', 'petal.length':'petal length', 'petal.width':'petal width'}, inplace=True)\n",
        "data['variety'] = data['variety'].map({'Setosa':'Iris-setosa', 'Virginica':'Iris-virginica', 'Versicolor':'Iris-versicolor'})"
      ]
    },
    {
      "cell_type": "markdown",
      "metadata": {
        "id": "w6NfrIDTOK38"
      },
      "source": [
        "\n",
        "\n",
        "Cek isi dataset Anda dengan menggunakan perintah **head()**"
      ]
    },
    {
      "cell_type": "code",
      "execution_count": 3,
      "metadata": {
        "id": "Uaiaj796OFH3"
      },
      "outputs": [
        {
          "data": {
            "text/html": [
              "<div>\n",
              "<style scoped>\n",
              "    .dataframe tbody tr th:only-of-type {\n",
              "        vertical-align: middle;\n",
              "    }\n",
              "\n",
              "    .dataframe tbody tr th {\n",
              "        vertical-align: top;\n",
              "    }\n",
              "\n",
              "    .dataframe thead th {\n",
              "        text-align: right;\n",
              "    }\n",
              "</style>\n",
              "<table border=\"1\" class=\"dataframe\">\n",
              "  <thead>\n",
              "    <tr style=\"text-align: right;\">\n",
              "      <th></th>\n",
              "      <th>sepal length</th>\n",
              "      <th>sepal width</th>\n",
              "      <th>petal length</th>\n",
              "      <th>petal width</th>\n",
              "      <th>variety</th>\n",
              "    </tr>\n",
              "  </thead>\n",
              "  <tbody>\n",
              "    <tr>\n",
              "      <th>0</th>\n",
              "      <td>5.1</td>\n",
              "      <td>3.5</td>\n",
              "      <td>1.4</td>\n",
              "      <td>0.2</td>\n",
              "      <td>Iris-setosa</td>\n",
              "    </tr>\n",
              "    <tr>\n",
              "      <th>1</th>\n",
              "      <td>4.9</td>\n",
              "      <td>3.0</td>\n",
              "      <td>1.4</td>\n",
              "      <td>0.2</td>\n",
              "      <td>Iris-setosa</td>\n",
              "    </tr>\n",
              "    <tr>\n",
              "      <th>2</th>\n",
              "      <td>4.7</td>\n",
              "      <td>3.2</td>\n",
              "      <td>1.3</td>\n",
              "      <td>0.2</td>\n",
              "      <td>Iris-setosa</td>\n",
              "    </tr>\n",
              "    <tr>\n",
              "      <th>3</th>\n",
              "      <td>4.6</td>\n",
              "      <td>3.1</td>\n",
              "      <td>1.5</td>\n",
              "      <td>0.2</td>\n",
              "      <td>Iris-setosa</td>\n",
              "    </tr>\n",
              "    <tr>\n",
              "      <th>4</th>\n",
              "      <td>5.0</td>\n",
              "      <td>3.6</td>\n",
              "      <td>1.4</td>\n",
              "      <td>0.2</td>\n",
              "      <td>Iris-setosa</td>\n",
              "    </tr>\n",
              "  </tbody>\n",
              "</table>\n",
              "</div>"
            ],
            "text/plain": [
              "   sepal length  sepal width  petal length  petal width      variety\n",
              "0           5.1          3.5           1.4          0.2  Iris-setosa\n",
              "1           4.9          3.0           1.4          0.2  Iris-setosa\n",
              "2           4.7          3.2           1.3          0.2  Iris-setosa\n",
              "3           4.6          3.1           1.5          0.2  Iris-setosa\n",
              "4           5.0          3.6           1.4          0.2  Iris-setosa"
            ]
          },
          "execution_count": 3,
          "metadata": {},
          "output_type": "execute_result"
        }
      ],
      "source": [
        "data.head()"
      ]
    },
    {
      "cell_type": "markdown",
      "metadata": {
        "id": "lfi1uHIxPdDe"
      },
      "source": [
        "## 2) Membagi data menjadi data latih dan data uji\n",
        "\n",
        "Metode pembelajaran mesin memerlukan dua jenis data :\n",
        "\n",
        "\n",
        "1.   Data latih : Digunakan untuk proses training metode klasifikasi\n",
        "2.   Data uji : Digunakan untuk proses evaluasi metode klasifikasi\n",
        "\n",
        "Data uji dan data latih perlu dibuat terpisah (mutualy exclusive) agar hasil evaluasi lebih akurat.\n",
        "\n",
        "Data uji dan data latih dapat dibuat dengan cara membagi dataset dengan rasio tertentu, misalnya 80% data latih dan 20% data uji.\n",
        "\n",
        "Library Scikit-learn memiliki fungsi [train_test_split](https://scikit-learn.org/stable/modules/generated/sklearn.model_selection.train_test_split.html) pada modul **model_selection** untuk membagi dataset menjadi data latih dan data uji. Bagilah dataset anda menjadi dua, yaitu **data_latih** dan **data_uji**.\n"
      ]
    },
    {
      "cell_type": "code",
      "execution_count": 4,
      "metadata": {
        "id": "jJjfXgfmPTlU"
      },
      "outputs": [],
      "source": [
        "from sklearn.model_selection import train_test_split\n",
        "data_latih, data_uji = train_test_split(data, test_size=.2)"
      ]
    },
    {
      "cell_type": "markdown",
      "metadata": {
        "id": "tBhcsUDYfw2q"
      },
      "source": [
        "Tampilkan banyaknya data pada **data_latih** dan **data_uji**. Seharusnya **data_latih** terdiri dari 120 data, dan **data_uji** terdiri dari 30 data"
      ]
    },
    {
      "cell_type": "code",
      "execution_count": 5,
      "metadata": {
        "id": "6OtySD4efmmQ"
      },
      "outputs": [
        {
          "name": "stdout",
          "output_type": "stream",
          "text": [
            "(30, 5)\n",
            "(120, 5)\n"
          ]
        }
      ],
      "source": [
        "print(data_uji.shape)\n",
        "print(data_latih.shape)"
      ]
    },
    {
      "cell_type": "markdown",
      "metadata": {
        "id": "wgTwVS4ofSj4"
      },
      "source": [
        "Pisahkan label/kelas dari data uji menjadi sebuah variabel bernama **label_uji**"
      ]
    },
    {
      "cell_type": "code",
      "execution_count": 6,
      "metadata": {
        "id": "9h3Xynf-fcf5"
      },
      "outputs": [],
      "source": [
        "label_uji = data_uji.pop('variety')"
      ]
    },
    {
      "cell_type": "markdown",
      "metadata": {
        "id": "ub4I9YOp-pWS"
      },
      "source": [
        "## 3) Pembentukan data latih one-vs-rest\n",
        "\n",
        "Metode one-vs-rest memerlukan tiga jenis data latih yang diperlukan untuk melatih tiga SVM yang berbeda pada dataset Iris. Fungsi **buat_trainingset** digunakan untuk membentuk tiga dataset tersebut."
      ]
    },
    {
      "cell_type": "code",
      "execution_count": 7,
      "metadata": {
        "id": "14SDqJcZAXZc"
      },
      "outputs": [],
      "source": [
        "def buat_trainingset(dataset):\n",
        "    trainingset = {}\n",
        "    kolom_kelas = dataset.columns[-1]\n",
        "    print(\"Kolom kelas: \", kolom_kelas)\n",
        "    list_kelas = dataset[kolom_kelas].value_counts()\n",
        "    list_kelas = list_kelas.keys()\n",
        "    print(\"Kelas unik: \", list_kelas)\n",
        "    \n",
        "    for kelas in list_kelas:\n",
        "        data_temp = dataset.copy(deep=True)\n",
        "        data_temp[kolom_kelas] = data_temp[kolom_kelas].map({kelas:1})\n",
        "        data_temp[kolom_kelas] = data_temp[kolom_kelas].fillna(-1)\n",
        "        trainingset[kelas] = data_temp\n",
        "    \n",
        "    return trainingset\n"
      ]
    },
    {
      "cell_type": "markdown",
      "metadata": {
        "id": "OJOAgFQXJXa7"
      },
      "source": [
        "Gunakan fungsi **buat_trainingset** untuk membentuk data latih dengan nama variabel **trainingset** yang akan digunakan pada proses training."
      ]
    },
    {
      "cell_type": "code",
      "execution_count": 8,
      "metadata": {
        "id": "JKYH8PKq-sR1"
      },
      "outputs": [
        {
          "name": "stdout",
          "output_type": "stream",
          "text": [
            "Kolom kelas:  variety\n",
            "Kelas unik:  Index(['Iris-versicolor', 'Iris-virginica', 'Iris-setosa'], dtype='object', name='variety')\n"
          ]
        }
      ],
      "source": [
        "trainingset = buat_trainingset(data_latih)"
      ]
    },
    {
      "cell_type": "markdown",
      "metadata": {
        "id": "ibORqyA-KOPh"
      },
      "source": [
        "Tampilkan isi **trainingset** agar Anda dapat memahami struktur dari variabel tersebut."
      ]
    },
    {
      "cell_type": "code",
      "execution_count": 9,
      "metadata": {
        "id": "-g21oKqbKR4X"
      },
      "outputs": [
        {
          "name": "stdout",
          "output_type": "stream",
          "text": [
            "     sepal length  sepal width  petal length  petal width  variety\n",
            "57            4.9          2.4           3.3          1.0      1.0\n",
            "12            4.8          3.0           1.4          0.1     -1.0\n",
            "81            5.5          2.4           3.7          1.0      1.0\n",
            "106           4.9          2.5           4.5          1.7     -1.0\n",
            "30            4.8          3.1           1.6          0.2     -1.0\n",
            "..            ...          ...           ...          ...      ...\n",
            "137           6.4          3.1           5.5          1.8     -1.0\n",
            "123           6.3          2.7           4.9          1.8     -1.0\n",
            "48            5.3          3.7           1.5          0.2     -1.0\n",
            "68            6.2          2.2           4.5          1.5      1.0\n",
            "66            5.6          3.0           4.5          1.5      1.0\n",
            "\n",
            "[120 rows x 5 columns]\n"
          ]
        }
      ],
      "source": [
        "print(trainingset['Iris-versicolor'])"
      ]
    },
    {
      "cell_type": "markdown",
      "metadata": {
        "id": "Ikiam_bv8sM1"
      },
      "source": [
        "## 4) Pembentukan SVM Biner"
      ]
    },
    {
      "cell_type": "markdown",
      "metadata": {
        "id": "t6-boIzy9UJ2"
      },
      "source": [
        "Tujuan dari algoritma SVM adalah meminimalkan nilai *cost function*. Penghitungan nilai minimal dapat dapat dilakukan dengan menghitung nilai gradien dari *cost function* terlebih dahulu. Fungsi di bawah ini berguna untuk menghitung nilai gradien cost function"
      ]
    },
    {
      "cell_type": "code",
      "execution_count": 10,
      "metadata": {
        "id": "Kq63208e_7b0"
      },
      "outputs": [],
      "source": [
        "def hitung_cost_gradient(W, X, Y, regularization):\n",
        "    jarak = 1 - (Y * np.dot(X, W))\n",
        "    dw = np.zeros(len(W))\n",
        "    if max(0, jarak)==0:\n",
        "        di = W\n",
        "    else:\n",
        "        di = W - (regularization * Y * X)\n",
        "    dw += di\n",
        "    return dw"
      ]
    },
    {
      "cell_type": "markdown",
      "metadata": {
        "id": "sYGiwWxO9z1j"
      },
      "source": [
        "Terdapat beberapa cara untuk meminimalkan nilai *cost function*, salah satunya menggunakan Stochastic Gradient Descent (SGD) untuk melakukan minimasi. Minimasi *cost function* merupakan inti dari algoritma SVM. Fungsi di bawah ini merupakan implementasi algoritma SGD"
      ]
    },
    {
      "cell_type": "code",
      "execution_count": 11,
      "metadata": {
        "id": "ERaoSW0kBCVA"
      },
      "outputs": [],
      "source": [
        "from sklearn.utils import shuffle\n",
        "\n",
        "def sgd(data_latih, label_latih, learning_rate=1e-6, max_epoch=1000, regularization=10000):\n",
        "    data_latih = data_latih.to_numpy()\n",
        "    label_latih = label_latih.to_numpy()\n",
        "    bobot = np.zeros(data_latih.shape[1])\n",
        "\n",
        "    for epoch in range(1, max_epoch):\n",
        "        X, Y = shuffle(data_latih, label_latih, random_state=101)\n",
        "        for index, x in enumerate(X):\n",
        "            delta = hitung_cost_gradient(bobot, x, Y[index], regularization)\n",
        "            bobot = bobot - (learning_rate * delta)\n",
        "\n",
        "    return bobot"
      ]
    },
    {
      "cell_type": "markdown",
      "metadata": {
        "id": "e0mWl4NsNsLr"
      },
      "source": [
        "## 5) Proses Training"
      ]
    },
    {
      "cell_type": "markdown",
      "metadata": {
        "id": "FaTWcv7dAu7t"
      },
      "source": [
        "Proses training dilakukan dengan memanggil fungsi **sgd** berulang kali sesuai banyaknya kelas yang ada pada data. Dengan demikian, proses training menghasilkan bobot sebanyak kelas yang ada pada dataset. Buatlah fungsi bernama **training** yang digunakan untuk melakukan proses training one-vs-rest"
      ]
    },
    {
      "cell_type": "code",
      "execution_count": 12,
      "metadata": {
        "id": "smXjlFIRFRxz"
      },
      "outputs": [],
      "source": [
        "def training(trainingset):\n",
        "    list_kelas = trainingset.keys()\n",
        "    W = {}\n",
        "    for kelas in list_kelas:\n",
        "        data_latih = trainingset[kelas]\n",
        "        label_latih = data_latih[data_latih.columns[-1]]\n",
        "        data_latih = data_latih[data_latih.columns[:-1]]\n",
        "        W[kelas] = sgd(data_latih=data_latih, label_latih=label_latih)\n",
        "    return W"
      ]
    },
    {
      "cell_type": "markdown",
      "metadata": {
        "id": "pLiw-ZCVPy6J"
      },
      "source": [
        "Lakukan proses training dengan memanggil fungsi **training** dan menempatkan hasilnya pada variabel **W**"
      ]
    },
    {
      "cell_type": "code",
      "execution_count": 13,
      "metadata": {
        "id": "cxO4ztvWGFlb"
      },
      "outputs": [],
      "source": [
        "W = training(trainingset)"
      ]
    },
    {
      "cell_type": "markdown",
      "metadata": {
        "id": "Utg8hqFdQJDe"
      },
      "source": [
        "Tampilkan isi variabel **W**"
      ]
    },
    {
      "cell_type": "code",
      "execution_count": 14,
      "metadata": {
        "id": "okhxKfw9C31G"
      },
      "outputs": [
        {
          "data": {
            "text/plain": [
              "{'Iris-versicolor': array([ 0.87398409, -1.82939541,  1.16589559, -3.27004809]),\n",
              " 'Iris-virginica': array([-3.85200894, -3.9357549 ,  5.91048345,  4.40903132]),\n",
              " 'Iris-setosa': array([ 0.22207839,  0.64870486, -1.00917931, -0.46355615])}"
            ]
          },
          "execution_count": 14,
          "metadata": {},
          "output_type": "execute_result"
        }
      ],
      "source": [
        "W"
      ]
    },
    {
      "cell_type": "markdown",
      "metadata": {
        "id": "M6UR7tpm1YQ_"
      },
      "source": [
        "## 6) Proses *testing* biner\n",
        "Proses testing dilakukan dengan menghitung nilai [*dot product*](https://en.wikipedia.org/wiki/Dot_product) antara bobot hasil training dengan data uji. Kelas data ditentukan berdasarkan tanda (positif atau negatif) dari hasil dot product tersebut. Fungsi berikut mengimplementasikan proses testing"
      ]
    },
    {
      "cell_type": "code",
      "execution_count": 15,
      "metadata": {
        "id": "GFrDgAtU7umG"
      },
      "outputs": [],
      "source": [
        "def testing(W, data_uji):\n",
        "    prediksi = np.array([])\n",
        "    for i in range(data_uji.shape[0]):\n",
        "        y_prediksi = np.sign(np.dot(W, data_uji.to_numpy()[i]))\n",
        "        prediksi = np.append(prediksi, y_prediksi)\n",
        "    return prediksi"
      ]
    },
    {
      "cell_type": "markdown",
      "metadata": {
        "id": "ZiDmUxVBuo42"
      },
      "source": [
        "## TUGAS\n",
        "Pada tugas kali ini Anda mendefinisikan proses testing pada metode one-vs-rest. Proses testing pada metode one-vs-rest dilakukan dengan memanggil proses testing biner untuk setiap **value** pada dictionary **W**. Kelas pada sebuah data latih adalah **key** pada dictionary **W** yang memiliki nilai prediksi **1**. Lengkapi fungsi **testing_onevsrest** di bawah ini. Output dari fungsi tersebut adalah list nama kelas hasil prediksi."
      ]
    },
    {
      "cell_type": "code",
      "execution_count": 16,
      "metadata": {
        "id": "yVQ5YesFGLH5"
      },
      "outputs": [],
      "source": [
        "def testing_onevsrest(W,data_uji):\n",
        "  \n",
        "  list_kelas = W.keys()\n",
        "  kelas_prediksi = [None] * data_uji.shape[0]\n",
        "  \n",
        "  for kelas in list_kelas:\n",
        "    current_weight = W[kelas]\n",
        "    current_pred = testing(W=current_weight, data_uji=data_uji)\n",
        "\n",
        "    for i in range(len(current_pred)):\n",
        "      if current_pred[i] == 1:\n",
        "        if kelas_prediksi[i] == None:\n",
        "          kelas_prediksi[i] = kelas\n",
        "        else:\n",
        "          kelas_prediksi == \"N/A\"\n",
        "  \n",
        "  return kelas_prediksi"
      ]
    },
    {
      "cell_type": "code",
      "execution_count": 20,
      "metadata": {
        "id": "gG4hTpFjiGqo"
      },
      "outputs": [],
      "source": [
        "label_prediksi = testing_onevsrest(W, data_uji)"
      ]
    },
    {
      "cell_type": "markdown",
      "metadata": {
        "id": "wBeuhb2Vmimg"
      },
      "source": [
        "Berapa banyak data latih yang berhasil diprediksi dengan benar?"
      ]
    },
    {
      "cell_type": "code",
      "execution_count": 21,
      "metadata": {
        "id": "0gAyDrOVjxVU"
      },
      "outputs": [],
      "source": [
        "def accuracy(label_prediksi, label_uji):\n",
        "    return sum(label_prediksi==label_uji)"
      ]
    },
    {
      "cell_type": "code",
      "execution_count": 22,
      "metadata": {
        "id": "4ZSkRsaqixgL"
      },
      "outputs": [
        {
          "name": "stdout",
          "output_type": "stream",
          "text": [
            "21\n"
          ]
        }
      ],
      "source": [
        "accuracy = accuracy(label_prediksi, label_uji)\n",
        "print(accuracy)"
      ]
    },
    {
      "cell_type": "markdown",
      "metadata": {},
      "source": [
        "## Simpulan"
      ]
    },
    {
      "cell_type": "markdown",
      "metadata": {},
      "source": [
        "Pada praktikum kali ini, dibuat sebuah model Support Vector Machine (SVM) pada dataset Iris dengan tipe 'One-vs-Rest'. Pada model SVM 'One-vs-Rest', permasalahan klasifikasi dibagi menjadi \\frac{n*(n-1)}{2} permasalahan, dengan n menyatakan banyaknya kelas.\n",
        "- Pada proses training, dibentuk 3 jenis training data untuk masing-masing kelas: target class disimbolkan 1 untuk semua data pada kelas tersebut, dan lainnya -1.\n",
        "- Untuk masing-masing training data, dibentuk sebuah hyperplane yang mengklasifikasikan kelas tersebut dari kelas lainnya. Sehingga, dengan 3 kelas dan 3 training data, akan didapatkan 3 hyperplane berbeda. Untuk masing-masing hyperplane, weight tiap variable didapatkan dengan menjalankan fungsi minimasi _cost-function_ dengan _Stochastic Gradient Descent_ (SGD).\n",
        "- Model akhir merupakan perpaduan/union ketiga hyperplane. Oleh karenanya, beberapa hyperplane memungkinkan adanya overlap area ataupun area yang tidak termasuk ke dalam ketiga hyperplane.\n",
        "- Proses klasifikasi dilakukan dengan melakukan komparasi hasil prediksi masing-masing hyperplane dalam bentuk one-hot encoding. Suatu datapoint akan dimasukkan ke dalam kelas jika model memberikan label '1' untuk salah satu kelas. Akan tetapi, bisa ditemukan kejadian di mana sebuah datapoint masuk ke dalam dua atau lebih kelas dikarenakan adanya area overlap pada hyperplane ataupun datapoint tersebut tidak masuk ke kelas manapun.\n",
        "- Hasil akhir pada model ini menunjukkan akurasi sebesar 70%, di mana 21 dari 30 data uji berhasil diklasifikasikan ke kelas yang benar.  "
      ]
    }
  ],
  "metadata": {
    "colab": {
      "provenance": [],
      "toc_visible": true
    },
    "kernelspec": {
      "display_name": "Python 3",
      "name": "python3"
    },
    "language_info": {
      "codemirror_mode": {
        "name": "ipython",
        "version": 3
      },
      "file_extension": ".py",
      "mimetype": "text/x-python",
      "name": "python",
      "nbconvert_exporter": "python",
      "pygments_lexer": "ipython3",
      "version": "3.11.7"
    }
  },
  "nbformat": 4,
  "nbformat_minor": 0
}
